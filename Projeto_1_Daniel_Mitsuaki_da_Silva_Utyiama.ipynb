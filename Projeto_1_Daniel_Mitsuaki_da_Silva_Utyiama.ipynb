{
  "nbformat": 4,
  "nbformat_minor": 0,
  "metadata": {
    "kernelspec": {
      "display_name": "tf2beta_py36",
      "language": "python",
      "name": "tf2beta_py36"
    },
    "language_info": {
      "codemirror_mode": {
        "name": "ipython",
        "version": 3
      },
      "file_extension": ".py",
      "mimetype": "text/x-python",
      "name": "python",
      "nbconvert_exporter": "python",
      "pygments_lexer": "ipython3",
      "version": "3.6.5"
    },
    "colab": {
      "name": "Projeto_1_Daniel_Mitsuaki_da_Silva_Utyiama.ipynb",
      "provenance": [],
      "collapsed_sections": [],
      "include_colab_link": true
    }
  },
  "cells": [
    {
      "cell_type": "markdown",
      "metadata": {
        "id": "view-in-github",
        "colab_type": "text"
      },
      "source": [
        "<a href=\"https://colab.research.google.com/github/Utyiama/ammd/blob/main/Projeto_1_Daniel_Mitsuaki_da_Silva_Utyiama.ipynb\" target=\"_parent\"><img src=\"https://colab.research.google.com/assets/colab-badge.svg\" alt=\"Open In Colab\"/></a>"
      ]
    },
    {
      "cell_type": "markdown",
      "metadata": {
        "id": "LSl5URNEnftZ"
      },
      "source": [
        "<table style=\"width: 100%; margin-left: auto; margin-right: auto; background-color: white;\">\n",
        "<tbody>\n",
        "<tr>\n",
        "\n",
        "<td style=\"text-align: center; width: 12%;\">\n",
        "\n",
        "<img height =\"200px\" src=\"https://iconape.com/wp-content/png_logo_vector/brasao-da-republica-do-brasil-logo.png\" alt=\"\" />\n",
        "</td>\n",
        "\n",
        "<td style=\"width: 68%;\">\n",
        "<h2 style=\"text-align: center; margin-top: 1%;\">Rep&uacute;blica Federativa do Brasil</h2>\n",
        "<h2 style=\"text-align: center; margin-top: 1%;\">Minist&eacute;rio da Educa&ccedil;&atilde;o</h2>\n",
        "<h2 style=\"text-align: center; margin-top: 1%;\">Universidade Federal do Amazonas</h2>\n",
        "<h2 style=\"text-align: center; margin-top: 1%;\">Instituto de Computa&ccedil;&atilde;o</h2>\n",
        "</td>\n",
        "\n",
        "<td style=\"width: 12%;\"><img height =\"200px\" src=\"http://2016.igem.org/wiki/images/2/23/Ufam_uea_ufam.png\" alt=\"\" /></td>\n",
        "\n",
        "</tr>\n",
        "</tbody>\n",
        "</table>\n",
        "\n",
        "---\n",
        "\n",
        "# Aprendizado de Máquina e Mineração de Dados\n",
        "## Lista Prática de Análise de Dados, abril/2021\n",
        "\n",
        "_Professor Dr. Marco Cristo_"
      ]
    },
    {
      "cell_type": "markdown",
      "metadata": {
        "id": "rlft_FJVnftg"
      },
      "source": [
        "**Aluno:**  `Daniel Mitsuaki da Silva Utyiama` <br>\n",
        "**E-mail:** `daniel.utyiama@icomp.ufam.edu.br`"
      ]
    },
    {
      "cell_type": "markdown",
      "metadata": {
        "id": "i78wLdihnfth"
      },
      "source": [
        "### Introdução"
      ]
    },
    {
      "cell_type": "markdown",
      "metadata": {
        "id": "XHg2vUBmnfth"
      },
      "source": [
        "Neste trabalho vamos analisar os dados do PISA 2012. O PISA (Programme for International Student Assessment) é uma rede mundial de avaliação de desempenho escolar coordenado pela OCDE (Organização para a Cooperação e Desenvolvimento Econômico -- Organisation for Economic Co-operation and Development), com o objetivo de melhorar políticas nacionais de educação. Para tanto, testes são realizados em dezenas de países a cada três anos avaliando, em geral, a capacidade de alunos de cerca de 15 anos em Leitura (no idioma do seu país), Matemática e Ciências.\n",
        "\n",
        "O PISA 2012 foi o 5o survey realizado, cobrindo 65 países e 510 mil estudantes com idades entre 14,5 e 16 anos. A amostra, embora imperfeita, tentou representar uma população mundial de 28 milhões de estudantes. Como é comum, seu maior foco foi em Matemática. No caso do Brasil, participaram alunos de instituições escolares públicas, particulares, rurais e urbanas, tendo sido  amostrados estudantes cursando desde a 7a. série do Ensino Fundamental até qualquer ano do Ensino Médio.\n",
        "\n",
        "O teste em si, escrito, dura 2 horas e inclui questões discursivas e de múltipla escolha. Estudantes e diretores de escolas também responderam questionários acerca do contexto e história dos estudantes, da escola, das experiências de aprendizagem, do sistema escolar e do ambiente de aprendizagem.\n",
        "\n",
        "Os dados a serem avalidos neste trabalho incluem, para cada aluno, informações sobre o seu desempenho no teste (já normalizados considerando idade, formação na época do teste e particularidades das amostras dos vários países) e informações associadas aos questionários respondidos. Embora vários países tenham sido avaliados em resolução criativa de problemas e educação financeira, na base explorada neste trabalho, não incluimos estes dados.\n",
        "\n",
        "O objetivo deste trabalho é analisar os dados disponíveis, considerando amostras com um número limitado de países, e escrever um modelo de previsão para o desepenho dos alunos em Matemática. Cada amostra e países sempre inclui o Brasil (para que possamos comparar nosso desempenho em relação ao resto do mundo), a China (que teve um desempenho muito acima dos demais países, em especial, por ter usado uma amostra restrita a quatro cidades: Pequim, Xangai, Jiangsu e Zhejiang) e, pelo menos, outros 18 países dentre os demais participantes."
      ]
    },
    {
      "cell_type": "markdown",
      "metadata": {
        "id": "PWWQR9lXnfth"
      },
      "source": [
        "### Preliminares"
      ]
    },
    {
      "cell_type": "code",
      "metadata": {
        "id": "lsUyeGHlnfti"
      },
      "source": [
        "# Usar versão do Python 3.5 ou superior\n",
        "\n",
        "# Imports\n",
        "import numpy as np\n",
        "import scipy.stats as stats\n",
        "import pandas as pd\n",
        "from tqdm.notebook import tqdm\n",
        "\n",
        "import sklearn\n",
        "import sys\n",
        "import os \n",
        "\n",
        "import matplotlib.pyplot as plt\n",
        "from matplotlib import cm, colors\n",
        "%matplotlib inline"
      ],
      "execution_count": null,
      "outputs": []
    },
    {
      "cell_type": "code",
      "metadata": {
        "id": "_JfnWEEDnfti"
      },
      "source": [
        "def global_background_gradient(s, m, M, cmap='PuBu', low=0, high=0):\n",
        "    rng = M - m\n",
        "    norm = colors.Normalize(m - (rng * low),\n",
        "                            M + (rng * high))\n",
        "    normed = norm(s.values)\n",
        "    c = [colors.rgb2hex(x) for x in plt.cm.get_cmap(cmap)(normed)]\n",
        "    return ['background-color: %s' % color for color in c]"
      ],
      "execution_count": null,
      "outputs": []
    },
    {
      "cell_type": "code",
      "metadata": {
        "scrolled": true,
        "id": "mHGOYZpAnftj",
        "colab": {
          "base_uri": "https://localhost:8080/"
        },
        "outputId": "c9b537d6-8c76-4dc1-c002-b4cf89f22aca"
      },
      "source": [
        "print(\"Python\", sys.version)\n",
        "print(\"--------\")\n",
        "print(\"Pandas:\", pd.__version__)\n",
        "print(\"Numpy:\", np.__version__)\n",
        "print(\"SKLearn:\", sklearn.__version__)"
      ],
      "execution_count": null,
      "outputs": [
        {
          "output_type": "stream",
          "text": [
            "Python 3.7.10 (default, May  3 2021, 02:48:31) \n",
            "[GCC 7.5.0]\n",
            "--------\n",
            "Pandas: 1.1.5\n",
            "Numpy: 1.19.5\n",
            "SKLearn: 0.22.2.post1\n"
          ],
          "name": "stdout"
        }
      ]
    },
    {
      "cell_type": "markdown",
      "metadata": {
        "id": "cDhPRyxknftj"
      },
      "source": [
        "De acordo com o seu nome, escolha a lista de países que corresponde à sua amostra de dados. Se você não estiver listado abaixo, solicite sua lista do professor."
      ]
    },
    {
      "cell_type": "code",
      "metadata": {
        "id": "f94h6ocJnftk"
      },
      "source": [
        "paises_por_aluno = {'ARTHUR BINDA ALVES': ['Bulgaria', 'New Zealand', 'Portugal', 'United Arab Emirates', \n",
        "                                           'Liechtenstein', 'Luxembourg', 'Mexico', 'China', 'Greece', \n",
        "                                           'Iceland', 'Peru', 'Spain', 'South Korea', 'Belgium', \n",
        "                                           'Israel', 'Poland', 'Canada', 'Brazil', 'Uruguay', \n",
        "                                           'Slovak Republic', 'Slovenia'], \n",
        "                    'BEATRIZ ALBUQUERQUE RODRIGUES': ['Portugal', 'Liechtenstein', 'Romania', 'Argentina', \n",
        "                                                      'China', 'Indonesia', 'Greece', 'Iceland', \n",
        "                                                      'Kazakhstan', 'United States', 'Costa Rica', \n",
        "                                                      'Czech Republic', 'Australia', 'United Kingdom', \n",
        "                                                      'Serbia', 'Estonia', 'South Korea', 'Qatar', \n",
        "                                                      'Austria', 'Canada', 'Brazil', 'Slovak Republic'], \n",
        "                    'BRAULIO HENRIQUE O UCHOA VELOSO PINTO': ['New Zealand', 'China', 'Malaysia', 'Denmark', \n",
        "                                                              'Kazakhstan', 'Thailand', 'United States', \n",
        "                                                              'Colombia', 'Australia', 'Italy', 'France', \n",
        "                                                              'Lithuania', 'Tunisia', 'Estonia', \n",
        "                                                              'South Korea', 'Belgium', 'Japan', 'Israel', \n",
        "                                                              'Canada', 'Brazil', 'Russia', 'Montenegro'], \n",
        "                    'BRENDO RODRIGO SOUZA DE MATOS': ['Bulgaria', 'Portugal', 'United Arab Emirates', \n",
        "                                                      'Albania', 'Mexico', 'China', 'Malaysia', \n",
        "                                                      'Greece', 'Iceland', 'United States', 'Germany', \n",
        "                                                      'Czech Republic', 'Italy', 'Latvia', 'United Kingdom', \n",
        "                                                      'Estonia', 'Qatar', 'Taiwan', 'Japan', 'Israel', \n",
        "                                                      'Canada', 'Brazil'], \n",
        "                    'DANIEL MITSUAKI DA SILVA UTYIAMA': ['United Arab Emirates', 'Albania', 'China', \n",
        "                                                         'Denmark', 'Turkey', 'Thailand', 'United States', \n",
        "                                                         'Colombia', 'Costa Rica', 'Ireland', \n",
        "                                                         'Czech Republic', 'Italy', 'Latvia', 'Japan', \n",
        "                                                         'Taiwan', 'Israel', 'Poland', 'Vietnam', \n",
        "                                                         'Canada', 'Brazil', 'Uruguay', 'Russia'], \n",
        "                    'KATIELY DOS SANTOS OLIVEIRA MOREIRA': ['Netherlands', 'Croatia', 'United Arab Emirates', \n",
        "                                                            'Liechtenstein', 'Albania', 'Luxembourg', \n",
        "                                                            'Chile', 'China', 'Peru', 'Costa Rica', \n",
        "                                                            'Australia', 'Latvia', 'United Kingdom', \n",
        "                                                            'Lithuania', 'Belgium', 'Finland', 'Austria', \n",
        "                                                            'Brazil', 'Hungary', 'Slovenia', 'Montenegro'], \n",
        "                    'LENNON CORREA CHAVES': ['Romania', 'Luxembourg', 'Mexico', 'Argentina', 'China', \n",
        "                                             'Turkey', 'Peru', 'Thailand', 'Czech Republic', 'Australia', \n",
        "                                             'France', 'Serbia', 'Norway', 'Qatar', 'Japan', 'Finland', \n",
        "                                             'Poland', 'Austria', 'Brazil', 'Russia', 'Slovenia'], \n",
        "                    'LETICIA CARVALHO PASSOS': ['Croatia', 'New Zealand', 'United Arab Emirates', \n",
        "                                                'Liechtenstein', 'Romania', 'Argentina', 'China', \n",
        "                                                'Indonesia', 'United States', 'Costa Rica', 'Spain', \n",
        "                                                'Czech Republic', 'Italy', 'Latvia', 'Lithuania', \n",
        "                                                'Tunisia', 'South Korea', 'Belgium', 'Norway', \n",
        "                                                'Vietnam', 'Brazil', 'Sweden'], \n",
        "                    'MARIA LUISA PEREIRA BRAGA': ['Bulgaria', 'New Zealand', 'Singapore', 'Chile', \n",
        "                                                  'China', 'Malaysia', 'Turkey', 'Iceland', 'Colombia', \n",
        "                                                  'Ireland', 'Italy', 'Serbia', 'Estonia', 'South Korea', \n",
        "                                                  'Belgium', 'Qatar', 'Finland', 'Brazil', \n",
        "                                                  'Slovak Republic', 'Hungary', 'Slovenia', 'Montenegro'], \n",
        "                    'MARIELA MIZOTA TAMADA': ['Netherlands', 'Croatia', 'Bulgaria', 'Argentina', 'China', \n",
        "                                              'Indonesia', 'Greece', 'Thailand', 'Ireland', 'Spain', \n",
        "                                              'United Kingdom', 'Estonia', 'Norway', 'Taiwan', 'Vietnam', \n",
        "                                              'Canada', 'Brazil', 'Uruguay', 'Hungary', 'Russia', 'Jordan'], \n",
        "                    'MICHAEL MARLON FIGUEIRA DA COSTA': ['Netherlands', 'Croatia', 'Bulgaria', 'Singapore',\n",
        "                                                         'Mexico', 'Chile', 'China', 'Costa Rica', \n",
        "                                                         'Czech Republic', 'Latvia', 'France', \n",
        "                                                         'United Kingdom', 'Serbia', 'Tunisia', 'Norway', \n",
        "                                                         'Taiwan', 'Finland', 'Austria', 'Brazil', \n",
        "                                                         'Russia', 'Slovenia'], \n",
        "                    'MILKA ROMÃO BEZERRA PAHETA': ['Netherlands', 'Croatia', 'New Zealand', 'Singapore', \n",
        "                                                   'Albania', 'Luxembourg', 'Chile', 'China', 'Malaysia', \n",
        "                                                   'Thailand', 'Colombia', 'Ireland', 'Spain', \n",
        "                                                   'Czech Republic', 'Italy', 'Lithuania', 'South Korea', \n",
        "                                                   'Austria', 'Brazil', 'Uruguay', 'Russia', 'Slovenia'], \n",
        "                    'PABLO DIEGO DE AZEVEDO QUIROGA': ['Croatia', 'Bulgaria', 'New Zealand', 'Portugal', \n",
        "                                                       'Singapore', 'Albania', 'Luxembourg', 'Argentina', \n",
        "                                                       'China', 'Denmark', 'Iceland', 'Thailand', 'France', \n",
        "                                                       'Tunisia', 'South Korea', 'Belgium', 'Israel', \n",
        "                                                       'Vietnam', 'Switzerland', 'Brazil', 'Uruguay', 'Sweden'], \n",
        "                    'SAMANTHA CORRÊA LEITE': ['United Arab Emirates', 'Singapore', 'Chile', 'China', 'Denmark', \n",
        "                                              'Turkey', 'Iceland', 'Peru', 'Costa Rica', 'Ireland', \n",
        "                                              'Czech Republic', 'United Kingdom', 'Serbia', 'South Korea', \n",
        "                                              'Belgium', 'Vietnam', 'Austria', 'Brazil', 'Uruguay', \n",
        "                                              'Sweden', 'Slovenia'], \n",
        "                    'SANDRO BESSA DE LIMA': ['Netherlands', 'Croatia', 'New Zealand', 'Portugal', \n",
        "                                             'United Arab Emirates', 'Romania', 'Argentina', 'China', \n",
        "                                             'Iceland', 'Colombia', 'Australia', 'United Kingdom', \n",
        "                                             'South Korea', 'Norway', 'Qatar', 'Taiwan', 'Israel', \n",
        "                                             'Poland', 'Austria', 'Brazil', 'Sweden', 'Montenegro'], \n",
        "                    'SANDRO DA CRUZ MARUXO': ['Netherlands', 'Bulgaria', 'New Zealand', 'Portugal', \n",
        "                                              'Singapore', 'Albania', 'Luxembourg', 'Chile', 'China', \n",
        "                                              'Malaysia', 'Greece', 'Ireland', 'Czech Republic', \n",
        "                                              'France', 'United Kingdom', 'Taiwan', 'Israel', \n",
        "                                              'Vietnam', 'Brazil', 'Uruguay', 'Hungary'], \n",
        "                    'TAINA GONCALVES DO CARMO FELIX': ['Netherlands', 'Romania', 'Argentina', 'China', \n",
        "                                                       'Denmark', 'Greece', 'Thailand', 'Costa Rica', \n",
        "                                                       'Latvia', 'France', 'Tunisia', 'Estonia', 'Qatar',\n",
        "                                                       'Japan', 'Finland', 'Israel', 'Austria', 'Brazil', \n",
        "                                                       'Slovak Republic', 'Russia', 'Slovenia'], \n",
        "                    'VICTOR BELTRÃO VALENTE DUARTE': ['Bulgaria', 'United Arab Emirates', 'Liechtenstein', \n",
        "                                                      'Singapore', 'Mexico', 'China', 'Indonesia', \n",
        "                                                      'Turkey', 'Peru', 'United States', 'Czech Republic', \n",
        "                                                      'Latvia', 'France', 'United Kingdom', 'Lithuania', \n",
        "                                                      'Finland', 'Switzerland', 'Canada', 'Brazil', \n",
        "                                                      'Uruguay', 'Slovak Republic', 'Hungary'], \n",
        "                    'WÊNNIO KELSON FRANCISCO DE OLIVEIRA': ['United Arab Emirates', 'Liechtenstein', 'Mexico', \n",
        "                                                            'China', 'Indonesia', 'Denmark', 'Greece', \n",
        "                                                            'Thailand', 'United States', 'Ireland', \n",
        "                                                            'Czech Republic', 'France', 'Serbia', \n",
        "                                                            'Estonia', 'Norway', 'Taiwan', 'Finland', \n",
        "                                                            'Vietnam', 'Brazil', 'Russia', 'Montenegro'], \n",
        "                    'WILSON ARAUJO DE OLIVEIRA NETO': ['United Arab Emirates', 'Luxembourg', 'Argentina', \n",
        "                                                       'Chile', 'China', 'Greece', 'Turkey', 'Costa Rica', \n",
        "                                                       'Australia', 'Latvia', 'United Kingdom', 'South Korea', \n",
        "                                                       'Belgium', 'Taiwan', 'Finland', 'Vietnam', 'Switzerland', \n",
        "                                                       'Brazil', 'Sweden', 'Jordan', 'Slovenia'], \n",
        "                    'OZIEL SENIOR COELHO MORAES': ['United Kingdom', 'Bulgaria', 'Colombia', 'China', 'Thailand', \n",
        "                                                   'Greece', 'Argentina', 'Brazil', 'France', 'Mexico', 'Poland', \n",
        "                                                   'Netherlands', 'South Korea', 'Vietnam', 'Iceland', 'Finland', \n",
        "                                                   'Slovenia', 'Jordan', 'Luxembourg', 'United States', 'Croatia'],\n",
        "                    'STEFANE REGO GANDRA': ['Serbia', 'Bulgaria', 'Montenegro', 'China', 'Thailand', \n",
        "                                            'Slovak Republic', 'Argentina', 'Brazil', 'Norway', 'Belgium', \n",
        "                                            'Hungary', 'Tunisia', 'Taiwan', 'Albania', 'Spain', 'Canada', 'Sweden', \n",
        "                                            'Czech Republic', 'Liechtenstein', 'Croatia', 'Austria', 'Latvia'],\n",
        "                    'ROSANA NORONHA': ['Thailand', 'Albania', 'China', 'Iceland', 'Portugal', 'Colombia', \n",
        "                                       'Croatia', 'Costa Rica', 'Japan', 'United States', 'Israel', 'Brazil', \n",
        "                                       'Italy', 'Czech Republic', 'Austria', 'Spain', 'Poland', 'Kazakhstan', \n",
        "                                       'Mexico', 'Luxembourg', 'Canada']}"
      ],
      "execution_count": null,
      "outputs": []
    },
    {
      "cell_type": "markdown",
      "metadata": {
        "id": "0LOrDsGxnftp"
      },
      "source": [
        "A seguir, são abertos os dois arquivos a serem usados neste trabalho: (1) os dados do PISA 2012 selecionados para uso; e (2) a descrição das 105 variáveis usadas para descrever cada estudante."
      ]
    },
    {
      "cell_type": "code",
      "metadata": {
        "colab": {
          "base_uri": "https://localhost:8080/"
        },
        "id": "dVpXfC34MPex",
        "outputId": "a7c09064-3ea7-425e-93e1-106937ca09b4"
      },
      "source": [
        "from google.colab import drive\n",
        "drive.mount('/content/drive')"
      ],
      "execution_count": null,
      "outputs": [
        {
          "output_type": "stream",
          "text": [
            "Drive already mounted at /content/drive; to attempt to forcibly remount, call drive.mount(\"/content/drive\", force_remount=True).\n"
          ],
          "name": "stdout"
        }
      ]
    },
    {
      "cell_type": "code",
      "metadata": {
        "scrolled": true,
        "id": "oURS7IcNnftq",
        "colab": {
          "base_uri": "https://localhost:8080/"
        },
        "outputId": "3d3e9ad2-6deb-4a3d-9d4b-a21bf08fb63a"
      },
      "source": [
        "# pisa0 = pd.read_csv('data/pisa2012_tp1_2021.csv')\n",
        "pisa0 = pd.read_csv('/content/drive/MyDrive/2. AMMD/Projeto 1/data/pisa2012_tp1_2021.csv')"
      ],
      "execution_count": null,
      "outputs": [
        {
          "output_type": "stream",
          "text": [
            "/usr/local/lib/python3.7/dist-packages/IPython/core/interactiveshell.py:2718: DtypeWarning: Columns (77,78,79,80,81,82,83,87,88,89,90,91,92,93,94,95,96,97,98,99,100,101) have mixed types.Specify dtype option on import or set low_memory=False.\n",
            "  interactivity=interactivity, compiler=compiler, result=result)\n"
          ],
          "name": "stderr"
        }
      ]
    },
    {
      "cell_type": "code",
      "metadata": {
        "scrolled": true,
        "id": "FviArOGmnftr",
        "colab": {
          "base_uri": "https://localhost:8080/",
          "height": 3304
        },
        "outputId": "e2098015-d6b4-4ee6-91ed-e0f150d08b24"
      },
      "source": [
        "pisa_dict = pd.read_csv('/content/drive/MyDrive/2. AMMD/Projeto 1/data/pisa2012_tp1_2021_vardescs.csv')\n",
        "with pd.option_context('display.max_rows', None):  \n",
        "    display(pisa_dict)"
      ],
      "execution_count": null,
      "outputs": [
        {
          "output_type": "display_data",
          "data": {
            "text/html": [
              "<div>\n",
              "<style scoped>\n",
              "    .dataframe tbody tr th:only-of-type {\n",
              "        vertical-align: middle;\n",
              "    }\n",
              "\n",
              "    .dataframe tbody tr th {\n",
              "        vertical-align: top;\n",
              "    }\n",
              "\n",
              "    .dataframe thead th {\n",
              "        text-align: right;\n",
              "    }\n",
              "</style>\n",
              "<table border=\"1\" class=\"dataframe\">\n",
              "  <thead>\n",
              "    <tr style=\"text-align: right;\">\n",
              "      <th></th>\n",
              "      <th>varname</th>\n",
              "      <th>desc</th>\n",
              "    </tr>\n",
              "  </thead>\n",
              "  <tbody>\n",
              "    <tr>\n",
              "      <th>0</th>\n",
              "      <td>CNT</td>\n",
              "      <td>Country name</td>\n",
              "    </tr>\n",
              "    <tr>\n",
              "      <th>1</th>\n",
              "      <td>OECD</td>\n",
              "      <td>OECD country?</td>\n",
              "    </tr>\n",
              "    <tr>\n",
              "      <th>2</th>\n",
              "      <td>ST01Q01</td>\n",
              "      <td>International Grade</td>\n",
              "    </tr>\n",
              "    <tr>\n",
              "      <th>3</th>\n",
              "      <td>ST03Q01</td>\n",
              "      <td>Birth - Month</td>\n",
              "    </tr>\n",
              "    <tr>\n",
              "      <th>4</th>\n",
              "      <td>ST03Q02</td>\n",
              "      <td>Birth - Year</td>\n",
              "    </tr>\n",
              "    <tr>\n",
              "      <th>5</th>\n",
              "      <td>ST04Q01</td>\n",
              "      <td>Genre</td>\n",
              "    </tr>\n",
              "    <tr>\n",
              "      <th>6</th>\n",
              "      <td>ST07Q01</td>\n",
              "      <td>Repeat - ISCED1 (1o-5o ano Brasil)</td>\n",
              "    </tr>\n",
              "    <tr>\n",
              "      <th>7</th>\n",
              "      <td>ST07Q02</td>\n",
              "      <td>Repeat - ISCED2 (6o-9o ano Brasil)</td>\n",
              "    </tr>\n",
              "    <tr>\n",
              "      <th>8</th>\n",
              "      <td>ST08Q01</td>\n",
              "      <td>Truancy - Late for School</td>\n",
              "    </tr>\n",
              "    <tr>\n",
              "      <th>9</th>\n",
              "      <td>ST09Q01</td>\n",
              "      <td>Truancy - Skip whole school day</td>\n",
              "    </tr>\n",
              "    <tr>\n",
              "      <th>10</th>\n",
              "      <td>ST13Q01</td>\n",
              "      <td>Mother Highest Schooling</td>\n",
              "    </tr>\n",
              "    <tr>\n",
              "      <th>11</th>\n",
              "      <td>ST15Q01</td>\n",
              "      <td>Mother Current Job Status</td>\n",
              "    </tr>\n",
              "    <tr>\n",
              "      <th>12</th>\n",
              "      <td>ST17Q01</td>\n",
              "      <td>Father Highest Schooling</td>\n",
              "    </tr>\n",
              "    <tr>\n",
              "      <th>13</th>\n",
              "      <td>ST19Q01</td>\n",
              "      <td>Father Current Job Status</td>\n",
              "    </tr>\n",
              "    <tr>\n",
              "      <th>14</th>\n",
              "      <td>ST26Q01</td>\n",
              "      <td>Possessions - desk</td>\n",
              "    </tr>\n",
              "    <tr>\n",
              "      <th>15</th>\n",
              "      <td>ST26Q04</td>\n",
              "      <td>Possessions - computer</td>\n",
              "    </tr>\n",
              "    <tr>\n",
              "      <th>16</th>\n",
              "      <td>ST26Q06</td>\n",
              "      <td>Possessions - Internet</td>\n",
              "    </tr>\n",
              "    <tr>\n",
              "      <th>17</th>\n",
              "      <td>ST27Q03</td>\n",
              "      <td>How many - computers</td>\n",
              "    </tr>\n",
              "    <tr>\n",
              "      <th>18</th>\n",
              "      <td>ST27Q04</td>\n",
              "      <td>How many - cars</td>\n",
              "    </tr>\n",
              "    <tr>\n",
              "      <th>19</th>\n",
              "      <td>ST27Q05</td>\n",
              "      <td>How many - rooms bath or shower</td>\n",
              "    </tr>\n",
              "    <tr>\n",
              "      <th>20</th>\n",
              "      <td>ST28Q01</td>\n",
              "      <td>How many books at home</td>\n",
              "    </tr>\n",
              "    <tr>\n",
              "      <th>21</th>\n",
              "      <td>ST42Q02</td>\n",
              "      <td>Math Self-Concept - Not Good at Maths</td>\n",
              "    </tr>\n",
              "    <tr>\n",
              "      <th>22</th>\n",
              "      <td>ST42Q03</td>\n",
              "      <td>Math Anxiety - Get Very Tense</td>\n",
              "    </tr>\n",
              "    <tr>\n",
              "      <th>23</th>\n",
              "      <td>ST42Q04</td>\n",
              "      <td>Math Self-Concept - Get Good Grades</td>\n",
              "    </tr>\n",
              "    <tr>\n",
              "      <th>24</th>\n",
              "      <td>ST42Q05</td>\n",
              "      <td>Math Anxiety - Get Very Nervous</td>\n",
              "    </tr>\n",
              "    <tr>\n",
              "      <th>25</th>\n",
              "      <td>ST42Q06</td>\n",
              "      <td>Math Self-Concept - Learn Quickly</td>\n",
              "    </tr>\n",
              "    <tr>\n",
              "      <th>26</th>\n",
              "      <td>ST42Q07</td>\n",
              "      <td>Math Self-Concept - One of Best Subjects</td>\n",
              "    </tr>\n",
              "    <tr>\n",
              "      <th>27</th>\n",
              "      <td>ST42Q08</td>\n",
              "      <td>Math Anxiety - Feel Helpless</td>\n",
              "    </tr>\n",
              "    <tr>\n",
              "      <th>28</th>\n",
              "      <td>ST42Q09</td>\n",
              "      <td>Math Self-Concept - Understand Difficult Work</td>\n",
              "    </tr>\n",
              "    <tr>\n",
              "      <th>29</th>\n",
              "      <td>ST43Q06</td>\n",
              "      <td>Perceived Control - Perform Poorly Regardless</td>\n",
              "    </tr>\n",
              "    <tr>\n",
              "      <th>30</th>\n",
              "      <td>ST44Q01</td>\n",
              "      <td>Attributions to Failure - Not Good at Maths Pr...</td>\n",
              "    </tr>\n",
              "    <tr>\n",
              "      <th>31</th>\n",
              "      <td>ST44Q08</td>\n",
              "      <td>Attributions to Failure - Unlucky</td>\n",
              "    </tr>\n",
              "    <tr>\n",
              "      <th>32</th>\n",
              "      <td>ST57Q01</td>\n",
              "      <td>Out-of-School Study Time - Homework</td>\n",
              "    </tr>\n",
              "    <tr>\n",
              "      <th>33</th>\n",
              "      <td>ST57Q02</td>\n",
              "      <td>Out-of-School Study Time - Guided Homework</td>\n",
              "    </tr>\n",
              "    <tr>\n",
              "      <th>34</th>\n",
              "      <td>ST57Q03</td>\n",
              "      <td>Out-of-School Study Time - Personal Tutor</td>\n",
              "    </tr>\n",
              "    <tr>\n",
              "      <th>35</th>\n",
              "      <td>ST57Q04</td>\n",
              "      <td>Out-of-School Study Time - Commercial Company</td>\n",
              "    </tr>\n",
              "    <tr>\n",
              "      <th>36</th>\n",
              "      <td>ST57Q05</td>\n",
              "      <td>Out-of-School Study Time - With Parent</td>\n",
              "    </tr>\n",
              "    <tr>\n",
              "      <th>37</th>\n",
              "      <td>ST57Q06</td>\n",
              "      <td>Out-of-School Study Time - Computer</td>\n",
              "    </tr>\n",
              "    <tr>\n",
              "      <th>38</th>\n",
              "      <td>ST62Q01</td>\n",
              "      <td>Familiarity with Math Concepts - Exponential F...</td>\n",
              "    </tr>\n",
              "    <tr>\n",
              "      <th>39</th>\n",
              "      <td>ST62Q02</td>\n",
              "      <td>Familiarity with Math Concepts - Divisor</td>\n",
              "    </tr>\n",
              "    <tr>\n",
              "      <th>40</th>\n",
              "      <td>ST62Q03</td>\n",
              "      <td>Familiarity with Math Concepts - Quadratic Fun...</td>\n",
              "    </tr>\n",
              "    <tr>\n",
              "      <th>41</th>\n",
              "      <td>ST62Q04</td>\n",
              "      <td>Overclaiming - Proper Number</td>\n",
              "    </tr>\n",
              "    <tr>\n",
              "      <th>42</th>\n",
              "      <td>ST62Q06</td>\n",
              "      <td>Familiarity with Math Concepts - Linear Equation</td>\n",
              "    </tr>\n",
              "    <tr>\n",
              "      <th>43</th>\n",
              "      <td>ST62Q07</td>\n",
              "      <td>Familiarity with Math Concepts - Vectors</td>\n",
              "    </tr>\n",
              "    <tr>\n",
              "      <th>44</th>\n",
              "      <td>ST62Q09</td>\n",
              "      <td>Familiarity with Math Concepts - Rational Number</td>\n",
              "    </tr>\n",
              "    <tr>\n",
              "      <th>45</th>\n",
              "      <td>ST62Q10</td>\n",
              "      <td>Familiarity with Math Concepts - Radicals</td>\n",
              "    </tr>\n",
              "    <tr>\n",
              "      <th>46</th>\n",
              "      <td>ST62Q12</td>\n",
              "      <td>Familiarity with Math Concepts - Polygon</td>\n",
              "    </tr>\n",
              "    <tr>\n",
              "      <th>47</th>\n",
              "      <td>ST62Q15</td>\n",
              "      <td>Familiarity with Math Concepts - Congruent Figure</td>\n",
              "    </tr>\n",
              "    <tr>\n",
              "      <th>48</th>\n",
              "      <td>ST62Q16</td>\n",
              "      <td>Familiarity with Math Concepts - Cosine</td>\n",
              "    </tr>\n",
              "    <tr>\n",
              "      <th>49</th>\n",
              "      <td>ST62Q17</td>\n",
              "      <td>Familiarity with Math Concepts - Arithmetic Mean</td>\n",
              "    </tr>\n",
              "    <tr>\n",
              "      <th>50</th>\n",
              "      <td>ST62Q19</td>\n",
              "      <td>Familiarity with Math Concepts - Probability</td>\n",
              "    </tr>\n",
              "    <tr>\n",
              "      <th>51</th>\n",
              "      <td>ST70Q01</td>\n",
              "      <td># class-periods/week - Language</td>\n",
              "    </tr>\n",
              "    <tr>\n",
              "      <th>52</th>\n",
              "      <td>ST70Q02</td>\n",
              "      <td># class-periods/week - Maths</td>\n",
              "    </tr>\n",
              "    <tr>\n",
              "      <th>53</th>\n",
              "      <td>ST70Q03</td>\n",
              "      <td># class-periods/week - Science</td>\n",
              "    </tr>\n",
              "    <tr>\n",
              "      <th>54</th>\n",
              "      <td>ST71Q01</td>\n",
              "      <td># class-periods/week</td>\n",
              "    </tr>\n",
              "    <tr>\n",
              "      <th>55</th>\n",
              "      <td>ST72Q01</td>\n",
              "      <td>Class Size in Language</td>\n",
              "    </tr>\n",
              "    <tr>\n",
              "      <th>56</th>\n",
              "      <td>ST79Q04</td>\n",
              "      <td>Student Orientation - Assigns Complex Projects</td>\n",
              "    </tr>\n",
              "    <tr>\n",
              "      <th>57</th>\n",
              "      <td>ST79Q07</td>\n",
              "      <td>Student Orientation - Has Students Work in Sma...</td>\n",
              "    </tr>\n",
              "    <tr>\n",
              "      <th>58</th>\n",
              "      <td>ST79Q10</td>\n",
              "      <td>Student Orientation - Plans Classroom Activities</td>\n",
              "    </tr>\n",
              "    <tr>\n",
              "      <th>59</th>\n",
              "      <td>ST82Q03</td>\n",
              "      <td>Vignette Teacher Support - Homework Once a Wee...</td>\n",
              "    </tr>\n",
              "    <tr>\n",
              "      <th>60</th>\n",
              "      <td>ST84Q03</td>\n",
              "      <td>Vignette Classroom Management - Students Frequ...</td>\n",
              "    </tr>\n",
              "    <tr>\n",
              "      <th>61</th>\n",
              "      <td>ST91Q06</td>\n",
              "      <td>Perceived Control - Perform Poor Regardless</td>\n",
              "    </tr>\n",
              "    <tr>\n",
              "      <th>62</th>\n",
              "      <td>ST93Q01</td>\n",
              "      <td>Perseverance - Give up easily</td>\n",
              "    </tr>\n",
              "    <tr>\n",
              "      <th>63</th>\n",
              "      <td>ST93Q03</td>\n",
              "      <td>Perseverance - Put off difficult problems</td>\n",
              "    </tr>\n",
              "    <tr>\n",
              "      <th>64</th>\n",
              "      <td>ST94Q06</td>\n",
              "      <td>Openness for Problem Solving - Quick to Unders...</td>\n",
              "    </tr>\n",
              "    <tr>\n",
              "      <th>65</th>\n",
              "      <td>ST94Q10</td>\n",
              "      <td>Openness for Problem Solving - Can Link Facts</td>\n",
              "    </tr>\n",
              "    <tr>\n",
              "      <th>66</th>\n",
              "      <td>ST94Q14</td>\n",
              "      <td>Openness for Problem Solving - Like to Solve C...</td>\n",
              "    </tr>\n",
              "    <tr>\n",
              "      <th>67</th>\n",
              "      <td>ST96Q01</td>\n",
              "      <td>Problem Text Message - Press every button</td>\n",
              "    </tr>\n",
              "    <tr>\n",
              "      <th>68</th>\n",
              "      <td>ST96Q03</td>\n",
              "      <td>Problem Text Message - Manual</td>\n",
              "    </tr>\n",
              "    <tr>\n",
              "      <th>69</th>\n",
              "      <td>ST96Q05</td>\n",
              "      <td>Problem Text Message - Ask a friend</td>\n",
              "    </tr>\n",
              "    <tr>\n",
              "      <th>70</th>\n",
              "      <td>ST101Q02</td>\n",
              "      <td>Problem Route Selection - Study map</td>\n",
              "    </tr>\n",
              "    <tr>\n",
              "      <th>71</th>\n",
              "      <td>ST101Q03</td>\n",
              "      <td>Problem Route Selection - Leave it to brother</td>\n",
              "    </tr>\n",
              "    <tr>\n",
              "      <th>72</th>\n",
              "      <td>ST101Q05</td>\n",
              "      <td>Problem Route Selection - Just drive</td>\n",
              "    </tr>\n",
              "    <tr>\n",
              "      <th>73</th>\n",
              "      <td>ST104Q01</td>\n",
              "      <td>Problem Ticket Machine - Similarities</td>\n",
              "    </tr>\n",
              "    <tr>\n",
              "      <th>74</th>\n",
              "      <td>ST104Q04</td>\n",
              "      <td>Problem Ticket Machine - Try buttons</td>\n",
              "    </tr>\n",
              "    <tr>\n",
              "      <th>75</th>\n",
              "      <td>ST104Q05</td>\n",
              "      <td>Problem Ticket Machine - Ask for help</td>\n",
              "    </tr>\n",
              "    <tr>\n",
              "      <th>76</th>\n",
              "      <td>ST104Q06</td>\n",
              "      <td>Problem Ticket Machine - Find ticket office</td>\n",
              "    </tr>\n",
              "    <tr>\n",
              "      <th>77</th>\n",
              "      <td>IC01Q04</td>\n",
              "      <td>At Home - Internet connection</td>\n",
              "    </tr>\n",
              "    <tr>\n",
              "      <th>78</th>\n",
              "      <td>IC01Q06</td>\n",
              "      <td>At Home - Cell phone w/o Internet</td>\n",
              "    </tr>\n",
              "    <tr>\n",
              "      <th>79</th>\n",
              "      <td>IC01Q09</td>\n",
              "      <td>At Home - Printer</td>\n",
              "    </tr>\n",
              "    <tr>\n",
              "      <th>80</th>\n",
              "      <td>IC01Q10</td>\n",
              "      <td>At Home - USB (memory) stick</td>\n",
              "    </tr>\n",
              "    <tr>\n",
              "      <th>81</th>\n",
              "      <td>IC02Q04</td>\n",
              "      <td>At school - Internet connection</td>\n",
              "    </tr>\n",
              "    <tr>\n",
              "      <th>82</th>\n",
              "      <td>IC02Q07</td>\n",
              "      <td>At school - Ebook reader</td>\n",
              "    </tr>\n",
              "    <tr>\n",
              "      <th>83</th>\n",
              "      <td>IC03Q01</td>\n",
              "      <td>First use of computers</td>\n",
              "    </tr>\n",
              "    <tr>\n",
              "      <th>84</th>\n",
              "      <td>IC05Q01</td>\n",
              "      <td>Internet at School</td>\n",
              "    </tr>\n",
              "    <tr>\n",
              "      <th>85</th>\n",
              "      <td>IC06Q01</td>\n",
              "      <td>Internet out-of-school - Weekday</td>\n",
              "    </tr>\n",
              "    <tr>\n",
              "      <th>86</th>\n",
              "      <td>IC07Q01</td>\n",
              "      <td>Internet out-of-school - Weekend</td>\n",
              "    </tr>\n",
              "    <tr>\n",
              "      <th>87</th>\n",
              "      <td>IC08Q03</td>\n",
              "      <td>Out-of-school 8 - Use email</td>\n",
              "    </tr>\n",
              "    <tr>\n",
              "      <th>88</th>\n",
              "      <td>IC08Q08</td>\n",
              "      <td>Out-of-school 8 - Obtain practical information...</td>\n",
              "    </tr>\n",
              "    <tr>\n",
              "      <th>89</th>\n",
              "      <td>IC08Q11</td>\n",
              "      <td>Out-of-school 8 - Upload content</td>\n",
              "    </tr>\n",
              "    <tr>\n",
              "      <th>90</th>\n",
              "      <td>IC09Q01</td>\n",
              "      <td>Out-of-school 9 - Internet for school</td>\n",
              "    </tr>\n",
              "    <tr>\n",
              "      <th>91</th>\n",
              "      <td>IC10Q04</td>\n",
              "      <td>At School - Download from website</td>\n",
              "    </tr>\n",
              "    <tr>\n",
              "      <th>92</th>\n",
              "      <td>IC10Q05</td>\n",
              "      <td>At School - Post on website</td>\n",
              "    </tr>\n",
              "    <tr>\n",
              "      <th>93</th>\n",
              "      <td>IC10Q07</td>\n",
              "      <td>At School - Practice and drilling</td>\n",
              "    </tr>\n",
              "    <tr>\n",
              "      <th>94</th>\n",
              "      <td>IC10Q08</td>\n",
              "      <td>At School - Homework</td>\n",
              "    </tr>\n",
              "    <tr>\n",
              "      <th>95</th>\n",
              "      <td>IC11Q03</td>\n",
              "      <td>Maths lessons - Geometric figures</td>\n",
              "    </tr>\n",
              "    <tr>\n",
              "      <th>96</th>\n",
              "      <td>IC11Q05</td>\n",
              "      <td>Maths lessons - Algebra</td>\n",
              "    </tr>\n",
              "    <tr>\n",
              "      <th>97</th>\n",
              "      <td>IC22Q08</td>\n",
              "      <td>Attitudes - Too unreliable</td>\n",
              "    </tr>\n",
              "    <tr>\n",
              "      <th>98</th>\n",
              "      <td>EC03Q01</td>\n",
              "      <td>Future Orientation - Internship</td>\n",
              "    </tr>\n",
              "    <tr>\n",
              "      <th>99</th>\n",
              "      <td>EC03Q03</td>\n",
              "      <td>Future Orientation - Job fair</td>\n",
              "    </tr>\n",
              "    <tr>\n",
              "      <th>100</th>\n",
              "      <td>EC03Q04</td>\n",
              "      <td>Future Orientation - Career advisor at school</td>\n",
              "    </tr>\n",
              "    <tr>\n",
              "      <th>101</th>\n",
              "      <td>EC03Q09</td>\n",
              "      <td>Future Orientation - web search - ISCED 3-5 (a...</td>\n",
              "    </tr>\n",
              "    <tr>\n",
              "      <th>102</th>\n",
              "      <td>PV1MATH</td>\n",
              "      <td>Maths performance</td>\n",
              "    </tr>\n",
              "    <tr>\n",
              "      <th>103</th>\n",
              "      <td>PV1READ</td>\n",
              "      <td>Reading performance</td>\n",
              "    </tr>\n",
              "    <tr>\n",
              "      <th>104</th>\n",
              "      <td>PV1SCIE</td>\n",
              "      <td>Science performance</td>\n",
              "    </tr>\n",
              "  </tbody>\n",
              "</table>\n",
              "</div>"
            ],
            "text/plain": [
              "      varname                                               desc\n",
              "0         CNT                                       Country name\n",
              "1        OECD                                      OECD country?\n",
              "2     ST01Q01                                International Grade\n",
              "3     ST03Q01                                      Birth - Month\n",
              "4     ST03Q02                                       Birth - Year\n",
              "5     ST04Q01                                              Genre\n",
              "6     ST07Q01                 Repeat - ISCED1 (1o-5o ano Brasil)\n",
              "7     ST07Q02                 Repeat - ISCED2 (6o-9o ano Brasil)\n",
              "8     ST08Q01                          Truancy - Late for School\n",
              "9     ST09Q01                    Truancy - Skip whole school day\n",
              "10    ST13Q01                           Mother Highest Schooling\n",
              "11    ST15Q01                          Mother Current Job Status\n",
              "12    ST17Q01                           Father Highest Schooling\n",
              "13    ST19Q01                          Father Current Job Status\n",
              "14    ST26Q01                                 Possessions - desk\n",
              "15    ST26Q04                             Possessions - computer\n",
              "16    ST26Q06                             Possessions - Internet\n",
              "17    ST27Q03                               How many - computers\n",
              "18    ST27Q04                                    How many - cars\n",
              "19    ST27Q05                    How many - rooms bath or shower\n",
              "20    ST28Q01                             How many books at home\n",
              "21    ST42Q02              Math Self-Concept - Not Good at Maths\n",
              "22    ST42Q03                      Math Anxiety - Get Very Tense\n",
              "23    ST42Q04                Math Self-Concept - Get Good Grades\n",
              "24    ST42Q05                    Math Anxiety - Get Very Nervous\n",
              "25    ST42Q06                  Math Self-Concept - Learn Quickly\n",
              "26    ST42Q07           Math Self-Concept - One of Best Subjects\n",
              "27    ST42Q08                       Math Anxiety - Feel Helpless\n",
              "28    ST42Q09      Math Self-Concept - Understand Difficult Work\n",
              "29    ST43Q06      Perceived Control - Perform Poorly Regardless\n",
              "30    ST44Q01  Attributions to Failure - Not Good at Maths Pr...\n",
              "31    ST44Q08                  Attributions to Failure - Unlucky\n",
              "32    ST57Q01                Out-of-School Study Time - Homework\n",
              "33    ST57Q02         Out-of-School Study Time - Guided Homework\n",
              "34    ST57Q03          Out-of-School Study Time - Personal Tutor\n",
              "35    ST57Q04      Out-of-School Study Time - Commercial Company\n",
              "36    ST57Q05             Out-of-School Study Time - With Parent\n",
              "37    ST57Q06                Out-of-School Study Time - Computer\n",
              "38    ST62Q01  Familiarity with Math Concepts - Exponential F...\n",
              "39    ST62Q02           Familiarity with Math Concepts - Divisor\n",
              "40    ST62Q03  Familiarity with Math Concepts - Quadratic Fun...\n",
              "41    ST62Q04                       Overclaiming - Proper Number\n",
              "42    ST62Q06   Familiarity with Math Concepts - Linear Equation\n",
              "43    ST62Q07           Familiarity with Math Concepts - Vectors\n",
              "44    ST62Q09   Familiarity with Math Concepts - Rational Number\n",
              "45    ST62Q10          Familiarity with Math Concepts - Radicals\n",
              "46    ST62Q12           Familiarity with Math Concepts - Polygon\n",
              "47    ST62Q15  Familiarity with Math Concepts - Congruent Figure\n",
              "48    ST62Q16            Familiarity with Math Concepts - Cosine\n",
              "49    ST62Q17   Familiarity with Math Concepts - Arithmetic Mean\n",
              "50    ST62Q19       Familiarity with Math Concepts - Probability\n",
              "51    ST70Q01                    # class-periods/week - Language\n",
              "52    ST70Q02                       # class-periods/week - Maths\n",
              "53    ST70Q03                     # class-periods/week - Science\n",
              "54    ST71Q01                               # class-periods/week\n",
              "55    ST72Q01                             Class Size in Language\n",
              "56    ST79Q04     Student Orientation - Assigns Complex Projects\n",
              "57    ST79Q07  Student Orientation - Has Students Work in Sma...\n",
              "58    ST79Q10   Student Orientation - Plans Classroom Activities\n",
              "59    ST82Q03  Vignette Teacher Support - Homework Once a Wee...\n",
              "60    ST84Q03  Vignette Classroom Management - Students Frequ...\n",
              "61    ST91Q06        Perceived Control - Perform Poor Regardless\n",
              "62    ST93Q01                      Perseverance - Give up easily\n",
              "63    ST93Q03          Perseverance - Put off difficult problems\n",
              "64    ST94Q06  Openness for Problem Solving - Quick to Unders...\n",
              "65    ST94Q10      Openness for Problem Solving - Can Link Facts\n",
              "66    ST94Q14  Openness for Problem Solving - Like to Solve C...\n",
              "67    ST96Q01          Problem Text Message - Press every button\n",
              "68    ST96Q03                      Problem Text Message - Manual\n",
              "69    ST96Q05                Problem Text Message - Ask a friend\n",
              "70   ST101Q02                Problem Route Selection - Study map\n",
              "71   ST101Q03      Problem Route Selection - Leave it to brother\n",
              "72   ST101Q05               Problem Route Selection - Just drive\n",
              "73   ST104Q01              Problem Ticket Machine - Similarities\n",
              "74   ST104Q04               Problem Ticket Machine - Try buttons\n",
              "75   ST104Q05              Problem Ticket Machine - Ask for help\n",
              "76   ST104Q06        Problem Ticket Machine - Find ticket office\n",
              "77    IC01Q04                      At Home - Internet connection\n",
              "78    IC01Q06                  At Home - Cell phone w/o Internet\n",
              "79    IC01Q09                                  At Home - Printer\n",
              "80    IC01Q10                       At Home - USB (memory) stick\n",
              "81    IC02Q04                    At school - Internet connection\n",
              "82    IC02Q07                           At school - Ebook reader\n",
              "83    IC03Q01                             First use of computers\n",
              "84    IC05Q01                                 Internet at School\n",
              "85    IC06Q01                   Internet out-of-school - Weekday\n",
              "86    IC07Q01                   Internet out-of-school - Weekend\n",
              "87    IC08Q03                        Out-of-school 8 - Use email\n",
              "88    IC08Q08  Out-of-school 8 - Obtain practical information...\n",
              "89    IC08Q11                   Out-of-school 8 - Upload content\n",
              "90    IC09Q01              Out-of-school 9 - Internet for school\n",
              "91    IC10Q04                  At School - Download from website\n",
              "92    IC10Q05                        At School - Post on website\n",
              "93    IC10Q07                  At School - Practice and drilling\n",
              "94    IC10Q08                               At School - Homework\n",
              "95    IC11Q03                  Maths lessons - Geometric figures\n",
              "96    IC11Q05                            Maths lessons - Algebra\n",
              "97    IC22Q08                         Attitudes - Too unreliable\n",
              "98    EC03Q01                    Future Orientation - Internship\n",
              "99    EC03Q03                      Future Orientation - Job fair\n",
              "100   EC03Q04      Future Orientation - Career advisor at school\n",
              "101   EC03Q09  Future Orientation - web search - ISCED 3-5 (a...\n",
              "102   PV1MATH                                  Maths performance\n",
              "103   PV1READ                                Reading performance\n",
              "104   PV1SCIE                                Science performance"
            ]
          },
          "metadata": {
            "tags": []
          }
        }
      ]
    },
    {
      "cell_type": "markdown",
      "metadata": {
        "id": "FqGmpvCwnftr"
      },
      "source": [
        "O dicionário abaixo pode ser usado para descrever quaisquer variável."
      ]
    },
    {
      "cell_type": "code",
      "metadata": {
        "id": "M0Jpvbe_nftr",
        "colab": {
          "base_uri": "https://localhost:8080/",
          "height": 35
        },
        "outputId": "5146144e-1f6f-4d64-8b9b-6827c1c6dd28"
      },
      "source": [
        "pisa_desc = dict(zip(list(pisa_dict['varname'].values), list(pisa_dict['desc'].values)))\n",
        "\n",
        "# ex: qual o significado da variável ST28Q01\n",
        "pisa_desc['ST28Q01']"
      ],
      "execution_count": null,
      "outputs": [
        {
          "output_type": "execute_result",
          "data": {
            "application/vnd.google.colaboratory.intrinsic+json": {
              "type": "string"
            },
            "text/plain": [
              "'How many books at home'"
            ]
          },
          "metadata": {
            "tags": []
          },
          "execution_count": 8
        }
      ]
    },
    {
      "cell_type": "markdown",
      "metadata": {
        "id": "192nTIBgnfts"
      },
      "source": [
        "A seguir você deve fazer a amostragem a ser usada. Basta colocar o seu nome como ele aparece no dicionário `paises_por_aluno` e rodar a célula a seguir (se o seu nome não aparece em `paises_por_aluno`, solicite uma amostra de países do professor):"
      ]
    },
    {
      "cell_type": "code",
      "metadata": {
        "id": "EZjJEDXcnfts"
      },
      "source": [
        "aluno = 'DANIEL MITSUAKI DA SILVA UTYIAMA' # <-- coloque o seu nome aqui, conforme aparece em paises_por_aluno\n",
        "countries = paises_por_aluno[aluno]\n",
        "\n",
        "pisa = pisa0[pisa0.CNT.isin(countries)].copy()"
      ],
      "execution_count": null,
      "outputs": []
    },
    {
      "cell_type": "markdown",
      "metadata": {
        "id": "ZA8MK58wnfts"
      },
      "source": [
        "A partir deste ponto, o dataframe `pisa` tem o conjunto de dados a serem usados."
      ]
    },
    {
      "cell_type": "code",
      "metadata": {
        "id": "Hwtr0DD3M91F"
      },
      "source": [
        "#Funções que serão utilizadas\n",
        "from IPython.display import Image, display, display_html\n",
        "def display_side_by_side(*args):\n",
        "    html_str=''\n",
        "    for df in args:\n",
        "        html_str+=df.to_html()\n",
        "    display_html(html_str.replace('table','table style=\"display:inline\"'), raw=True)"
      ],
      "execution_count": null,
      "outputs": []
    },
    {
      "cell_type": "markdown",
      "metadata": {
        "id": "XdQU9DkYnfts"
      },
      "source": [
        "## Checando Dados Faltantes"
      ]
    },
    {
      "cell_type": "markdown",
      "metadata": {
        "id": "UUHH4whHnftt"
      },
      "source": [
        "<div class=\"alert alert-info\">\n",
        "    <b>1</b> - Quais colunas possuem campos nulos em <code>pisa</code>?\n",
        "</div>\n",
        "\n",
        "**OBS**: Há muitas formas de fazer isso em Pandas, como por exemplo através da utilização do método `isnull()`. "
      ]
    },
    {
      "cell_type": "markdown",
      "metadata": {
        "id": "YK-O0wgIpWQw"
      },
      "source": [
        "<div class=\"alert alert-info\" align=\"justify\">\n",
        "    <b>Resposta</b> : As colunas que possuem valores nulos em pisa são: <br> EC03Q09, EC03Q04, EC03Q03, EC03Q01, IC22Q08, IC11Q03, IC11Q05, IC10Q07, IC10Q08, IC10Q04, IC10Q05, IC09Q01, IC08Q08, IC08Q03, IC08Q11, IC01Q06, IC02Q07, IC01Q09, IC01Q10, IC02Q04, IC01Q04, IC03Q01, ST71Q01, ST57Q02, ST57Q04, ST57Q03, ST57Q05, ST70Q03, ST57Q06, ST70Q01, ST72Q01, ST70Q02, ST57Q01, ST91Q06, ST62Q04, ST62Q15, ST62Q10, ST62Q16, ST62Q12, ST62Q01, ST104Q04, ST62Q03, ST62Q07, ST62Q06, ST62Q17, ST104Q06, ST104Q05, ST104Q01, ST101Q03, ST101Q05, ST62Q02, ST101Q02, ST62Q09, ST84Q03, ST96Q03, ST82Q03,  ST62Q19, ST96Q05, ST96Q01, ST94Q10, ST94Q14, ST42Q03, ST94Q06, ST93Q03,  ST42Q04, ST42Q09, ST42Q06, ST42Q08, ST42Q05, ST42Q07, ST93Q01, ST42Q02,  ST44Q08, ST43Q06, ST79Q04, ST79Q07,  ST79Q10, ST44Q01,  ST07Q02, ST07Q01,  ST17Q01, ST19Q01, ST27Q05, ST13Q01,  ST15Q01, ST27Q04,  ST26Q01, ST26Q06,  ST26Q04, ST27Q03, ST28Q01, ST09Q01 e  ST08Q01.\n",
        "</div>\n"
      ]
    },
    {
      "cell_type": "code",
      "metadata": {
        "id": "MoFU9VMqnftt",
        "colab": {
          "base_uri": "https://localhost:8080/"
        },
        "outputId": "b5827956-5ad0-4fd0-b682-276053234fdb"
      },
      "source": [
        "# Apresenta a distribuição em porcentagem das colunas que possuem valores nulos em pisa\n",
        "print((pisa.isna().sum()/pisa.shape[0]).sort_values(ascending = False)[:50],'', (pisa.isna().sum()/pisa.shape[0]).sort_values(ascending = False)[49:])\n"
      ],
      "execution_count": null,
      "outputs": [
        {
          "output_type": "stream",
          "text": [
            "EC03Q09     0.591569\n",
            "EC03Q04     0.591239\n",
            "EC03Q03     0.591194\n",
            "EC03Q01     0.590914\n",
            "IC22Q08     0.484025\n",
            "IC11Q03     0.483675\n",
            "IC11Q05     0.483625\n",
            "IC10Q07     0.481216\n",
            "IC10Q08     0.480867\n",
            "IC10Q04     0.480627\n",
            "IC10Q05     0.480552\n",
            "IC09Q01     0.476993\n",
            "IC08Q08     0.476829\n",
            "IC08Q03     0.476729\n",
            "IC08Q11     0.475879\n",
            "IC01Q06     0.473855\n",
            "IC02Q07     0.473635\n",
            "IC01Q09     0.469612\n",
            "IC01Q10     0.468667\n",
            "IC02Q04     0.468637\n",
            "IC01Q04     0.468507\n",
            "IC03Q01     0.467488\n",
            "ST71Q01     0.463165\n",
            "ST57Q02     0.442440\n",
            "ST57Q04     0.417916\n",
            "ST57Q03     0.410350\n",
            "ST57Q05     0.400685\n",
            "ST70Q03     0.399290\n",
            "ST57Q06     0.398696\n",
            "ST70Q01     0.385212\n",
            "ST72Q01     0.385167\n",
            "ST70Q02     0.382049\n",
            "ST57Q01     0.376896\n",
            "ST91Q06     0.363937\n",
            "ST62Q04     0.362908\n",
            "ST62Q15     0.362803\n",
            "ST62Q10     0.362723\n",
            "ST62Q16     0.362418\n",
            "ST62Q12     0.362318\n",
            "ST62Q01     0.362168\n",
            "ST104Q04    0.362048\n",
            "ST62Q03     0.362023\n",
            "ST62Q07     0.361908\n",
            "ST62Q06     0.361683\n",
            "ST62Q17     0.361653\n",
            "ST104Q06    0.361603\n",
            "ST104Q05    0.361168\n",
            "ST104Q01    0.361103\n",
            "ST101Q03    0.360859\n",
            "ST101Q05    0.360344\n",
            "dtype: float64  ST101Q05    0.360344\n",
            "ST62Q02     0.360194\n",
            "ST101Q02    0.359864\n",
            "ST62Q09     0.359694\n",
            "ST84Q03     0.359509\n",
            "ST96Q03     0.359309\n",
            "ST82Q03     0.358870\n",
            "ST62Q19     0.358855\n",
            "ST96Q05     0.358820\n",
            "ST96Q01     0.358725\n",
            "ST94Q10     0.358200\n",
            "ST94Q14     0.357590\n",
            "ST42Q03     0.357240\n",
            "ST94Q06     0.357155\n",
            "ST93Q03     0.356990\n",
            "ST42Q04     0.356905\n",
            "ST42Q09     0.356531\n",
            "ST42Q06     0.356456\n",
            "ST42Q08     0.356246\n",
            "ST42Q05     0.356171\n",
            "ST42Q07     0.356046\n",
            "ST93Q01     0.355461\n",
            "ST42Q02     0.353957\n",
            "ST44Q08     0.353652\n",
            "ST43Q06     0.353417\n",
            "ST79Q04     0.353347\n",
            "ST79Q07     0.353102\n",
            "ST79Q10     0.352937\n",
            "ST44Q01     0.352777\n",
            "ST07Q02     0.127220\n",
            "ST07Q01     0.099188\n",
            "ST17Q01     0.077878\n",
            "ST19Q01     0.070936\n",
            "ST27Q05     0.046983\n",
            "ST13Q01     0.045828\n",
            "ST15Q01     0.033534\n",
            "ST27Q04     0.027182\n",
            "ST26Q01     0.026627\n",
            "ST26Q06     0.025133\n",
            "ST26Q04     0.024064\n",
            "ST27Q03     0.023899\n",
            "ST28Q01     0.022694\n",
            "ST09Q01     0.012309\n",
            "ST08Q01     0.011809\n",
            "OECD        0.000000\n",
            "ST03Q02     0.000000\n",
            "ST03Q01     0.000000\n",
            "ST01Q01     0.000000\n",
            "ST04Q01     0.000000\n",
            "PV1SCIE     0.000000\n",
            "PV1READ     0.000000\n",
            "IC05Q01     0.000000\n",
            "IC06Q01     0.000000\n",
            "IC07Q01     0.000000\n",
            "PV1MATH     0.000000\n",
            "CNT         0.000000\n",
            "dtype: float64\n"
          ],
          "name": "stdout"
        }
      ]
    },
    {
      "cell_type": "markdown",
      "metadata": {
        "id": "nylwVcLtnftt"
      },
      "source": [
        "<div class=\"alert alert-info\">\n",
        "    <b>2</b> - Substitua dados faltantes de variáveis numéricas por valores razoáveis. No caso de variáveis reais, substitua pela média. Se elas forem inteiras, substitua pela moda. <b>Ignore as variáveis PV1MATH, PV1READ e PV1SCIE</b>.\n",
        "</div>"
      ]
    },
    {
      "cell_type": "code",
      "metadata": {
        "colab": {
          "base_uri": "https://localhost:8080/"
        },
        "id": "FqOEEh0EWXOz",
        "outputId": "55428f65-b273-4f20-cd16-9ee3810c09a7"
      },
      "source": [
        "# pisa.info()\n",
        "pisa['ST57Q03'].describe().mean()"
      ],
      "execution_count": null,
      "outputs": [
        {
          "output_type": "execute_result",
          "data": {
            "text/plain": [
              "14752.517252303229"
            ]
          },
          "metadata": {
            "tags": []
          },
          "execution_count": 12
        }
      ]
    },
    {
      "cell_type": "code",
      "metadata": {
        "id": "qrHMj_8qABjX"
      },
      "source": [
        "pisa2 = pisa.copy()\n",
        "# Fução que substitui de acordo com o tipo da coluna\n",
        "def replaceValue (dataset, columns):\n",
        "  for column in columns:\n",
        "    if ((dataset[column].dtype == 'int64') or (dataset[column].dtype == 'float64')):\n",
        "      #Substituição pela média\n",
        "      dataset[column].fillna(round(dataset[column].mean(),0), inplace = True)\n",
        "      # dataset[column].fillna(dataset[column].describe().mean(), inplace = True)\n",
        "    elif (dataset[column].dtype == 'O' or dataset[column].dtype == 'object'):\n",
        "      #Substituição pela norma\n",
        "      dataset[column].fillna(dataset[column].describe().top, inplace = True)\n",
        "      # print(dataset[column].dtype)\n",
        "    else:\n",
        "      print(\"Erro:>>\",dataset[column].dtype,\" not found.\")\n",
        "  return dataset\n",
        "# Ignora as variáveis PV1MATH, PV1READ e PV1SCIE \n",
        "columns = pisa.isnull().drop(columns=['PV1MATH', 'PV1READ', 'PV1SCIE']).columns.tolist()"
      ],
      "execution_count": null,
      "outputs": []
    },
    {
      "cell_type": "markdown",
      "metadata": {
        "id": "0-kz5x-6uYZk"
      },
      "source": [
        "<div class=\"alert alert-info\" align='justify'>\n",
        "    <b>Resposta</b> : Após substituirmos os dados faltantes de variáveis numéricas por valores razoáveis. Onde, se as variáveis fossem do tipo <code>float</code> ou <code>int</code> eram substituída pela média e se <code>objetc</code> pela moda. Também foi ignorado as variáveis PV1MATH, PV1READ e PV1SCIE.  Obtemos o dataset <b>pisa2</b>, como mostrado na célula seguinte. \n",
        "</div>"
      ]
    },
    {
      "cell_type": "code",
      "metadata": {
        "id": "_5Tk2OEnvo5t"
      },
      "source": [
        "# Executa\n",
        "pisa2 = replaceValue (pisa2, columns)"
      ],
      "execution_count": null,
      "outputs": []
    },
    {
      "cell_type": "code",
      "metadata": {
        "colab": {
          "base_uri": "https://localhost:8080/"
        },
        "id": "wqM4ebgyU_ru",
        "outputId": "614ab54e-ab42-4dc1-b9d6-a7e0645b770e"
      },
      "source": [
        " # Apresenta a distribuição em porcentagem\n",
        "(pisa2.isnull().sum()/pisa2.shape[0]).sort_values(ascending = False)"
      ],
      "execution_count": null,
      "outputs": [
        {
          "output_type": "execute_result",
          "data": {
            "text/plain": [
              "PV1SCIE     0.0\n",
              "ST70Q01     0.0\n",
              "ST42Q08     0.0\n",
              "ST42Q09     0.0\n",
              "ST43Q06     0.0\n",
              "           ... \n",
              "ST101Q05    0.0\n",
              "ST104Q01    0.0\n",
              "ST104Q04    0.0\n",
              "ST104Q05    0.0\n",
              "CNT         0.0\n",
              "Length: 105, dtype: float64"
            ]
          },
          "metadata": {
            "tags": []
          },
          "execution_count": 15
        }
      ]
    },
    {
      "cell_type": "markdown",
      "metadata": {
        "id": "vfI1JimXnftt"
      },
      "source": [
        "## Analisando Dados"
      ]
    },
    {
      "cell_type": "markdown",
      "metadata": {
        "id": "9oRRNJCinftt"
      },
      "source": [
        "<div class=\"alert alert-info\">\n",
        "<b>3</b> - Considerando o desempenho médio dos alunos em Matemática, Leitura e Ciências (PV1MATH, PV1READ e PV1SCIE), como os países se saíram? Em particular quais são os 2 países de melhor média geral e os 2 de pior média geral?\n",
        "</div>"
      ]
    },
    {
      "cell_type": "markdown",
      "metadata": {
        "id": "L8_RBV15Ob-p"
      },
      "source": [
        "<div class=\"alert alert-info\" align=\"justify\">\n",
        "    <b>Resposta</b> : Considerando o desempenho médio dos alunos em Matemática, Leitura e Ciências foi identificado que os alunos da <b>Albânia</b> obtiveram a <b>pior média</b> nas três áreas e que <b>um</b> chinês possui a <b>segunda menor média</b> em Matemática, porém, as <b>duas melhores</b>  médias em Matemática também <b>pertencem à alunos chineses</b>. Ainda, foi identificado que <b>as maiores médias em Leitura e Ciência pertencem à alunos japoneses</b>. As células <code>as próximas células</code> apresentam como as informações foram obtidas.\n",
        "</div>"
      ]
    },
    {
      "cell_type": "code",
      "metadata": {
        "id": "icT6hG99nftu",
        "colab": {
          "base_uri": "https://localhost:8080/",
          "height": 111
        },
        "outputId": "f17c0e1f-6531-4a67-9c1d-43635cc75bfe"
      },
      "source": [
        "# Países que estiveram entre as piores médias na média geral (os dois primeiros) em Matemática, Leitura e Ciência:\n",
        "minMath = pisa2.query('PV1MATH >= PV1MATH.min() & PV1MATH <= PV1MATH.mean()').sort_values(by='PV1MATH' ,ascending=True).head(2)[['CNT','PV1MATH']]\n",
        "minRead = pisa2.query('PV1READ >= PV1READ.min() & PV1READ <= PV1READ.mean()').sort_values(by='PV1READ' ,ascending=True).head(2)[['CNT','PV1READ']]\n",
        "minScie = pisa2.query('PV1SCIE >= PV1SCIE.min() & PV1SCIE <= PV1SCIE.mean()').sort_values(by='PV1SCIE' ,ascending=True).head(2)[['CNT','PV1SCIE']]\n",
        "display_side_by_side(minMath, minRead, minScie)"
      ],
      "execution_count": null,
      "outputs": [
        {
          "output_type": "display_data",
          "data": {
            "text/html": [
              "<table style=\"display:inline\" border=\"1\" class=\"dataframe\">\n",
              "  <thead>\n",
              "    <tr style=\"text-align: right;\">\n",
              "      <th></th>\n",
              "      <th>CNT</th>\n",
              "      <th>PV1MATH</th>\n",
              "    </tr>\n",
              "  </thead>\n",
              "  <tbody>\n",
              "    <tr>\n",
              "      <th>1238</th>\n",
              "      <td>Albania</td>\n",
              "      <td>62.4007</td>\n",
              "    </tr>\n",
              "    <tr>\n",
              "      <th>310572</th>\n",
              "      <td>China</td>\n",
              "      <td>67.2301</td>\n",
              "    </tr>\n",
              "  </tbody>\n",
              "</table style=\"display:inline\"><table style=\"display:inline\" border=\"1\" class=\"dataframe\">\n",
              "  <thead>\n",
              "    <tr style=\"text-align: right;\">\n",
              "      <th></th>\n",
              "      <th>CNT</th>\n",
              "      <th>PV1READ</th>\n",
              "    </tr>\n",
              "  </thead>\n",
              "  <tbody>\n",
              "    <tr>\n",
              "      <th>727</th>\n",
              "      <td>Albania</td>\n",
              "      <td>0.0834</td>\n",
              "    </tr>\n",
              "    <tr>\n",
              "      <th>1438</th>\n",
              "      <td>Albania</td>\n",
              "      <td>0.0834</td>\n",
              "    </tr>\n",
              "  </tbody>\n",
              "</table style=\"display:inline\"><table style=\"display:inline\" border=\"1\" class=\"dataframe\">\n",
              "  <thead>\n",
              "    <tr style=\"text-align: right;\">\n",
              "      <th></th>\n",
              "      <th>CNT</th>\n",
              "      <th>PV1SCIE</th>\n",
              "    </tr>\n",
              "  </thead>\n",
              "  <tbody>\n",
              "    <tr>\n",
              "      <th>3722</th>\n",
              "      <td>Albania</td>\n",
              "      <td>39.668</td>\n",
              "    </tr>\n",
              "    <tr>\n",
              "      <th>160</th>\n",
              "      <td>Albania</td>\n",
              "      <td>40.787</td>\n",
              "    </tr>\n",
              "  </tbody>\n",
              "</table style=\"display:inline\">"
            ]
          },
          "metadata": {
            "tags": []
          }
        }
      ]
    },
    {
      "cell_type": "code",
      "metadata": {
        "colab": {
          "base_uri": "https://localhost:8080/",
          "height": 111
        },
        "id": "X4dfg80_COZo",
        "outputId": "7efa477c-c5ea-4834-ffdb-df4d729561e4"
      },
      "source": [
        "# Países que estiveram entre as melhores médias na média geral (os dois primeiros) em Matemática, Leitura e Ciência:\n",
        "maxMath = pisa2.query('PV1MATH >= PV1MATH.mean() & PV1MATH <= PV1MATH.max()').sort_values(by='PV1MATH' ,ascending=False).head(2)[['CNT','PV1MATH']]\n",
        "maxRead = pisa2.query('PV1READ >= PV1READ.mean() & PV1READ <= PV1READ.max()').sort_values(by='PV1READ' ,ascending=False).head(2)[['CNT','PV1READ']]\n",
        "maxScie =pisa2.query('PV1SCIE >= PV1SCIE.mean() & PV1SCIE <= PV1SCIE.max()').sort_values(by='PV1SCIE' ,ascending=False).head(2)[['CNT','PV1SCIE']]\n",
        "display_side_by_side(maxMath, maxRead, maxScie)"
      ],
      "execution_count": null,
      "outputs": [
        {
          "output_type": "display_data",
          "data": {
            "text/html": [
              "<table style=\"display:inline\" border=\"1\" class=\"dataframe\">\n",
              "  <thead>\n",
              "    <tr style=\"text-align: right;\">\n",
              "      <th></th>\n",
              "      <th>CNT</th>\n",
              "      <th>PV1MATH</th>\n",
              "    </tr>\n",
              "  </thead>\n",
              "  <tbody>\n",
              "    <tr>\n",
              "      <th>402323</th>\n",
              "      <td>China</td>\n",
              "      <td>962.2293</td>\n",
              "    </tr>\n",
              "    <tr>\n",
              "      <th>402334</th>\n",
              "      <td>China</td>\n",
              "      <td>928.1897</td>\n",
              "    </tr>\n",
              "  </tbody>\n",
              "</table style=\"display:inline\"><table style=\"display:inline\" border=\"1\" class=\"dataframe\">\n",
              "  <thead>\n",
              "    <tr style=\"text-align: right;\">\n",
              "      <th></th>\n",
              "      <th>CNT</th>\n",
              "      <th>PV1READ</th>\n",
              "    </tr>\n",
              "  </thead>\n",
              "  <tbody>\n",
              "    <tr>\n",
              "      <th>283622</th>\n",
              "      <td>Japan</td>\n",
              "      <td>904.8026</td>\n",
              "    </tr>\n",
              "    <tr>\n",
              "      <th>282752</th>\n",
              "      <td>Japan</td>\n",
              "      <td>889.2587</td>\n",
              "    </tr>\n",
              "  </tbody>\n",
              "</table style=\"display:inline\"><table style=\"display:inline\" border=\"1\" class=\"dataframe\">\n",
              "  <thead>\n",
              "    <tr style=\"text-align: right;\">\n",
              "      <th></th>\n",
              "      <th>CNT</th>\n",
              "      <th>PV1SCIE</th>\n",
              "    </tr>\n",
              "  </thead>\n",
              "  <tbody>\n",
              "    <tr>\n",
              "      <th>279963</th>\n",
              "      <td>Japan</td>\n",
              "      <td>879.0936</td>\n",
              "    </tr>\n",
              "    <tr>\n",
              "      <th>283622</th>\n",
              "      <td>Japan</td>\n",
              "      <td>871.7270</td>\n",
              "    </tr>\n",
              "  </tbody>\n",
              "</table style=\"display:inline\">"
            ]
          },
          "metadata": {
            "tags": []
          }
        }
      ]
    },
    {
      "cell_type": "markdown",
      "metadata": {
        "id": "uNsDrLolnftu"
      },
      "source": [
        "<div class=\"alert alert-info\">\n",
        "<b>4</b> - Como se comparam as distribuições de probabilidade para cada uma das notas dadas (PV1MATH, PV1READ e PV1SCIE) entre os países membros e os não membros da OCDE? Que grupos de países (OCDE ou não OCDE) se saíram melhor em cada caso?\n",
        "</div>"
      ]
    },
    {
      "cell_type": "markdown",
      "metadata": {
        "id": "hVCqD2h8MGzp"
      },
      "source": [
        "<!-- <div class=\"alert alert-info\" align=\"justify\">\n",
        "    <b>R</b> : Os dois <b>países membros da OCDE</b>, que tiveram as melhores distribuições de probabilidade para os exames de PV1MATH, PV1READ e PV1SCIE foram respectivamente: <code> <b>Poland</b> (PV1MATH = '11,30%', PV1READ = '11,31%' e PV1SCIE = '11,47%') </code>  e <code> Ireland (PV1MATH = '9,98%', PV1READ = '10,43%' e PV1SCIE = '10,40%') </code>. Com relação aos <b>países não membros da OCDE</b>, os dois países que tiveram  as melhores distribuições de probabilidade para os exames de PV1MATH, PV1READ e PV1SCIE foram respectivamente <code> Latvia (PV1MATH = '11,50%', PV1READ = '11,50%' e PV1SCIE = '11,75') </code> e <code>  Vietnam (PV1MATH = '10,36%', PV1READ = '10,31%' e PV1SCIE = '10,71') </code>. Deste modo, é possível observar que o grupo de países que se saiu melhor foi os países não membros da OCDE.\n",
        "</div> -->\n",
        "<div class=\"alert alert-info\" align=\"justify\">\n",
        "    <b>Resposta</b> : Com base nos histogramas abaixo é possível observar que o grupo <b>de países membros da OCDE</b> tiveram as melhores notas para os exames de <code>PV1READ</code> e <code>PV1SCIE</code>, porém para o exame <code>PV1MATH</code> os países <b>não participantes da OCDE</b> obtiveram maior pontuação. \n",
        "</div>"
      ]
    },
    {
      "cell_type": "code",
      "metadata": {
        "id": "G6WM95cg-DiB"
      },
      "source": [
        "pisa2MaskOecd = pisa2['OECD'] == 'OECD'\n",
        "filteredPisa2Oecd = pisa2[pisa2MaskOecd]\n",
        "\n",
        "pisa2MaskNoOecd = pisa2['OECD'] == 'Non-OECD'\n",
        "filteredPisa2NoOecd = pisa2[pisa2MaskNoOecd]"
      ],
      "execution_count": null,
      "outputs": []
    },
    {
      "cell_type": "code",
      "metadata": {
        "colab": {
          "base_uri": "https://localhost:8080/",
          "height": 854
        },
        "id": "aC_VBduD9NSP",
        "outputId": "3c738529-5288-4293-ee9a-2da0e94d10df"
      },
      "source": [
        "# Exame PV1MATH \n",
        "plt.style.use(\"bmh\")\n",
        "x = filteredPisa2Oecd['PV1MATH']\n",
        "y = filteredPisa2NoOecd['PV1MATH']\n",
        "\n",
        "plt.hist(x, alpha=0.5, label = 'OECD')\n",
        "plt.hist(y, alpha=0.5, label = 'NO OECD')\n",
        "plt.legend(loc='upper right')\n",
        "plt.title('PV1MATH')\n",
        "plt.xlabel('Pontuação')\n",
        "plt.ylabel('Nº de Participantes')\n",
        "# plt.savefig('PV1MATH')\n",
        "plt.show()\n",
        "\n",
        "# Exame PV1READ \n",
        "x = filteredPisa2Oecd['PV1READ']\n",
        "y = filteredPisa2NoOecd['PV1READ']\n",
        "\n",
        "plt.hist(x, alpha=0.5, label = 'OECD')\n",
        "plt.hist(y, alpha=0.5, label = 'NO OECD')\n",
        "plt.legend(loc='upper right')\n",
        "plt.title('PV1READ')\n",
        "plt.xlabel('Pontuação')\n",
        "plt.ylabel('Nº de Participantes')\n",
        "# plt.savefig('PV1READ')\n",
        "plt.show()\n",
        "\n",
        "# Exame PV1SCIE\n",
        "x = filteredPisa2Oecd['PV1SCIE']\n",
        "y = filteredPisa2NoOecd['PV1SCIE']\n",
        "\n",
        "plt.hist(x, alpha=0.5, label = 'OECD')\n",
        "plt.hist(y, alpha=0.5, label = 'NO OECD')\n",
        "plt.legend(loc='upper right')\n",
        "plt.title('PV1SCIE')\n",
        "plt.xlabel('Pontuação')\n",
        "plt.ylabel('Nº de Participantes')\n",
        "# plt.savefig('PV1SCIE')\n",
        "plt.show()\n",
        "\n"
      ],
      "execution_count": null,
      "outputs": [
        {
          "output_type": "display_data",
          "data": {
            "image/png": "[encoded data removed]",
            "text/plain": [
              "<Figure size 432x288 with 1 Axes>"
            ]
          },
          "metadata": {
            "tags": [],
            "needs_background": "light"
          }
        },
        {
          "output_type": "display_data",
          "data": {
            "image/png": "[encoded data removed]",
            "text/plain": [
              "<Figure size 432x288 with 1 Axes>"
            ]
          },
          "metadata": {
            "tags": [],
            "needs_background": "light"
          }
        },
        {
          "output_type": "display_data",
          "data": {
            "image/png": "[encoded data removed]",
            "text/plain": [
              "<Figure size 432x288 with 1 Axes>"
            ]
          },
          "metadata": {
            "tags": [],
            "needs_background": "light"
          }
        }
      ]
    },
    {
      "cell_type": "markdown",
      "metadata": {
        "id": "h9fFEERbnftu"
      },
      "source": [
        "<div class=\"alert alert-info\">\n",
        "<b>5</b> - É interessante verificar se há diferenças entre homens ou mulheres em cada uma das grandes áreas de interesse do PISA (linguagem, matemática e ciências). Assim, responda: <ol>\n",
        "    <li> Como é o desempenho de homens e mulheres em cada uma das áreas considerando a totalidade dos países? Ou seja, mostre as distribuições de probabilidades comparadas de homens e mulheres para cada uma das áreas considerando todos os países.    \n",
        "    <li> Em que país esta diferença é menor e em qual é maior?\n",
        "    </ol>\n",
        "</div>"
      ]
    },
    {
      "cell_type": "markdown",
      "metadata": {
        "id": "siPzgHZc9rKp"
      },
      "source": [
        "<div align='justify'>\n",
        "5.1 <b>Resposta</b> : Com relação as diferenças entre os homens e mulheres com relação às grandes áreas de interesse do PISA é possível observar que os homens obtiveram maior pontução nos exames: <code>PV1MATH</code> e <code>PV1SCIE</code>, enquanto as mulheres obtiveram a maior potução em <code>PV1READ</code>. </div>"
      ]
    },
    {
      "cell_type": "markdown",
      "metadata": {
        "id": "8yn7trXG-FIz"
      },
      "source": [
        "<div align='justify'>\n",
        "5.2 <b>Resposta</b> : Em <code><b>Israel</b></code> a diferença de pontos entre homens e mulheres foi a menor, já em <code><b>United Arab Emirates</b></code> as mulheres obtiveram as maiores pontuações e na <code><b>Colômbia</b></code> os homens obtiveram a maior portuação. </div>"
      ]
    },
    {
      "cell_type": "code",
      "metadata": {
        "scrolled": true,
        "id": "6k6FUfEQnftu"
      },
      "source": [
        "maskGenreFemale = pisa2['ST04Q01'] == 'Female'\n",
        "filteredPisa2Female= pisa2[maskGenreFemale]\n",
        "maskGenreMale = pisa2['ST04Q01'] == 'Male'\n",
        "filteredPisa2Male= pisa2[maskGenreMale]"
      ],
      "execution_count": null,
      "outputs": []
    },
    {
      "cell_type": "code",
      "metadata": {
        "colab": {
          "base_uri": "https://localhost:8080/",
          "height": 854
        },
        "id": "3xA64hsiq_DC",
        "outputId": "4f3a3389-2611-4fd4-fc09-6009f8b7c9fc"
      },
      "source": [
        "# Resolução para o primeiro ponto da questão 5\n",
        "# Exame PV1MATH \n",
        "plt.style.use(\"bmh\")\n",
        "x = filteredPisa2Female['PV1MATH']\n",
        "y = filteredPisa2Male['PV1MATH']\n",
        "\n",
        "plt.hist(x, alpha=0.5, label = 'Female', color = '#FD429D')\n",
        "plt.hist(y, alpha=0.5, label = 'Male', color = '#6542FD')\n",
        "plt.legend(loc='upper right')\n",
        "plt.title('PV1MATH')\n",
        "plt.xlabel('Pontuação')\n",
        "plt.ylabel('Nº de Participantes')\n",
        "# plt.savefig('PV1MATH')\n",
        "plt.show()\n",
        "\n",
        "# Exame PV1READ \n",
        "x = filteredPisa2Female['PV1READ']\n",
        "y = filteredPisa2Male['PV1READ']\n",
        "\n",
        "plt.hist(x, alpha=0.5, label = 'Female', color = '#FD429D')\n",
        "plt.hist(y, alpha=0.5, label = 'Male', color = '#6542FD')\n",
        "plt.legend(loc='upper right')\n",
        "plt.title('PV1READ')\n",
        "plt.xlabel('Pontuação')\n",
        "plt.ylabel('Nº de Participantes')\n",
        "# plt.savefig('PV1READ')\n",
        "plt.show()\n",
        "\n",
        "# Exame PV1SCIE\n",
        "x = filteredPisa2Female['PV1SCIE']\n",
        "y = filteredPisa2Male['PV1SCIE']\n",
        "\n",
        "plt.hist(x, alpha=0.5, label = 'Female', color = '#FD429D')\n",
        "plt.hist(y, alpha=0.5, label = 'Male', color = '#6542FD')\n",
        "plt.legend(loc='upper right')\n",
        "plt.title('PV1SCIE')\n",
        "plt.xlabel('Pontuação')\n",
        "plt.ylabel('Nº de Participantes')\n",
        "# plt.savefig('PV1SCIE')\n",
        "plt.show()"
      ],
      "execution_count": null,
      "outputs": [
        {
          "output_type": "display_data",
          "data": {
            "image/png": "[encoded data removed]",
            "text/plain": [
              "<Figure size 432x288 with 1 Axes>"
            ]
          },
          "metadata": {
            "tags": [],
            "needs_background": "light"
          }
        },
        {
          "output_type": "display_data",
          "data": {
            "image/png": "[encoded data removed]",
            "text/plain": [
              "<Figure size 432x288 with 1 Axes>"
            ]
          },
          "metadata": {
            "tags": [],
            "needs_background": "light"
          }
        },
        {
          "output_type": "display_data",
          "data": {
            "image/png": "[encoded data removed]",
            "text/plain": [
              "<Figure size 432x288 with 1 Axes>"
            ]
          },
          "metadata": {
            "tags": [],
            "needs_background": "light"
          }
        }
      ]
    },
    {
      "cell_type": "code",
      "metadata": {
        "colab": {
          "base_uri": "https://localhost:8080/",
          "height": 1507
        },
        "id": "vcVJHaVJ-kz0",
        "outputId": "5e77df1e-e1d7-4b09-9225-cb5826c2493f"
      },
      "source": [
        "# Resolução para o segundo ponto da questão 5\n",
        "female = (filteredPisa2Female[['CNT', 'PV1MATH','PV1READ','PV1SCIE']].groupby('CNT').sum())/filteredPisa2Female[['CNT', 'PV1MATH','PV1READ','PV1SCIE']].groupby('CNT').count()\n",
        "male = (filteredPisa2Male[['CNT', 'PV1MATH','PV1READ','PV1SCIE']].groupby('CNT').sum())/filteredPisa2Male[['CNT', 'PV1MATH','PV1READ','PV1SCIE']].groupby('CNT').count()\n",
        "dif = female - male\n",
        "dif['SUM'] = dif['PV1MATH']+dif['PV1READ']+dif['PV1SCIE'] \n",
        "\n",
        "dif['SUM'].describe()\n",
        "\n",
        "dif.sort_values(by = ['SUM'], ascending = True)\n",
        "display_side_by_side(female,male,dif)\n",
        "\n"
      ],
      "execution_count": null,
      "outputs": [
        {
          "output_type": "display_data",
          "data": {
            "text/html": [
              "<table style=\"display:inline\" border=\"1\" class=\"dataframe\">\n",
              "  <thead>\n",
              "    <tr style=\"text-align: right;\">\n",
              "      <th></th>\n",
              "      <th>PV1MATH</th>\n",
              "      <th>PV1READ</th>\n",
              "      <th>PV1SCIE</th>\n",
              "    </tr>\n",
              "    <tr>\n",
              "      <th>CNT</th>\n",
              "      <th></th>\n",
              "      <th></th>\n",
              "      <th></th>\n",
              "    </tr>\n",
              "  </thead>\n",
              "  <tbody>\n",
              "    <tr>\n",
              "      <th>Albania</th>\n",
              "      <td>394.909127</td>\n",
              "      <td>402.816095</td>\n",
              "      <td>400.846526</td>\n",
              "    </tr>\n",
              "    <tr>\n",
              "      <th>Brazil</th>\n",
              "      <td>374.125981</td>\n",
              "      <td>414.378592</td>\n",
              "      <td>394.032508</td>\n",
              "    </tr>\n",
              "    <tr>\n",
              "      <th>Canada</th>\n",
              "      <td>505.068733</td>\n",
              "      <td>529.374147</td>\n",
              "      <td>513.943460</td>\n",
              "    </tr>\n",
              "    <tr>\n",
              "      <th>China</th>\n",
              "      <td>567.075268</td>\n",
              "      <td>555.054238</td>\n",
              "      <td>549.942772</td>\n",
              "    </tr>\n",
              "    <tr>\n",
              "      <th>Colombia</th>\n",
              "      <td>372.632528</td>\n",
              "      <td>421.589186</td>\n",
              "      <td>398.693190</td>\n",
              "    </tr>\n",
              "    <tr>\n",
              "      <th>Costa Rica</th>\n",
              "      <td>394.521885</td>\n",
              "      <td>451.751323</td>\n",
              "      <td>423.981920</td>\n",
              "    </tr>\n",
              "    <tr>\n",
              "      <th>Czech Republic</th>\n",
              "      <td>513.662622</td>\n",
              "      <td>532.175570</td>\n",
              "      <td>526.297687</td>\n",
              "    </tr>\n",
              "    <tr>\n",
              "      <th>Denmark</th>\n",
              "      <td>479.150287</td>\n",
              "      <td>499.628015</td>\n",
              "      <td>476.815832</td>\n",
              "    </tr>\n",
              "    <tr>\n",
              "      <th>Ireland</th>\n",
              "      <td>493.271801</td>\n",
              "      <td>537.990687</td>\n",
              "      <td>519.542638</td>\n",
              "    </tr>\n",
              "    <tr>\n",
              "      <th>Israel</th>\n",
              "      <td>463.238905</td>\n",
              "      <td>509.354562</td>\n",
              "      <td>472.329504</td>\n",
              "    </tr>\n",
              "    <tr>\n",
              "      <th>Italy</th>\n",
              "      <td>481.951575</td>\n",
              "      <td>514.916862</td>\n",
              "      <td>498.541250</td>\n",
              "    </tr>\n",
              "    <tr>\n",
              "      <th>Japan</th>\n",
              "      <td>525.367581</td>\n",
              "      <td>548.809028</td>\n",
              "      <td>540.016058</td>\n",
              "    </tr>\n",
              "    <tr>\n",
              "      <th>Latvia</th>\n",
              "      <td>496.140442</td>\n",
              "      <td>520.512969</td>\n",
              "      <td>512.500502</td>\n",
              "    </tr>\n",
              "    <tr>\n",
              "      <th>Poland</th>\n",
              "      <td>519.075547</td>\n",
              "      <td>541.633735</td>\n",
              "      <td>530.487598</td>\n",
              "    </tr>\n",
              "    <tr>\n",
              "      <th>Russia</th>\n",
              "      <td>483.636633</td>\n",
              "      <td>498.079828</td>\n",
              "      <td>487.323970</td>\n",
              "    </tr>\n",
              "    <tr>\n",
              "      <th>Taiwan</th>\n",
              "      <td>555.010418</td>\n",
              "      <td>537.997923</td>\n",
              "      <td>521.938356</td>\n",
              "    </tr>\n",
              "    <tr>\n",
              "      <th>Thailand</th>\n",
              "      <td>447.522975</td>\n",
              "      <td>476.491810</td>\n",
              "      <td>464.916975</td>\n",
              "    </tr>\n",
              "    <tr>\n",
              "      <th>Turkey</th>\n",
              "      <td>441.790163</td>\n",
              "      <td>497.347383</td>\n",
              "      <td>467.623036</td>\n",
              "    </tr>\n",
              "    <tr>\n",
              "      <th>United Arab Emirates</th>\n",
              "      <td>434.623771</td>\n",
              "      <td>466.851789</td>\n",
              "      <td>460.492777</td>\n",
              "    </tr>\n",
              "    <tr>\n",
              "      <th>United States</th>\n",
              "      <td>480.413571</td>\n",
              "      <td>516.138966</td>\n",
              "      <td>498.353526</td>\n",
              "    </tr>\n",
              "    <tr>\n",
              "      <th>Uruguay</th>\n",
              "      <td>404.905305</td>\n",
              "      <td>429.967495</td>\n",
              "      <td>418.668723</td>\n",
              "    </tr>\n",
              "    <tr>\n",
              "      <th>Vietnam</th>\n",
              "      <td>506.757455</td>\n",
              "      <td>523.234637</td>\n",
              "      <td>528.123848</td>\n",
              "    </tr>\n",
              "  </tbody>\n",
              "</table style=\"display:inline\"><table style=\"display:inline\" border=\"1\" class=\"dataframe\">\n",
              "  <thead>\n",
              "    <tr style=\"text-align: right;\">\n",
              "      <th></th>\n",
              "      <th>PV1MATH</th>\n",
              "      <th>PV1READ</th>\n",
              "      <th>PV1SCIE</th>\n",
              "    </tr>\n",
              "    <tr>\n",
              "      <th>CNT</th>\n",
              "      <th></th>\n",
              "      <th></th>\n",
              "      <th></th>\n",
              "    </tr>\n",
              "  </thead>\n",
              "  <tbody>\n",
              "    <tr>\n",
              "      <th>Albania</th>\n",
              "      <td>395.698046</td>\n",
              "      <td>389.788024</td>\n",
              "      <td>397.221594</td>\n",
              "    </tr>\n",
              "    <tr>\n",
              "      <th>Brazil</th>\n",
              "      <td>391.938571</td>\n",
              "      <td>384.761934</td>\n",
              "      <td>396.774899</td>\n",
              "    </tr>\n",
              "    <tr>\n",
              "      <th>Canada</th>\n",
              "      <td>513.726671</td>\n",
              "      <td>492.512505</td>\n",
              "      <td>515.507221</td>\n",
              "    </tr>\n",
              "    <tr>\n",
              "      <th>China</th>\n",
              "      <td>572.797039</td>\n",
              "      <td>525.772993</td>\n",
              "      <td>552.281922</td>\n",
              "    </tr>\n",
              "    <tr>\n",
              "      <th>Colombia</th>\n",
              "      <td>401.457091</td>\n",
              "      <td>406.616020</td>\n",
              "      <td>419.749832</td>\n",
              "    </tr>\n",
              "    <tr>\n",
              "      <th>Costa Rica</th>\n",
              "      <td>419.383464</td>\n",
              "      <td>427.762720</td>\n",
              "      <td>436.003635</td>\n",
              "    </tr>\n",
              "    <tr>\n",
              "      <th>Czech Republic</th>\n",
              "      <td>525.963536</td>\n",
              "      <td>493.601812</td>\n",
              "      <td>529.011426</td>\n",
              "    </tr>\n",
              "    <tr>\n",
              "      <th>Denmark</th>\n",
              "      <td>493.359271</td>\n",
              "      <td>467.888333</td>\n",
              "      <td>487.348264</td>\n",
              "    </tr>\n",
              "    <tr>\n",
              "      <th>Ireland</th>\n",
              "      <td>508.764011</td>\n",
              "      <td>508.006226</td>\n",
              "      <td>523.922800</td>\n",
              "    </tr>\n",
              "    <tr>\n",
              "      <th>Israel</th>\n",
              "      <td>476.039427</td>\n",
              "      <td>468.418037</td>\n",
              "      <td>475.466285</td>\n",
              "    </tr>\n",
              "    <tr>\n",
              "      <th>Italy</th>\n",
              "      <td>501.487702</td>\n",
              "      <td>476.301049</td>\n",
              "      <td>501.499727</td>\n",
              "    </tr>\n",
              "    <tr>\n",
              "      <th>Japan</th>\n",
              "      <td>545.769012</td>\n",
              "      <td>527.730577</td>\n",
              "      <td>553.556475</td>\n",
              "    </tr>\n",
              "    <tr>\n",
              "      <th>Latvia</th>\n",
              "      <td>494.735214</td>\n",
              "      <td>469.741632</td>\n",
              "      <td>499.876820</td>\n",
              "    </tr>\n",
              "    <tr>\n",
              "      <th>Poland</th>\n",
              "      <td>522.225869</td>\n",
              "      <td>498.931986</td>\n",
              "      <td>526.544244</td>\n",
              "    </tr>\n",
              "    <tr>\n",
              "      <th>Russia</th>\n",
              "      <td>484.014070</td>\n",
              "      <td>459.059398</td>\n",
              "      <td>484.472495</td>\n",
              "    </tr>\n",
              "    <tr>\n",
              "      <th>Taiwan</th>\n",
              "      <td>560.297182</td>\n",
              "      <td>504.889808</td>\n",
              "      <td>522.193211</td>\n",
              "    </tr>\n",
              "    <tr>\n",
              "      <th>Thailand</th>\n",
              "      <td>432.847335</td>\n",
              "      <td>421.758355</td>\n",
              "      <td>444.553587</td>\n",
              "    </tr>\n",
              "    <tr>\n",
              "      <th>Turkey</th>\n",
              "      <td>455.570095</td>\n",
              "      <td>454.725669</td>\n",
              "      <td>460.295703</td>\n",
              "    </tr>\n",
              "    <tr>\n",
              "      <th>United Arab Emirates</th>\n",
              "      <td>428.075651</td>\n",
              "      <td>407.192339</td>\n",
              "      <td>429.458798</td>\n",
              "    </tr>\n",
              "    <tr>\n",
              "      <th>United States</th>\n",
              "      <td>490.840819</td>\n",
              "      <td>489.533505</td>\n",
              "      <td>504.482001</td>\n",
              "    </tr>\n",
              "    <tr>\n",
              "      <th>Uruguay</th>\n",
              "      <td>417.829536</td>\n",
              "      <td>394.960828</td>\n",
              "      <td>417.426290</td>\n",
              "    </tr>\n",
              "    <tr>\n",
              "      <th>Vietnam</th>\n",
              "      <td>515.882921</td>\n",
              "      <td>491.796196</td>\n",
              "      <td>528.880867</td>\n",
              "    </tr>\n",
              "  </tbody>\n",
              "</table style=\"display:inline\"><table style=\"display:inline\" border=\"1\" class=\"dataframe\">\n",
              "  <thead>\n",
              "    <tr style=\"text-align: right;\">\n",
              "      <th></th>\n",
              "      <th>PV1MATH</th>\n",
              "      <th>PV1READ</th>\n",
              "      <th>PV1SCIE</th>\n",
              "      <th>SUM</th>\n",
              "    </tr>\n",
              "    <tr>\n",
              "      <th>CNT</th>\n",
              "      <th></th>\n",
              "      <th></th>\n",
              "      <th></th>\n",
              "      <th></th>\n",
              "    </tr>\n",
              "  </thead>\n",
              "  <tbody>\n",
              "    <tr>\n",
              "      <th>Albania</th>\n",
              "      <td>-0.788919</td>\n",
              "      <td>13.028070</td>\n",
              "      <td>3.624932</td>\n",
              "      <td>15.864083</td>\n",
              "    </tr>\n",
              "    <tr>\n",
              "      <th>Brazil</th>\n",
              "      <td>-17.812590</td>\n",
              "      <td>29.616658</td>\n",
              "      <td>-2.742392</td>\n",
              "      <td>9.061677</td>\n",
              "    </tr>\n",
              "    <tr>\n",
              "      <th>Canada</th>\n",
              "      <td>-8.657938</td>\n",
              "      <td>36.861642</td>\n",
              "      <td>-1.563761</td>\n",
              "      <td>26.639943</td>\n",
              "    </tr>\n",
              "    <tr>\n",
              "      <th>China</th>\n",
              "      <td>-5.721771</td>\n",
              "      <td>29.281244</td>\n",
              "      <td>-2.339150</td>\n",
              "      <td>21.220324</td>\n",
              "    </tr>\n",
              "    <tr>\n",
              "      <th>Colombia</th>\n",
              "      <td>-28.824563</td>\n",
              "      <td>14.973166</td>\n",
              "      <td>-21.056642</td>\n",
              "      <td>-34.908039</td>\n",
              "    </tr>\n",
              "    <tr>\n",
              "      <th>Costa Rica</th>\n",
              "      <td>-24.861578</td>\n",
              "      <td>23.988603</td>\n",
              "      <td>-12.021714</td>\n",
              "      <td>-12.894690</td>\n",
              "    </tr>\n",
              "    <tr>\n",
              "      <th>Czech Republic</th>\n",
              "      <td>-12.300914</td>\n",
              "      <td>38.573758</td>\n",
              "      <td>-2.713739</td>\n",
              "      <td>23.559105</td>\n",
              "    </tr>\n",
              "    <tr>\n",
              "      <th>Denmark</th>\n",
              "      <td>-14.208984</td>\n",
              "      <td>31.739682</td>\n",
              "      <td>-10.532432</td>\n",
              "      <td>6.998267</td>\n",
              "    </tr>\n",
              "    <tr>\n",
              "      <th>Ireland</th>\n",
              "      <td>-15.492210</td>\n",
              "      <td>29.984460</td>\n",
              "      <td>-4.380162</td>\n",
              "      <td>10.112088</td>\n",
              "    </tr>\n",
              "    <tr>\n",
              "      <th>Israel</th>\n",
              "      <td>-12.800522</td>\n",
              "      <td>40.936525</td>\n",
              "      <td>-3.136782</td>\n",
              "      <td>24.999221</td>\n",
              "    </tr>\n",
              "    <tr>\n",
              "      <th>Italy</th>\n",
              "      <td>-19.536127</td>\n",
              "      <td>38.615813</td>\n",
              "      <td>-2.958476</td>\n",
              "      <td>16.121210</td>\n",
              "    </tr>\n",
              "    <tr>\n",
              "      <th>Japan</th>\n",
              "      <td>-20.401432</td>\n",
              "      <td>21.078452</td>\n",
              "      <td>-13.540417</td>\n",
              "      <td>-12.863397</td>\n",
              "    </tr>\n",
              "    <tr>\n",
              "      <th>Latvia</th>\n",
              "      <td>1.405227</td>\n",
              "      <td>50.771337</td>\n",
              "      <td>12.623682</td>\n",
              "      <td>64.800247</td>\n",
              "    </tr>\n",
              "    <tr>\n",
              "      <th>Poland</th>\n",
              "      <td>-3.150321</td>\n",
              "      <td>42.701749</td>\n",
              "      <td>3.943353</td>\n",
              "      <td>43.494781</td>\n",
              "    </tr>\n",
              "    <tr>\n",
              "      <th>Russia</th>\n",
              "      <td>-0.377438</td>\n",
              "      <td>39.020430</td>\n",
              "      <td>2.851475</td>\n",
              "      <td>41.494467</td>\n",
              "    </tr>\n",
              "    <tr>\n",
              "      <th>Taiwan</th>\n",
              "      <td>-5.286764</td>\n",
              "      <td>33.108114</td>\n",
              "      <td>-0.254856</td>\n",
              "      <td>27.566495</td>\n",
              "    </tr>\n",
              "    <tr>\n",
              "      <th>Thailand</th>\n",
              "      <td>14.675640</td>\n",
              "      <td>54.733455</td>\n",
              "      <td>20.363388</td>\n",
              "      <td>89.772483</td>\n",
              "    </tr>\n",
              "    <tr>\n",
              "      <th>Turkey</th>\n",
              "      <td>-13.779932</td>\n",
              "      <td>42.621714</td>\n",
              "      <td>7.327333</td>\n",
              "      <td>36.169115</td>\n",
              "    </tr>\n",
              "    <tr>\n",
              "      <th>United Arab Emirates</th>\n",
              "      <td>6.548120</td>\n",
              "      <td>59.659451</td>\n",
              "      <td>31.033978</td>\n",
              "      <td>97.241549</td>\n",
              "    </tr>\n",
              "    <tr>\n",
              "      <th>United States</th>\n",
              "      <td>-10.427248</td>\n",
              "      <td>26.605461</td>\n",
              "      <td>-6.128475</td>\n",
              "      <td>10.049738</td>\n",
              "    </tr>\n",
              "    <tr>\n",
              "      <th>Uruguay</th>\n",
              "      <td>-12.924231</td>\n",
              "      <td>35.006667</td>\n",
              "      <td>1.242433</td>\n",
              "      <td>23.324869</td>\n",
              "    </tr>\n",
              "    <tr>\n",
              "      <th>Vietnam</th>\n",
              "      <td>-9.125466</td>\n",
              "      <td>31.438441</td>\n",
              "      <td>-0.757019</td>\n",
              "      <td>21.555957</td>\n",
              "    </tr>\n",
              "  </tbody>\n",
              "</table style=\"display:inline\">"
            ]
          },
          "metadata": {
            "tags": []
          }
        }
      ]
    },
    {
      "cell_type": "markdown",
      "metadata": {
        "id": "9TEtGY9knftu"
      },
      "source": [
        "<div class=\"alert alert-info\">\n",
        "<b>6</b> - Em que grupos de países (OCDE e não OCDE) o grau de instrução dos pais é maior, em geral? \n",
        "    <br><br> Observe que nesta coleção, a educação da mãe e do pai são codificados pelas variáveis ST13Q01 e ST17Q01 respectivamente. Estas variáveis registram o grau de instrução usando o código internacional ISCED (International Standard Classification of Education). Para calcular o grau de instrução agregado, inicialmente, mapeie os valores destas variáveis para os inteiros de 0 a 4, como dado a seguir:<ul>\n",
        "    <li>0 = He/She did not complete ISCED level 1\n",
        "    <li>1 = ISCED level 1 (primário no Brasil)\n",
        "    <li>2 = ISCED level 2 (secundário no Brasil)\n",
        "    <li>3 = ISCED level 3B, 3C (superior mais focado em formação profissional)\n",
        "    <li>4 = ISCED level 3A (superior que dá acesso a mestrado, doutorado)\n",
        "    </ul>\n",
        "<br> O grau de instrução agregado dos pais devem então ser estimado como a soma dos valores dados para o pai e para a mãe. Por exemplo, dado um certo aluno A, se seu pai tem grau de instrução 2 e sua mãe 4, o valor agregado associado com A será 2+4 = 6. \n",
        "</div>"
      ]
    },
    {
      "cell_type": "markdown",
      "metadata": {
        "id": "QYft59cqRGzA"
      },
      "source": [
        "<div class=\"alert alert-info\" align=\"justify\">\n",
        "    <b>Resposta</b> : O grau de instrução dos pais é <b>maior</b> nos países que <b>fazem parte da OCDE</b>. As próximas células apresentam os passos de como a infomação foi obtida e o gráfico para comparação dos valores. \n",
        "</div>"
      ]
    },
    {
      "cell_type": "code",
      "metadata": {
        "id": "aJCSJREkx39E"
      },
      "source": [
        "pisa2['ST13Q01'] = pisa2['ST13Q01'].map({ 'She did not complete <ISCED level 1> ': 0,\n",
        "                                          '<ISCED level 1> ': 1, \n",
        "                                          '<ISCED level 2> ': 2, \n",
        "                                          '<ISCED level 3B, 3C> ': 3, \n",
        "                                          '<ISCED level 3A> ': 4},\n",
        "                                          na_action=None)\n",
        "\n",
        "pisa2['ST17Q01'] = pisa2['ST17Q01'].map({ 'He did not complete <ISCED level 1> ': 0,\n",
        "                                          '<ISCED level 1> ': 1, \n",
        "                                          '<ISCED level 2> ': 2, \n",
        "                                          '<ISCED level 3B, 3C> ': 3, \n",
        "                                          '<ISCED level 3A> ': 4},\n",
        "                                          na_action=None)\n",
        "pisa2['ST13Q01'] = pisa2['ST13Q01'].astype(int)\n",
        "pisa2['ST17Q01'] = pisa2['ST17Q01'].astype(int)"
      ],
      "execution_count": null,
      "outputs": []
    },
    {
      "cell_type": "code",
      "metadata": {
        "id": "iTpVKfRu7eoo"
      },
      "source": [
        "# Cria uma coluna para o grau de instrução agregado dos pais (AGG_VALUE)\n",
        "pisa2['AGG_VALUE'] = pisa2['ST13Q01'] + pisa2['ST17Q01'] "
      ],
      "execution_count": null,
      "outputs": []
    },
    {
      "cell_type": "code",
      "metadata": {
        "id": "Lx7rkTUq_HRm"
      },
      "source": [
        "# Gráficos dos grupos de países (OCDE e não OCDE) com base no grau de instrução dos pais\n",
        "aggValueOECD = pisa2[['CNT','AGG_VALUE']][pisa2['OECD'] == 'OECD'].sort_values(by='AGG_VALUE', ascending = False) \n",
        "aggValueNoOECD = pisa2[['CNT','AGG_VALUE']][pisa2['OECD'] == 'Non-OECD'].sort_values(by='AGG_VALUE', ascending = False)"
      ],
      "execution_count": null,
      "outputs": []
    },
    {
      "cell_type": "code",
      "metadata": {
        "colab": {
          "base_uri": "https://localhost:8080/",
          "height": 791
        },
        "id": "gl2JJiZ3DXIW",
        "outputId": "be0cefc8-b9eb-4b5d-9e82-4fb40b7be9dd"
      },
      "source": [
        "# Gráficos dos grupos de países que fazem parte da OCDE com base no grau de instrução dos pais\n",
        "plt.style.use(\"bmh\")\n",
        "plt.figure(figsize=(12, 6))\n",
        "\n",
        "plt.title(label = \"Gráficos dos grupos de países que fazem parte da OCDE com base no grau de instrução dos pais\", \n",
        "          fontsize = 12)\n",
        "plt.xlabel('Países')\n",
        "plt.ylabel('Nº total do grau de instrução dos pais')\n",
        "\n",
        "countries = aggValueOECD['CNT'].unique()\n",
        "aggvalue = aggValueOECD.groupby('CNT')['AGG_VALUE'].sum().tolist()\n",
        "\n",
        "plt.bar(countries, aggvalue, label = 'OECD' , width=0.60, color = '#683CE8')\n",
        "plt.legend()\n",
        "plt.show()\n",
        "\n",
        "# Gráficos dos grupos de países que não fazem parte da OCDE com base no grau de instrução dos pais\n",
        "plt.figure(figsize=(18, 6))\n",
        "plt.title(label = \"Gráficos dos grupos de países que não fazem parte da OCDE com base no grau de instrução dos pais\", \n",
        "          fontsize = 12)\n",
        "plt.xlabel('Países')\n",
        "plt.ylabel('Nº total do grau de instrução dos pais')\n",
        "\n",
        "countries = aggValueNoOECD['CNT'].unique()\n",
        "aggvalue = aggValueNoOECD.groupby('CNT')['AGG_VALUE'].sum().tolist()\n",
        "\n",
        "# plt.text(-0.2,aggvalue[0]+1000,aggvalue[0], fontsize=12)\n",
        "plt.bar(countries, aggvalue, label = 'NO OECD' , width=0.60, color = '#42A9FF')\n",
        "plt.legend()\n",
        "plt.show()"
      ],
      "execution_count": null,
      "outputs": [
        {
          "output_type": "display_data",
          "data": {
            "image/png": "[encoded data removed]",
            "text/plain": [
              "<Figure size 864x432 with 1 Axes>"
            ]
          },
          "metadata": {
            "tags": [],
            "needs_background": "light"
          }
        },
        {
          "output_type": "display_data",
          "data": {
            "image/png": "[encoded data removed]",
            "text/plain": [
              "<Figure size 1296x432 with 1 Axes>"
            ]
          },
          "metadata": {
            "tags": [],
            "needs_background": "light"
          }
        }
      ]
    },
    {
      "cell_type": "markdown",
      "metadata": {
        "id": "mGaNSYRVnftv"
      },
      "source": [
        "<div class=\"alert alert-info\">\n",
        "<b>7</b> - Dada a informação de educação agregada dos pais, calculada anteriormente, como varia o desempenho dos estudantes em relação ao grau de instrução dos seus pais? Mais especificamente, plote o grau de educação dos pais contra o desempenho médio dos estudantes para as áreas de Matemática, Línguas e Ciências. Como as duas variáveis se relacionam?\n",
        "</div>"
      ]
    },
    {
      "cell_type": "markdown",
      "metadata": {
        "id": "A0yP3WNesfbL"
      },
      "source": [
        "<div class=\"alert alert-info\" align=\"justify\">\n",
        "    <b>Resposta</b> : Diante das informações obtidas, foi identificado que as médias das notas para as áreas <code>PV1MATH</code>, <code>PV1READ</code> e <code>PV1SCIE</code> é diretamente proporcional com o grau de educação dos pais, ou seja quando maior o grau de educação dos pais maior são as chances dos alunos de obterem médias altas nas áreas. As próximas céluas apresentam como as informações foram obtidas.\n",
        "</div>"
      ]
    },
    {
      "cell_type": "code",
      "metadata": {
        "id": "OzJALFcjnftv"
      },
      "source": [
        "# pisa2[['AGG_VALUE','PV1MATH','PV1READ','PV1SCIE']].describe()\n",
        "pisa2['AVERAGE_AREA'] = (pisa2['PV1MATH'] + pisa2['PV1READ'] + pisa2['PV1SCIE'])/3\n",
        "# pisa2 = pisa2.sort_values(by='AVERAGE_AREA', ascending = False)"
      ],
      "execution_count": null,
      "outputs": []
    },
    {
      "cell_type": "code",
      "metadata": {
        "colab": {
          "base_uri": "https://localhost:8080/",
          "height": 404
        },
        "id": "SVJO9PBcmzQR",
        "outputId": "76e5235f-254f-4415-8805-e1e5038d7ca4"
      },
      "source": [
        "# pisa2[['AGG_VALUE','AVERAGE_AREA']]\n",
        "plt.style.use(\"bmh\")\n",
        "plt.figure(figsize=(12, 6))\n",
        "\n",
        "plt.plot(pisa2['AVERAGE_AREA'][:100], pisa2['AGG_VALUE'][:100],'o', label = 'Participantes', color = '#42A9FF' )\n",
        "plt.legend()\n",
        "plt.title(label = \"Distribuição do desempenho médio dos alunos com base no grau de educação dos pais\", \n",
        "          fontsize = 12)\n",
        "plt.xlabel('Desempenho médio dos estudantes')\n",
        "plt.ylabel('Grau de educação dos pais')\n",
        "\n",
        "plt.show()"
      ],
      "execution_count": null,
      "outputs": [
        {
          "output_type": "display_data",
          "data": {
            "image/png": "[encoded data removed]",
            "text/plain": [
              "<Figure size 864x432 with 1 Axes>"
            ]
          },
          "metadata": {
            "tags": [],
            "needs_background": "light"
          }
        }
      ]
    },
    {
      "cell_type": "markdown",
      "metadata": {
        "id": "dtEGXIQDnftv"
      },
      "source": [
        "<div class=\"alert alert-info\">\n",
        "<b>8</b> - É bem claro que alunos de países mais ricos têm melhores desempenhos. Em particular, como países da OCDE e fora da OCDE se comparam em relação à quantidade de livros (ST28Q01) e computadores (ST27Q03) que a família possui em casa? \n",
        "<br>Use gráficos de barra para mostrar as diferenças em cada caso (livros e computadores). Em cada gráfico, para cada valor possível (livros: 0 a 10, 11 a 25, 26 a 100 etc; computadores: 0, 1, 2 e >2), mostre as quantidades para OCDE e não OCDE.\n",
        "</div>"
      ]
    },
    {
      "cell_type": "markdown",
      "metadata": {
        "id": "cQvFuyUyudgO"
      },
      "source": [
        "<div class=\"alert alert-info\" align=\"justify\">\n",
        "    <b>Resposta</b> : Diante das informações obtidas, foi identificado que <b> as famílias dos países que fazem parte da OCDE possuem mais livros e computadores</b> quando comparadas às famílias dos países que não fazem parte da OCDE. As próximas céluas apresentam como as informações foram obtidas.\n",
        "</div>"
      ]
    },
    {
      "cell_type": "code",
      "metadata": {
        "id": "6ct5UM33nftv",
        "colab": {
          "base_uri": "https://localhost:8080/",
          "height": 266
        },
        "outputId": "d9399d66-b0c7-46b3-b278-4a4a1a852ff7"
      },
      "source": [
        "countriesOECDBook = (pisa2[pisa2['OECD']=='OECD']).groupby(by = 'ST28Q01')[['ST28Q01']].count()\n",
        "countriesNoOECDBook = (pisa2[pisa2['OECD'] == 'Non-OECD']).groupby(by = 'ST28Q01')[['ST28Q01']].count()\n",
        "countriesOECDComputer = (pisa2[pisa2['OECD'] == 'OECD']).groupby(by = 'ST27Q03')[['ST27Q03']].count()\n",
        "countriesNoOECDComputer = (pisa2[pisa2['OECD'] == 'Non-OECD']).groupby(by = 'ST27Q03')[['ST27Q03']].count()\n",
        "\n",
        "display_side_by_side (countriesOECDBook, countriesNoOECDBook, countriesOECDComputer, countriesNoOECDComputer)"
      ],
      "execution_count": null,
      "outputs": [
        {
          "output_type": "display_data",
          "data": {
            "text/html": [
              "<table style=\"display:inline\" border=\"1\" class=\"dataframe\">\n",
              "  <thead>\n",
              "    <tr style=\"text-align: right;\">\n",
              "      <th></th>\n",
              "      <th>ST28Q01</th>\n",
              "    </tr>\n",
              "    <tr>\n",
              "      <th>ST28Q01</th>\n",
              "      <th></th>\n",
              "    </tr>\n",
              "  </thead>\n",
              "  <tbody>\n",
              "    <tr>\n",
              "      <th>0-10 books</th>\n",
              "      <td>13260</td>\n",
              "    </tr>\n",
              "    <tr>\n",
              "      <th>101-200 books</th>\n",
              "      <td>17807</td>\n",
              "    </tr>\n",
              "    <tr>\n",
              "      <th>11-25 books</th>\n",
              "      <td>16942</td>\n",
              "    </tr>\n",
              "    <tr>\n",
              "      <th>201-500 books</th>\n",
              "      <td>13399</td>\n",
              "    </tr>\n",
              "    <tr>\n",
              "      <th>26-100 books</th>\n",
              "      <td>32652</td>\n",
              "    </tr>\n",
              "    <tr>\n",
              "      <th>More than 500 books</th>\n",
              "      <td>7536</td>\n",
              "    </tr>\n",
              "  </tbody>\n",
              "</table style=\"display:inline\"><table style=\"display:inline\" border=\"1\" class=\"dataframe\">\n",
              "  <thead>\n",
              "    <tr style=\"text-align: right;\">\n",
              "      <th></th>\n",
              "      <th>ST28Q01</th>\n",
              "    </tr>\n",
              "    <tr>\n",
              "      <th>ST28Q01</th>\n",
              "      <th></th>\n",
              "    </tr>\n",
              "  </thead>\n",
              "  <tbody>\n",
              "    <tr>\n",
              "      <th>0-10 books</th>\n",
              "      <td>26370</td>\n",
              "    </tr>\n",
              "    <tr>\n",
              "      <th>101-200 books</th>\n",
              "      <td>9659</td>\n",
              "    </tr>\n",
              "    <tr>\n",
              "      <th>11-25 books</th>\n",
              "      <td>24911</td>\n",
              "    </tr>\n",
              "    <tr>\n",
              "      <th>201-500 books</th>\n",
              "      <td>5658</td>\n",
              "    </tr>\n",
              "    <tr>\n",
              "      <th>26-100 books</th>\n",
              "      <td>28762</td>\n",
              "    </tr>\n",
              "    <tr>\n",
              "      <th>More than 500 books</th>\n",
              "      <td>3139</td>\n",
              "    </tr>\n",
              "  </tbody>\n",
              "</table style=\"display:inline\"><table style=\"display:inline\" border=\"1\" class=\"dataframe\">\n",
              "  <thead>\n",
              "    <tr style=\"text-align: right;\">\n",
              "      <th></th>\n",
              "      <th>ST27Q03</th>\n",
              "    </tr>\n",
              "    <tr>\n",
              "      <th>ST27Q03</th>\n",
              "      <th></th>\n",
              "    </tr>\n",
              "  </thead>\n",
              "  <tbody>\n",
              "    <tr>\n",
              "      <th>None</th>\n",
              "      <td>3383</td>\n",
              "    </tr>\n",
              "    <tr>\n",
              "      <th>One</th>\n",
              "      <td>27657</td>\n",
              "    </tr>\n",
              "    <tr>\n",
              "      <th>Three or more</th>\n",
              "      <td>37993</td>\n",
              "    </tr>\n",
              "    <tr>\n",
              "      <th>Two</th>\n",
              "      <td>32563</td>\n",
              "    </tr>\n",
              "  </tbody>\n",
              "</table style=\"display:inline\"><table style=\"display:inline\" border=\"1\" class=\"dataframe\">\n",
              "  <thead>\n",
              "    <tr style=\"text-align: right;\">\n",
              "      <th></th>\n",
              "      <th>ST27Q03</th>\n",
              "    </tr>\n",
              "    <tr>\n",
              "      <th>ST27Q03</th>\n",
              "      <th></th>\n",
              "    </tr>\n",
              "  </thead>\n",
              "  <tbody>\n",
              "    <tr>\n",
              "      <th>None</th>\n",
              "      <td>17952</td>\n",
              "    </tr>\n",
              "    <tr>\n",
              "      <th>One</th>\n",
              "      <td>40760</td>\n",
              "    </tr>\n",
              "    <tr>\n",
              "      <th>Three or more</th>\n",
              "      <td>17729</td>\n",
              "    </tr>\n",
              "    <tr>\n",
              "      <th>Two</th>\n",
              "      <td>22058</td>\n",
              "    </tr>\n",
              "  </tbody>\n",
              "</table style=\"display:inline\">"
            ]
          },
          "metadata": {
            "tags": []
          }
        }
      ]
    },
    {
      "cell_type": "code",
      "metadata": {
        "colab": {
          "base_uri": "https://localhost:8080/",
          "height": 759
        },
        "id": "eXYbqyMdStV9",
        "outputId": "5e8f7aa9-f584-40b1-950e-f54644bf308a"
      },
      "source": [
        "# Livro OCDE x Não OCDE\n",
        "plt.style.use(\"bmh\")\n",
        "plt.figure(figsize=(12, 6))\n",
        "\n",
        "OECDBook = countriesOECDBook['ST28Q01'].tolist()\n",
        "noOECDBook = countriesNoOECDBook['ST28Q01'].tolist()\n",
        "\n",
        "x1 =  np.arange(len(OECDBook))\n",
        "x2 = [x + 0.25 for x in x1]\n",
        "\n",
        "plt.bar(x1, OECDBook, width=0.25, label = 'OECD', color = '#683CE8')\n",
        "plt.bar(x2, noOECDBook, width=0.25, label = 'NO OECD', color = '#42A9FF')\n",
        "\n",
        "books = ['0-10 books','101-200 books','11-25 books','201-500 books','26-100 books','More than 500 books']\n",
        "plt.xticks([x + 0.12 for x in range(len(OECDBook))], books)\n",
        "\n",
        "plt.legend()\n",
        "\n",
        "plt.title(\"Livros\")\n",
        "plt.show()\n",
        "\n",
        "# Computadores OCDE x Não OCDE\n",
        "plt.style.use(\"bmh\")\n",
        "plt.figure(figsize=(12, 6))\n",
        "\n",
        "OECDComputes = countriesOECDComputer['ST27Q03'].tolist()\n",
        "noOECDComputes = countriesNoOECDComputer['ST27Q03'].tolist()\n",
        "\n",
        "x1 =  np.arange(len(OECDComputes))\n",
        "x2 = [x + 0.25 for x in x1]\n",
        "\n",
        "plt.bar(x1, OECDComputes, width=0.25, label = 'OECD', color = '#683CE8')\n",
        "plt.bar(x2, noOECDComputes, width=0.25, label = 'NO OECD', color = '#42A9FF')\n",
        "\n",
        "books = ['None','One','Three or more','Two']\n",
        "plt.xticks([x + 0.12 for x in range(len(OECDComputes))], books)\n",
        "\n",
        "plt.legend()\n",
        "\n",
        "plt.title(\"Computadores\")\n",
        "plt.show()"
      ],
      "execution_count": null,
      "outputs": [
        {
          "output_type": "display_data",
          "data": {
            "image/png": "[encoded data removed]",
            "text/plain": [
              "<Figure size 864x432 with 1 Axes>"
            ]
          },
          "metadata": {
            "tags": [],
            "needs_background": "light"
          }
        },
        {
          "output_type": "display_data",
          "data": {
            "image/png": "[encoded data removed]",
            "text/plain": [
              "<Figure size 864x432 with 1 Axes>"
            ]
          },
          "metadata": {
            "tags": [],
            "needs_background": "light"
          }
        }
      ]
    },
    {
      "cell_type": "markdown",
      "metadata": {
        "id": "6Byg6MrZnftv"
      },
      "source": [
        "<div class=\"alert alert-info\">\n",
        "    É bem claro que alunos de países mais ricos têm melhores desempenhos. Vamos ver agora qual o impacto de certos bens como bens associados à valorização do conhecimento tem impacto sobre o desempenho dos alunos: livros, Internet e computadores. \n",
        "<br><br>\n",
        "<b>9</b> - Qual a relação entre os livros que a família possui em casa e o desempenho do estudante em Matemática, Línguas e Ciência?\n",
        "</div>"
      ]
    },
    {
      "cell_type": "markdown",
      "metadata": {
        "id": "coseMD_U6uFo"
      },
      "source": [
        "<div class=\"alert alert-info\" align=\"justify\">\n",
        "    <b>Resposta</b> : Observou-se, que os alunos que possuem mais livros em casa obtêm maior pontuação nos exames, em especial nas áreas <code> <b>PV1SCIE</b></code> e <code><b>PV1READ</b></code> respectivamente. As próximas céluas apresentam como as informações foram obtidas.\n",
        "</div>"
      ]
    },
    {
      "cell_type": "code",
      "metadata": {
        "scrolled": true,
        "id": "rKuZL1s-nftv",
        "colab": {
          "base_uri": "https://localhost:8080/",
          "height": 266
        },
        "outputId": "2ba3d185-4f74-46a4-ffa5-5f4b8b0ca4d9"
      },
      "source": [
        "# Relação entre a quantidade de livros que as famílias possuem com o desempenho (média) dos alunos nos exames  \n",
        "# pisa2.groupby('ST28Q01')[['PV1MATH', 'PV1READ', 'PV1SCIE']].sum()/pisa2.shape[0]\n",
        "pd.pivot_table(pisa2, index = ['ST28Q01'], values = ['PV1MATH','PV1READ', 'PV1SCIE'], aggfunc = np.mean)"
      ],
      "execution_count": null,
      "outputs": [
        {
          "output_type": "execute_result",
          "data": {
            "text/html": [
              "<div>\n",
              "<style scoped>\n",
              "    .dataframe tbody tr th:only-of-type {\n",
              "        vertical-align: middle;\n",
              "    }\n",
              "\n",
              "    .dataframe tbody tr th {\n",
              "        vertical-align: top;\n",
              "    }\n",
              "\n",
              "    .dataframe thead th {\n",
              "        text-align: right;\n",
              "    }\n",
              "</style>\n",
              "<table border=\"1\" class=\"dataframe\">\n",
              "  <thead>\n",
              "    <tr style=\"text-align: right;\">\n",
              "      <th></th>\n",
              "      <th>PV1MATH</th>\n",
              "      <th>PV1READ</th>\n",
              "      <th>PV1SCIE</th>\n",
              "    </tr>\n",
              "    <tr>\n",
              "      <th>ST28Q01</th>\n",
              "      <th></th>\n",
              "      <th></th>\n",
              "      <th></th>\n",
              "    </tr>\n",
              "  </thead>\n",
              "  <tbody>\n",
              "    <tr>\n",
              "      <th>0-10 books</th>\n",
              "      <td>417.873509</td>\n",
              "      <td>426.206358</td>\n",
              "      <td>427.017926</td>\n",
              "    </tr>\n",
              "    <tr>\n",
              "      <th>101-200 books</th>\n",
              "      <td>516.495554</td>\n",
              "      <td>519.153693</td>\n",
              "      <td>522.797140</td>\n",
              "    </tr>\n",
              "    <tr>\n",
              "      <th>11-25 books</th>\n",
              "      <td>446.709001</td>\n",
              "      <td>454.507294</td>\n",
              "      <td>455.452599</td>\n",
              "    </tr>\n",
              "    <tr>\n",
              "      <th>201-500 books</th>\n",
              "      <td>543.457093</td>\n",
              "      <td>544.755964</td>\n",
              "      <td>547.239814</td>\n",
              "    </tr>\n",
              "    <tr>\n",
              "      <th>26-100 books</th>\n",
              "      <td>483.898751</td>\n",
              "      <td>485.771843</td>\n",
              "      <td>489.408545</td>\n",
              "    </tr>\n",
              "    <tr>\n",
              "      <th>More than 500 books</th>\n",
              "      <td>535.859296</td>\n",
              "      <td>533.180830</td>\n",
              "      <td>541.007183</td>\n",
              "    </tr>\n",
              "  </tbody>\n",
              "</table>\n",
              "</div>"
            ],
            "text/plain": [
              "                        PV1MATH     PV1READ     PV1SCIE\n",
              "ST28Q01                                                \n",
              "0-10 books           417.873509  426.206358  427.017926\n",
              "101-200 books        516.495554  519.153693  522.797140\n",
              "11-25 books          446.709001  454.507294  455.452599\n",
              "201-500 books        543.457093  544.755964  547.239814\n",
              "26-100 books         483.898751  485.771843  489.408545\n",
              "More than 500 books  535.859296  533.180830  541.007183"
            ]
          },
          "metadata": {
            "tags": []
          },
          "execution_count": 31
        }
      ]
    },
    {
      "cell_type": "markdown",
      "metadata": {
        "id": "pBi3gspHnftw"
      },
      "source": [
        "<div class=\"alert alert-info\">\n",
        "<b>10</b> - Dada um certo número de livros, o desempenho do aluno em Matemática aumenta à medida que ele dispõe de mais computadores? Para responder esta pergunta você deve ver a relação entre três variáveis: o número de livros, o número de computadores e o desempenho médio em Matemática. <b>Use uma tabela pivô para mostrar isto.</b>\n",
        "</div>"
      ]
    },
    {
      "cell_type": "markdown",
      "metadata": {
        "id": "RAVRBr7RKAGa"
      },
      "source": [
        "<div class=\"alert alert-info\" align=\"justify\">\n",
        "    <b>Resposta</b> : Observou-se, que dado um certo número de livros, <b>o desempenho do aluno em Matemática aumenta à medida que ele dispõe de mais computadores</b>. A próxima célua apresenta a tabela pivô de onde as informações foram obtidas.\n",
        "</div>"
      ]
    },
    {
      "cell_type": "code",
      "metadata": {
        "scrolled": true,
        "id": "nntr1fDRnftw",
        "colab": {
          "base_uri": "https://localhost:8080/",
          "height": 824
        },
        "outputId": "c1be7453-09e6-4a72-9d10-a4c79dd6b6f5"
      },
      "source": [
        "pd.pivot_table(pisa2, index = ['ST28Q01','ST27Q03'], values = 'PV1MATH', aggfunc = np.mean)"
      ],
      "execution_count": null,
      "outputs": [
        {
          "output_type": "execute_result",
          "data": {
            "text/html": [
              "<div>\n",
              "<style scoped>\n",
              "    .dataframe tbody tr th:only-of-type {\n",
              "        vertical-align: middle;\n",
              "    }\n",
              "\n",
              "    .dataframe tbody tr th {\n",
              "        vertical-align: top;\n",
              "    }\n",
              "\n",
              "    .dataframe thead th {\n",
              "        text-align: right;\n",
              "    }\n",
              "</style>\n",
              "<table border=\"1\" class=\"dataframe\">\n",
              "  <thead>\n",
              "    <tr style=\"text-align: right;\">\n",
              "      <th></th>\n",
              "      <th></th>\n",
              "      <th>PV1MATH</th>\n",
              "    </tr>\n",
              "    <tr>\n",
              "      <th>ST28Q01</th>\n",
              "      <th>ST27Q03</th>\n",
              "      <th></th>\n",
              "    </tr>\n",
              "  </thead>\n",
              "  <tbody>\n",
              "    <tr>\n",
              "      <th rowspan=\"4\" valign=\"top\">0-10 books</th>\n",
              "      <th>None</th>\n",
              "      <td>383.509676</td>\n",
              "    </tr>\n",
              "    <tr>\n",
              "      <th>One</th>\n",
              "      <td>416.002038</td>\n",
              "    </tr>\n",
              "    <tr>\n",
              "      <th>Three or more</th>\n",
              "      <td>445.079429</td>\n",
              "    </tr>\n",
              "    <tr>\n",
              "      <th>Two</th>\n",
              "      <td>438.905056</td>\n",
              "    </tr>\n",
              "    <tr>\n",
              "      <th rowspan=\"4\" valign=\"top\">101-200 books</th>\n",
              "      <th>None</th>\n",
              "      <td>446.253890</td>\n",
              "    </tr>\n",
              "    <tr>\n",
              "      <th>One</th>\n",
              "      <td>504.856401</td>\n",
              "    </tr>\n",
              "    <tr>\n",
              "      <th>Three or more</th>\n",
              "      <td>527.329720</td>\n",
              "    </tr>\n",
              "    <tr>\n",
              "      <th>Two</th>\n",
              "      <td>520.522719</td>\n",
              "    </tr>\n",
              "    <tr>\n",
              "      <th rowspan=\"4\" valign=\"top\">11-25 books</th>\n",
              "      <th>None</th>\n",
              "      <td>396.590508</td>\n",
              "    </tr>\n",
              "    <tr>\n",
              "      <th>One</th>\n",
              "      <td>442.238943</td>\n",
              "    </tr>\n",
              "    <tr>\n",
              "      <th>Three or more</th>\n",
              "      <td>470.636764</td>\n",
              "    </tr>\n",
              "    <tr>\n",
              "      <th>Two</th>\n",
              "      <td>465.356587</td>\n",
              "    </tr>\n",
              "    <tr>\n",
              "      <th rowspan=\"4\" valign=\"top\">201-500 books</th>\n",
              "      <th>None</th>\n",
              "      <td>460.138774</td>\n",
              "    </tr>\n",
              "    <tr>\n",
              "      <th>One</th>\n",
              "      <td>530.888412</td>\n",
              "    </tr>\n",
              "    <tr>\n",
              "      <th>Three or more</th>\n",
              "      <td>552.179189</td>\n",
              "    </tr>\n",
              "    <tr>\n",
              "      <th>Two</th>\n",
              "      <td>543.566986</td>\n",
              "    </tr>\n",
              "    <tr>\n",
              "      <th rowspan=\"4\" valign=\"top\">26-100 books</th>\n",
              "      <th>None</th>\n",
              "      <td>423.659371</td>\n",
              "    </tr>\n",
              "    <tr>\n",
              "      <th>One</th>\n",
              "      <td>469.573089</td>\n",
              "    </tr>\n",
              "    <tr>\n",
              "      <th>Three or more</th>\n",
              "      <td>504.693466</td>\n",
              "    </tr>\n",
              "    <tr>\n",
              "      <th>Two</th>\n",
              "      <td>497.019433</td>\n",
              "    </tr>\n",
              "    <tr>\n",
              "      <th rowspan=\"4\" valign=\"top\">More than 500 books</th>\n",
              "      <th>None</th>\n",
              "      <td>431.691139</td>\n",
              "    </tr>\n",
              "    <tr>\n",
              "      <th>One</th>\n",
              "      <td>512.870180</td>\n",
              "    </tr>\n",
              "    <tr>\n",
              "      <th>Three or more</th>\n",
              "      <td>548.900598</td>\n",
              "    </tr>\n",
              "    <tr>\n",
              "      <th>Two</th>\n",
              "      <td>537.632687</td>\n",
              "    </tr>\n",
              "  </tbody>\n",
              "</table>\n",
              "</div>"
            ],
            "text/plain": [
              "                                      PV1MATH\n",
              "ST28Q01             ST27Q03                  \n",
              "0-10 books          None           383.509676\n",
              "                    One            416.002038\n",
              "                    Three or more  445.079429\n",
              "                    Two            438.905056\n",
              "101-200 books       None           446.253890\n",
              "                    One            504.856401\n",
              "                    Three or more  527.329720\n",
              "                    Two            520.522719\n",
              "11-25 books         None           396.590508\n",
              "                    One            442.238943\n",
              "                    Three or more  470.636764\n",
              "                    Two            465.356587\n",
              "201-500 books       None           460.138774\n",
              "                    One            530.888412\n",
              "                    Three or more  552.179189\n",
              "                    Two            543.566986\n",
              "26-100 books        None           423.659371\n",
              "                    One            469.573089\n",
              "                    Three or more  504.693466\n",
              "                    Two            497.019433\n",
              "More than 500 books None           431.691139\n",
              "                    One            512.870180\n",
              "                    Three or more  548.900598\n",
              "                    Two            537.632687"
            ]
          },
          "metadata": {
            "tags": []
          },
          "execution_count": 32
        }
      ]
    },
    {
      "cell_type": "markdown",
      "metadata": {
        "id": "xIkiBjX0nftw"
      },
      "source": [
        "<div class=\"alert alert-info\">\n",
        "<b>11</b> - No teste de PISA de 2012, alguns países da OCDE informaram o número médio de minutos que dos alunos usando a Internet na escola para fins educacionais (IC05Q01: sem uso, até 30 minutos, de 30 a 60 min etc). Mostre a relação entre as variáveis país, tempo de uso da Internet e desempenho em Matemática. Os melhores desempenhos estão associados com mais ou menos uso da Internet? que país tem o melhor desempenho para, pelo menos, uma hora de uso da Internet? <b>Ignore os códigos de missing data nesta variável (97, 98 e 99).</b>\n",
        "</div>"
      ]
    },
    {
      "cell_type": "markdown",
      "metadata": {
        "id": "TfwFEofpRFR8"
      },
      "source": [
        "<div class=\"alert alert-info\" align=\"justify\">\n",
        "    <b>Resposta</b> : Observou-se, que os países que obtiveram os melhores desempenhos em Matemática foram os que na grande maioria possuiam <code>IC05Q01 = 1</code>, ou seja, não fizeram uso da intenet na escola. A próxima célua apresenta a tabela pivô de onde a informação foi obtida.\n",
        "</div>"
      ]
    },
    {
      "cell_type": "code",
      "metadata": {
        "id": "O2mmpgjdnftw",
        "colab": {
          "base_uri": "https://localhost:8080/",
          "height": 1320
        },
        "outputId": "59a8914d-55d8-4d5d-e215-34e4faa4624e"
      },
      "source": [
        "pd.pivot_table(pisa2, index = ['CNT','IC05Q01'], values = 'PV1MATH', aggfunc=np.mean).sort_values(by = 'PV1MATH', ascending = False)[:40]"
      ],
      "execution_count": null,
      "outputs": [
        {
          "output_type": "execute_result",
          "data": {
            "text/html": [
              "<div>\n",
              "<style scoped>\n",
              "    .dataframe tbody tr th:only-of-type {\n",
              "        vertical-align: middle;\n",
              "    }\n",
              "\n",
              "    .dataframe tbody tr th {\n",
              "        vertical-align: top;\n",
              "    }\n",
              "\n",
              "    .dataframe thead th {\n",
              "        text-align: right;\n",
              "    }\n",
              "</style>\n",
              "<table border=\"1\" class=\"dataframe\">\n",
              "  <thead>\n",
              "    <tr style=\"text-align: right;\">\n",
              "      <th></th>\n",
              "      <th></th>\n",
              "      <th>PV1MATH</th>\n",
              "    </tr>\n",
              "    <tr>\n",
              "      <th>CNT</th>\n",
              "      <th>IC05Q01</th>\n",
              "      <th></th>\n",
              "    </tr>\n",
              "  </thead>\n",
              "  <tbody>\n",
              "    <tr>\n",
              "      <th>Poland</th>\n",
              "      <th>98</th>\n",
              "      <td>641.151267</td>\n",
              "    </tr>\n",
              "    <tr>\n",
              "      <th rowspan=\"2\" valign=\"top\">China</th>\n",
              "      <th>1</th>\n",
              "      <td>580.890320</td>\n",
              "    </tr>\n",
              "    <tr>\n",
              "      <th>2</th>\n",
              "      <td>576.805943</td>\n",
              "    </tr>\n",
              "    <tr>\n",
              "      <th rowspan=\"3\" valign=\"top\">Taiwan</th>\n",
              "      <th>2</th>\n",
              "      <td>576.018929</td>\n",
              "    </tr>\n",
              "    <tr>\n",
              "      <th>1</th>\n",
              "      <td>568.450405</td>\n",
              "    </tr>\n",
              "    <tr>\n",
              "      <th>3</th>\n",
              "      <td>552.883136</td>\n",
              "    </tr>\n",
              "    <tr>\n",
              "      <th>Japan</th>\n",
              "      <th>1</th>\n",
              "      <td>549.599374</td>\n",
              "    </tr>\n",
              "    <tr>\n",
              "      <th>China</th>\n",
              "      <th>3</th>\n",
              "      <td>543.449048</td>\n",
              "    </tr>\n",
              "    <tr>\n",
              "      <th>Japan</th>\n",
              "      <th>2</th>\n",
              "      <td>543.288757</td>\n",
              "    </tr>\n",
              "    <tr>\n",
              "      <th rowspan=\"2\" valign=\"top\">Czech Republic</th>\n",
              "      <th>1</th>\n",
              "      <td>532.679146</td>\n",
              "    </tr>\n",
              "    <tr>\n",
              "      <th>97</th>\n",
              "      <td>532.213327</td>\n",
              "    </tr>\n",
              "    <tr>\n",
              "      <th>Taiwan</th>\n",
              "      <th>4</th>\n",
              "      <td>530.563615</td>\n",
              "    </tr>\n",
              "    <tr>\n",
              "      <th>Poland</th>\n",
              "      <th>1</th>\n",
              "      <td>528.925091</td>\n",
              "    </tr>\n",
              "    <tr>\n",
              "      <th>Czech Republic</th>\n",
              "      <th>2</th>\n",
              "      <td>524.227556</td>\n",
              "    </tr>\n",
              "    <tr>\n",
              "      <th>Poland</th>\n",
              "      <th>2</th>\n",
              "      <td>523.784885</td>\n",
              "    </tr>\n",
              "    <tr>\n",
              "      <th>China</th>\n",
              "      <th>4</th>\n",
              "      <td>523.768471</td>\n",
              "    </tr>\n",
              "    <tr>\n",
              "      <th>Latvia</th>\n",
              "      <th>98</th>\n",
              "      <td>518.769057</td>\n",
              "    </tr>\n",
              "    <tr>\n",
              "      <th>Czech Republic</th>\n",
              "      <th>98</th>\n",
              "      <td>518.624386</td>\n",
              "    </tr>\n",
              "    <tr>\n",
              "      <th rowspan=\"2\" valign=\"top\">Japan</th>\n",
              "      <th>3</th>\n",
              "      <td>517.284806</td>\n",
              "    </tr>\n",
              "    <tr>\n",
              "      <th>4</th>\n",
              "      <td>512.669329</td>\n",
              "    </tr>\n",
              "    <tr>\n",
              "      <th>Ireland</th>\n",
              "      <th>1</th>\n",
              "      <td>512.029186</td>\n",
              "    </tr>\n",
              "    <tr>\n",
              "      <th>Vietnam</th>\n",
              "      <th>97</th>\n",
              "      <td>511.018473</td>\n",
              "    </tr>\n",
              "    <tr>\n",
              "      <th>Canada</th>\n",
              "      <th>97</th>\n",
              "      <td>509.328982</td>\n",
              "    </tr>\n",
              "    <tr>\n",
              "      <th>Poland</th>\n",
              "      <th>97</th>\n",
              "      <td>508.566750</td>\n",
              "    </tr>\n",
              "    <tr>\n",
              "      <th>Italy</th>\n",
              "      <th>1</th>\n",
              "      <td>506.686707</td>\n",
              "    </tr>\n",
              "    <tr>\n",
              "      <th>Czech Republic</th>\n",
              "      <th>3</th>\n",
              "      <td>506.458749</td>\n",
              "    </tr>\n",
              "    <tr>\n",
              "      <th>Poland</th>\n",
              "      <th>3</th>\n",
              "      <td>506.020602</td>\n",
              "    </tr>\n",
              "    <tr>\n",
              "      <th>Ireland</th>\n",
              "      <th>2</th>\n",
              "      <td>505.601616</td>\n",
              "    </tr>\n",
              "    <tr>\n",
              "      <th>Taiwan</th>\n",
              "      <th>97</th>\n",
              "      <td>505.417067</td>\n",
              "    </tr>\n",
              "    <tr>\n",
              "      <th>Latvia</th>\n",
              "      <th>1</th>\n",
              "      <td>505.310132</td>\n",
              "    </tr>\n",
              "    <tr>\n",
              "      <th>China</th>\n",
              "      <th>5</th>\n",
              "      <td>504.583406</td>\n",
              "    </tr>\n",
              "    <tr>\n",
              "      <th>Japan</th>\n",
              "      <th>5</th>\n",
              "      <td>504.310393</td>\n",
              "    </tr>\n",
              "    <tr>\n",
              "      <th>China</th>\n",
              "      <th>98</th>\n",
              "      <td>503.443767</td>\n",
              "    </tr>\n",
              "    <tr>\n",
              "      <th>Latvia</th>\n",
              "      <th>2</th>\n",
              "      <td>502.315664</td>\n",
              "    </tr>\n",
              "    <tr>\n",
              "      <th>Italy</th>\n",
              "      <th>2</th>\n",
              "      <td>498.201803</td>\n",
              "    </tr>\n",
              "    <tr>\n",
              "      <th>Taiwan</th>\n",
              "      <th>5</th>\n",
              "      <td>498.190496</td>\n",
              "    </tr>\n",
              "    <tr>\n",
              "      <th>Russia</th>\n",
              "      <th>1</th>\n",
              "      <td>497.710598</td>\n",
              "    </tr>\n",
              "    <tr>\n",
              "      <th rowspan=\"3\" valign=\"top\">Denmark</th>\n",
              "      <th>2</th>\n",
              "      <td>497.588312</td>\n",
              "    </tr>\n",
              "    <tr>\n",
              "      <th>6</th>\n",
              "      <td>497.409032</td>\n",
              "    </tr>\n",
              "    <tr>\n",
              "      <th>3</th>\n",
              "      <td>494.388011</td>\n",
              "    </tr>\n",
              "  </tbody>\n",
              "</table>\n",
              "</div>"
            ],
            "text/plain": [
              "                           PV1MATH\n",
              "CNT            IC05Q01            \n",
              "Poland         98       641.151267\n",
              "China          1        580.890320\n",
              "               2        576.805943\n",
              "Taiwan         2        576.018929\n",
              "               1        568.450405\n",
              "               3        552.883136\n",
              "Japan          1        549.599374\n",
              "China          3        543.449048\n",
              "Japan          2        543.288757\n",
              "Czech Republic 1        532.679146\n",
              "               97       532.213327\n",
              "Taiwan         4        530.563615\n",
              "Poland         1        528.925091\n",
              "Czech Republic 2        524.227556\n",
              "Poland         2        523.784885\n",
              "China          4        523.768471\n",
              "Latvia         98       518.769057\n",
              "Czech Republic 98       518.624386\n",
              "Japan          3        517.284806\n",
              "               4        512.669329\n",
              "Ireland        1        512.029186\n",
              "Vietnam        97       511.018473\n",
              "Canada         97       509.328982\n",
              "Poland         97       508.566750\n",
              "Italy          1        506.686707\n",
              "Czech Republic 3        506.458749\n",
              "Poland         3        506.020602\n",
              "Ireland        2        505.601616\n",
              "Taiwan         97       505.417067\n",
              "Latvia         1        505.310132\n",
              "China          5        504.583406\n",
              "Japan          5        504.310393\n",
              "China          98       503.443767\n",
              "Latvia         2        502.315664\n",
              "Italy          2        498.201803\n",
              "Taiwan         5        498.190496\n",
              "Russia         1        497.710598\n",
              "Denmark        2        497.588312\n",
              "               6        497.409032\n",
              "               3        494.388011"
            ]
          },
          "metadata": {
            "tags": []
          },
          "execution_count": 33
        }
      ]
    },
    {
      "cell_type": "markdown",
      "metadata": {
        "id": "wMkdhtRCnftw"
      },
      "source": [
        "<div class=\"alert alert-info\">\n",
        "<b>12</b> - As variáveis ST70Q01, ST70Q02 e ST70Q03 indicam o número de períodos de aula por semana para Línguagem, Matemática e Ciências. Como o desempenho em cada uma destas áreas varia com o respectivo número de aulas que os alunos têm? Para este exercício, agrupe 11 ou mais períodos em uma mesma categoria (11), de forma que você tenha as categorias 0, 1, 2, 3, 4, 5, 6, 7, 8, 9, 10 e 11.\n",
        "</div>"
      ]
    },
    {
      "cell_type": "markdown",
      "metadata": {
        "id": "fspnnzCwgNho"
      },
      "source": [
        "<div class=\"alert alert-info\" align=\"justify\">\n",
        "    <b>Resposta</b> : Observou-se, que <b>a média das pontuções nas áreas aumentam conforme o número de períodos de aula por semana</b> (agrupando em 11 períodos), exceto para a área de leitura. Neste caso, é possível observar que a melhor média para a área de leitura foi obtida quando o alunos tinham sete períodos de aula por semana: <code> PV1READ (7 períodos)</code>, <code> PV1MATH (11 períodos)</code> e <code> PV1SCIE (11 períodos)</code>.  As próximas céluas apresentam como as informações foram obtidas.\n",
        "</div>"
      ]
    },
    {
      "cell_type": "code",
      "metadata": {
        "id": "W7KEcgMaDiQz"
      },
      "source": [
        "def groupEleven(num):\n",
        "    if num > 10:\n",
        "        return 11\n",
        "    else:\n",
        "      return num"
      ],
      "execution_count": null,
      "outputs": []
    },
    {
      "cell_type": "code",
      "metadata": {
        "id": "JuGdoBiXfOUE"
      },
      "source": [
        "# Reagrupamento dos períodos > 10\n",
        "pisaQuestion12 = pisa2.copy()\n",
        "pisaQuestion12['ST70Q01'] = pisaQuestion12['ST70Q01'].map(groupEleven)\n",
        "pisaQuestion12['ST70Q02'] = pisaQuestion12['ST70Q02'].map(groupEleven)\n",
        "pisaQuestion12['ST70Q03'] = pisaQuestion12['ST70Q03'].map(groupEleven)"
      ],
      "execution_count": null,
      "outputs": []
    },
    {
      "cell_type": "code",
      "metadata": {
        "colab": {
          "base_uri": "https://localhost:8080/",
          "height": 452
        },
        "id": "Jk7TaKDKgErw",
        "outputId": "daef5903-7ed7-427d-8aa6-6f2dc48a1f9d"
      },
      "source": [
        "# PV1READ \n",
        "periodClassRead = pd.pivot_table(pisaQuestion12, index = ['ST70Q01'], values='PV1READ', aggfunc = np.mean)\n",
        "\n",
        "# PV1MATH\n",
        "periodClassMath = pd.pivot_table(pisaQuestion12, index = ['ST70Q02'], values='PV1MATH', aggfunc = np.mean)\n",
        "\n",
        "# PV1SCIE\n",
        "periodClassScie = pd.pivot_table(pisaQuestion12, index = ['ST70Q03'], values='PV1SCIE', aggfunc = np.mean)\n",
        "\n",
        "display_side_by_side(periodClassRead, periodClassMath, periodClassScie)"
      ],
      "execution_count": null,
      "outputs": [
        {
          "output_type": "display_data",
          "data": {
            "text/html": [
              "<table style=\"display:inline\" border=\"1\" class=\"dataframe\">\n",
              "  <thead>\n",
              "    <tr style=\"text-align: right;\">\n",
              "      <th></th>\n",
              "      <th>PV1READ</th>\n",
              "    </tr>\n",
              "    <tr>\n",
              "      <th>ST70Q01</th>\n",
              "      <th></th>\n",
              "    </tr>\n",
              "  </thead>\n",
              "  <tbody>\n",
              "    <tr>\n",
              "      <th>0.0</th>\n",
              "      <td>482.184757</td>\n",
              "    </tr>\n",
              "    <tr>\n",
              "      <th>1.0</th>\n",
              "      <td>429.938911</td>\n",
              "    </tr>\n",
              "    <tr>\n",
              "      <th>2.0</th>\n",
              "      <td>453.598045</td>\n",
              "    </tr>\n",
              "    <tr>\n",
              "      <th>3.0</th>\n",
              "      <td>474.841601</td>\n",
              "    </tr>\n",
              "    <tr>\n",
              "      <th>4.0</th>\n",
              "      <td>495.432893</td>\n",
              "    </tr>\n",
              "    <tr>\n",
              "      <th>5.0</th>\n",
              "      <td>477.347864</td>\n",
              "    </tr>\n",
              "    <tr>\n",
              "      <th>6.0</th>\n",
              "      <td>484.463106</td>\n",
              "    </tr>\n",
              "    <tr>\n",
              "      <th>7.0</th>\n",
              "      <td>503.978208</td>\n",
              "    </tr>\n",
              "    <tr>\n",
              "      <th>8.0</th>\n",
              "      <td>499.563854</td>\n",
              "    </tr>\n",
              "    <tr>\n",
              "      <th>9.0</th>\n",
              "      <td>479.465134</td>\n",
              "    </tr>\n",
              "    <tr>\n",
              "      <th>10.0</th>\n",
              "      <td>491.709385</td>\n",
              "    </tr>\n",
              "    <tr>\n",
              "      <th>11.0</th>\n",
              "      <td>450.216256</td>\n",
              "    </tr>\n",
              "  </tbody>\n",
              "</table style=\"display:inline\"><table style=\"display:inline\" border=\"1\" class=\"dataframe\">\n",
              "  <thead>\n",
              "    <tr style=\"text-align: right;\">\n",
              "      <th></th>\n",
              "      <th>PV1MATH</th>\n",
              "    </tr>\n",
              "    <tr>\n",
              "      <th>ST70Q02</th>\n",
              "      <th></th>\n",
              "    </tr>\n",
              "  </thead>\n",
              "  <tbody>\n",
              "    <tr>\n",
              "      <th>0.0</th>\n",
              "      <td>465.818379</td>\n",
              "    </tr>\n",
              "    <tr>\n",
              "      <th>1.0</th>\n",
              "      <td>404.200809</td>\n",
              "    </tr>\n",
              "    <tr>\n",
              "      <th>2.0</th>\n",
              "      <td>418.623483</td>\n",
              "    </tr>\n",
              "    <tr>\n",
              "      <th>3.0</th>\n",
              "      <td>457.315657</td>\n",
              "    </tr>\n",
              "    <tr>\n",
              "      <th>4.0</th>\n",
              "      <td>472.398619</td>\n",
              "    </tr>\n",
              "    <tr>\n",
              "      <th>5.0</th>\n",
              "      <td>476.591205</td>\n",
              "    </tr>\n",
              "    <tr>\n",
              "      <th>6.0</th>\n",
              "      <td>500.565134</td>\n",
              "    </tr>\n",
              "    <tr>\n",
              "      <th>7.0</th>\n",
              "      <td>524.031913</td>\n",
              "    </tr>\n",
              "    <tr>\n",
              "      <th>8.0</th>\n",
              "      <td>529.977705</td>\n",
              "    </tr>\n",
              "    <tr>\n",
              "      <th>9.0</th>\n",
              "      <td>508.868412</td>\n",
              "    </tr>\n",
              "    <tr>\n",
              "      <th>10.0</th>\n",
              "      <td>506.763223</td>\n",
              "    </tr>\n",
              "    <tr>\n",
              "      <th>11.0</th>\n",
              "      <td>498.876845</td>\n",
              "    </tr>\n",
              "  </tbody>\n",
              "</table style=\"display:inline\"><table style=\"display:inline\" border=\"1\" class=\"dataframe\">\n",
              "  <thead>\n",
              "    <tr style=\"text-align: right;\">\n",
              "      <th></th>\n",
              "      <th>PV1SCIE</th>\n",
              "    </tr>\n",
              "    <tr>\n",
              "      <th>ST70Q03</th>\n",
              "      <th></th>\n",
              "    </tr>\n",
              "  </thead>\n",
              "  <tbody>\n",
              "    <tr>\n",
              "      <th>0.0</th>\n",
              "      <td>492.623873</td>\n",
              "    </tr>\n",
              "    <tr>\n",
              "      <th>1.0</th>\n",
              "      <td>428.233586</td>\n",
              "    </tr>\n",
              "    <tr>\n",
              "      <th>2.0</th>\n",
              "      <td>471.921665</td>\n",
              "    </tr>\n",
              "    <tr>\n",
              "      <th>3.0</th>\n",
              "      <td>475.472746</td>\n",
              "    </tr>\n",
              "    <tr>\n",
              "      <th>4.0</th>\n",
              "      <td>476.117682</td>\n",
              "    </tr>\n",
              "    <tr>\n",
              "      <th>5.0</th>\n",
              "      <td>505.913882</td>\n",
              "    </tr>\n",
              "    <tr>\n",
              "      <th>6.0</th>\n",
              "      <td>503.671775</td>\n",
              "    </tr>\n",
              "    <tr>\n",
              "      <th>7.0</th>\n",
              "      <td>510.576010</td>\n",
              "    </tr>\n",
              "    <tr>\n",
              "      <th>8.0</th>\n",
              "      <td>532.905361</td>\n",
              "    </tr>\n",
              "    <tr>\n",
              "      <th>9.0</th>\n",
              "      <td>512.470905</td>\n",
              "    </tr>\n",
              "    <tr>\n",
              "      <th>10.0</th>\n",
              "      <td>538.770730</td>\n",
              "    </tr>\n",
              "    <tr>\n",
              "      <th>11.0</th>\n",
              "      <td>546.232634</td>\n",
              "    </tr>\n",
              "  </tbody>\n",
              "</table style=\"display:inline\">"
            ]
          },
          "metadata": {
            "tags": []
          }
        }
      ]
    },
    {
      "cell_type": "markdown",
      "metadata": {
        "id": "uroqNE_rnftw"
      },
      "source": [
        "<div class=\"alert alert-info\">\n",
        "    <b>13</b> - A variável ST57Q01 indica o tempo dedicado pelos alunos para tarefas em casa. Como o desempenho em Línguagem, Matemática e Ciências varia com este tempo dedicado pelos alunos? Como antes, para este exercício, agrupe 11 ou mais em uma mesma categoria (11), de forma que você tenha as categorias 0, 1, 2, 3, 4, 5, 6, 7, 8, 9, 10 e 11.\n",
        "</div>"
      ]
    },
    {
      "cell_type": "markdown",
      "metadata": {
        "id": "bbYhVCvlA1hK"
      },
      "source": [
        "<div class=\"alert alert-info\" align=\"justify\">\n",
        "    <b>Resposta</b> : Observou-se, que <b>a média das pontuções nas áreas aumentam conforme o tempo dedicado pelos alunos em casa</b> (agrupando em 11 períodos). Os maiores valores foram <code> PV1READ = 540.0514(11) </code>, <code> PV1MATH = 535.9416(11) </code> e <code> PV1SCIE = 537.8162(11)</code>. A próxima célula apresenta como as informações foram obtidas.\n",
        "</div>"
      ]
    },
    {
      "cell_type": "code",
      "metadata": {
        "id": "BEs_bNF_bk-Y"
      },
      "source": [
        "# Reagrupamento dos períodos > 10\n",
        "pisaQuestion13 = pisa2.copy()\n",
        "pisaQuestion13['ST57Q01'] = pisaQuestion13['ST57Q01'].map(groupEleven)"
      ],
      "execution_count": null,
      "outputs": []
    },
    {
      "cell_type": "code",
      "metadata": {
        "colab": {
          "base_uri": "https://localhost:8080/",
          "height": 452
        },
        "id": "dh9QZRTYhC4C",
        "outputId": "7957291b-1bff-45cb-cf2a-6009c5d64aa9"
      },
      "source": [
        "#PV1READ\n",
        "dedicateTimeHouseRead = pd.pivot_table(pisaQuestion13, values = 'PV1READ', index = 'ST57Q01', aggfunc = np.mean)\n",
        "\n",
        "#PV1MATH\n",
        "dedicateTimeHouseMath = pd.pivot_table(pisaQuestion13, values = 'PV1MATH', index = 'ST57Q01', aggfunc = np.mean)\n",
        "\n",
        "#PV1SCIE\n",
        "dedicateTimeHouseScie = pd.pivot_table(pisaQuestion13, values = 'PV1SCIE', index = 'ST57Q01', aggfunc = np.mean)\n",
        "\n",
        "display_side_by_side(dedicateTimeHouseRead, dedicateTimeHouseMath, dedicateTimeHouseScie)"
      ],
      "execution_count": null,
      "outputs": [
        {
          "output_type": "display_data",
          "data": {
            "text/html": [
              "<table style=\"display:inline\" border=\"1\" class=\"dataframe\">\n",
              "  <thead>\n",
              "    <tr style=\"text-align: right;\">\n",
              "      <th></th>\n",
              "      <th>PV1READ</th>\n",
              "    </tr>\n",
              "    <tr>\n",
              "      <th>ST57Q01</th>\n",
              "      <th></th>\n",
              "    </tr>\n",
              "  </thead>\n",
              "  <tbody>\n",
              "    <tr>\n",
              "      <th>0.0</th>\n",
              "      <td>441.568329</td>\n",
              "    </tr>\n",
              "    <tr>\n",
              "      <th>1.0</th>\n",
              "      <td>442.717719</td>\n",
              "    </tr>\n",
              "    <tr>\n",
              "      <th>2.0</th>\n",
              "      <td>456.097161</td>\n",
              "    </tr>\n",
              "    <tr>\n",
              "      <th>3.0</th>\n",
              "      <td>475.262212</td>\n",
              "    </tr>\n",
              "    <tr>\n",
              "      <th>4.0</th>\n",
              "      <td>485.060159</td>\n",
              "    </tr>\n",
              "    <tr>\n",
              "      <th>5.0</th>\n",
              "      <td>488.838609</td>\n",
              "    </tr>\n",
              "    <tr>\n",
              "      <th>6.0</th>\n",
              "      <td>473.911176</td>\n",
              "    </tr>\n",
              "    <tr>\n",
              "      <th>7.0</th>\n",
              "      <td>511.693004</td>\n",
              "    </tr>\n",
              "    <tr>\n",
              "      <th>8.0</th>\n",
              "      <td>512.399309</td>\n",
              "    </tr>\n",
              "    <tr>\n",
              "      <th>9.0</th>\n",
              "      <td>509.698716</td>\n",
              "    </tr>\n",
              "    <tr>\n",
              "      <th>10.0</th>\n",
              "      <td>511.765324</td>\n",
              "    </tr>\n",
              "    <tr>\n",
              "      <th>11.0</th>\n",
              "      <td>540.051390</td>\n",
              "    </tr>\n",
              "  </tbody>\n",
              "</table style=\"display:inline\"><table style=\"display:inline\" border=\"1\" class=\"dataframe\">\n",
              "  <thead>\n",
              "    <tr style=\"text-align: right;\">\n",
              "      <th></th>\n",
              "      <th>PV1MATH</th>\n",
              "    </tr>\n",
              "    <tr>\n",
              "      <th>ST57Q01</th>\n",
              "      <th></th>\n",
              "    </tr>\n",
              "  </thead>\n",
              "  <tbody>\n",
              "    <tr>\n",
              "      <th>0.0</th>\n",
              "      <td>454.074553</td>\n",
              "    </tr>\n",
              "    <tr>\n",
              "      <th>1.0</th>\n",
              "      <td>440.320066</td>\n",
              "    </tr>\n",
              "    <tr>\n",
              "      <th>2.0</th>\n",
              "      <td>449.246488</td>\n",
              "    </tr>\n",
              "    <tr>\n",
              "      <th>3.0</th>\n",
              "      <td>466.848443</td>\n",
              "    </tr>\n",
              "    <tr>\n",
              "      <th>4.0</th>\n",
              "      <td>477.062349</td>\n",
              "    </tr>\n",
              "    <tr>\n",
              "      <th>5.0</th>\n",
              "      <td>482.026398</td>\n",
              "    </tr>\n",
              "    <tr>\n",
              "      <th>6.0</th>\n",
              "      <td>470.702669</td>\n",
              "    </tr>\n",
              "    <tr>\n",
              "      <th>7.0</th>\n",
              "      <td>509.969943</td>\n",
              "    </tr>\n",
              "    <tr>\n",
              "      <th>8.0</th>\n",
              "      <td>506.820921</td>\n",
              "    </tr>\n",
              "    <tr>\n",
              "      <th>9.0</th>\n",
              "      <td>504.451173</td>\n",
              "    </tr>\n",
              "    <tr>\n",
              "      <th>10.0</th>\n",
              "      <td>506.746271</td>\n",
              "    </tr>\n",
              "    <tr>\n",
              "      <th>11.0</th>\n",
              "      <td>535.941568</td>\n",
              "    </tr>\n",
              "  </tbody>\n",
              "</table style=\"display:inline\"><table style=\"display:inline\" border=\"1\" class=\"dataframe\">\n",
              "  <thead>\n",
              "    <tr style=\"text-align: right;\">\n",
              "      <th></th>\n",
              "      <th>PV1SCIE</th>\n",
              "    </tr>\n",
              "    <tr>\n",
              "      <th>ST57Q01</th>\n",
              "      <th></th>\n",
              "    </tr>\n",
              "  </thead>\n",
              "  <tbody>\n",
              "    <tr>\n",
              "      <th>0.0</th>\n",
              "      <td>457.905606</td>\n",
              "    </tr>\n",
              "    <tr>\n",
              "      <th>1.0</th>\n",
              "      <td>449.214066</td>\n",
              "    </tr>\n",
              "    <tr>\n",
              "      <th>2.0</th>\n",
              "      <td>459.561748</td>\n",
              "    </tr>\n",
              "    <tr>\n",
              "      <th>3.0</th>\n",
              "      <td>475.973877</td>\n",
              "    </tr>\n",
              "    <tr>\n",
              "      <th>4.0</th>\n",
              "      <td>485.661809</td>\n",
              "    </tr>\n",
              "    <tr>\n",
              "      <th>5.0</th>\n",
              "      <td>489.649609</td>\n",
              "    </tr>\n",
              "    <tr>\n",
              "      <th>6.0</th>\n",
              "      <td>477.075568</td>\n",
              "    </tr>\n",
              "    <tr>\n",
              "      <th>7.0</th>\n",
              "      <td>513.647463</td>\n",
              "    </tr>\n",
              "    <tr>\n",
              "      <th>8.0</th>\n",
              "      <td>513.748395</td>\n",
              "    </tr>\n",
              "    <tr>\n",
              "      <th>9.0</th>\n",
              "      <td>509.880380</td>\n",
              "    </tr>\n",
              "    <tr>\n",
              "      <th>10.0</th>\n",
              "      <td>513.037057</td>\n",
              "    </tr>\n",
              "    <tr>\n",
              "      <th>11.0</th>\n",
              "      <td>537.816231</td>\n",
              "    </tr>\n",
              "  </tbody>\n",
              "</table style=\"display:inline\">"
            ]
          },
          "metadata": {
            "tags": []
          }
        }
      ]
    },
    {
      "cell_type": "markdown",
      "metadata": {
        "id": "ntfZ2QPenftx"
      },
      "source": [
        "<div class=\"alert alert-info\">\n",
        "<b>14</b> - Como varia o desempenho dos alunos em Matemática, Linguagens e Ciências com a sua idade? Para esta questão, você deve criar a variável AGE que indica a idade do aluno na época do teste (2012).   \n",
        "</div>"
      ]
    },
    {
      "cell_type": "markdown",
      "metadata": {
        "id": "6_kYCxNCPNrF"
      },
      "source": [
        "<div class=\"alert alert-info\" align=\"justify\">\n",
        "    <b>Resposta</b> : Depois de agrupar os participantes pela idade (atributo AGE), <b>observou-se que os participantes com dezesseis anos obtiveram as melhores pontuações nos exames</b>. A próxima célula apresenta como as informações foram obtidas.\n",
        "</div>"
      ]
    },
    {
      "cell_type": "code",
      "metadata": {
        "scrolled": true,
        "id": "oOWNIvganftx",
        "colab": {
          "base_uri": "https://localhost:8080/",
          "height": 142
        },
        "outputId": "c6885cd5-0a44-4654-db08-b7633df46377"
      },
      "source": [
        "# Criação da Coluna AGE (diferença entre o ano do teste com o ano de nascimento do participante)\n",
        "pisa2['AGE'] = 2012 - pisa2['ST03Q02']\n",
        "pd.pivot_table(pisa2, values = ['PV1MATH', 'PV1READ', 'PV1SCIE'], index = ['AGE'], aggfunc = np.mean)"
      ],
      "execution_count": null,
      "outputs": [
        {
          "output_type": "execute_result",
          "data": {
            "text/html": [
              "<div>\n",
              "<style scoped>\n",
              "    .dataframe tbody tr th:only-of-type {\n",
              "        vertical-align: middle;\n",
              "    }\n",
              "\n",
              "    .dataframe tbody tr th {\n",
              "        vertical-align: top;\n",
              "    }\n",
              "\n",
              "    .dataframe thead th {\n",
              "        text-align: right;\n",
              "    }\n",
              "</style>\n",
              "<table border=\"1\" class=\"dataframe\">\n",
              "  <thead>\n",
              "    <tr style=\"text-align: right;\">\n",
              "      <th></th>\n",
              "      <th>PV1MATH</th>\n",
              "      <th>PV1READ</th>\n",
              "      <th>PV1SCIE</th>\n",
              "    </tr>\n",
              "    <tr>\n",
              "      <th>AGE</th>\n",
              "      <th></th>\n",
              "      <th></th>\n",
              "      <th></th>\n",
              "    </tr>\n",
              "  </thead>\n",
              "  <tbody>\n",
              "    <tr>\n",
              "      <th>15</th>\n",
              "      <td>463.289779</td>\n",
              "      <td>476.371784</td>\n",
              "      <td>477.297654</td>\n",
              "    </tr>\n",
              "    <tr>\n",
              "      <th>16</th>\n",
              "      <td>476.791742</td>\n",
              "      <td>480.412416</td>\n",
              "      <td>483.152783</td>\n",
              "    </tr>\n",
              "  </tbody>\n",
              "</table>\n",
              "</div>"
            ],
            "text/plain": [
              "        PV1MATH     PV1READ     PV1SCIE\n",
              "AGE                                    \n",
              "15   463.289779  476.371784  477.297654\n",
              "16   476.791742  480.412416  483.152783"
            ]
          },
          "metadata": {
            "tags": []
          },
          "execution_count": 39
        }
      ]
    },
    {
      "cell_type": "markdown",
      "metadata": {
        "id": "CCAHgN1Xnftx"
      },
      "source": [
        "## Classificando Dados"
      ]
    },
    {
      "cell_type": "markdown",
      "metadata": {
        "id": "9mg5DMAnnftx"
      },
      "source": [
        "<div class=\"alert alert-info\">\n",
        "<b>15</b> - Prepare os dados para prever se um dado aluno vai receber uma nota acima ou abaixo da média em Matemática. Para tanto:\n",
        "    <ul>\n",
        "    <li>Crie a variável TARGET com valor 1 para alunos com nota maior que a média global em Matemática; 0, em caso contrário; \n",
        "    <li>Remova as variáveis PV1MATH, PV1READ, PV1SCIE e outras que você possa ter criado e não acredita que sejam pertinentes para esta previsão;\n",
        "    <li>Transforme variáveis do tipo \"object\" em categóricas inteiras;        \n",
        "    <li>Padronize variáveis reais (usando Z-score);   \n",
        "    <li>Garanta que variáveis numéricas não incluam NaN, após normalização;\n",
        "    </ul>\n",
        "</div>"
      ]
    },
    {
      "cell_type": "markdown",
      "metadata": {
        "id": "iqiyT-C6l5UK"
      },
      "source": [
        "<div class=\"alert alert-info\" align=\"justify\">\n",
        "    <b>Resposta</b> : As células abaixo apresentam toda a execução dos passos solicitados pela <code><b>questão 15</b></code>.\n",
        "</div>"
      ]
    },
    {
      "cell_type": "code",
      "metadata": {
        "id": "M54o_iqqnftx"
      },
      "source": [
        "# Cria a coluna  TARGET com base no critério apresentado pelo problema (1º bullet).\n",
        "pisa2['TARGET'] = np.where(pisa2['PV1MATH'] > pisa2['PV1MATH'].mean() , 1, 0)"
      ],
      "execution_count": null,
      "outputs": []
    },
    {
      "cell_type": "code",
      "metadata": {
        "id": "SY2Ij6vWwizr"
      },
      "source": [
        "'''\n",
        "pisa3 recebe o dataset já com a remoção das variáveis (atributos) PV1MATH, PV1READ, PV1SCIE e outros atributos \n",
        "criados durante a execução da atividade, segue com base no critério apresentado pelo problema (2º bullet).\n",
        "'''\n",
        "pisa3 = pisa2.drop(columns = ['PV1MATH', 'PV1READ', 'PV1SCIE','AGG_VALUE', 'AVERAGE_AREA', 'AGE'])"
      ],
      "execution_count": null,
      "outputs": []
    },
    {
      "cell_type": "code",
      "metadata": {
        "id": "ZigGxYIY7_cy"
      },
      "source": [
        "# Transforma variáveis do tipo \"object\" em categóricas inteiras (3º bullet).\n",
        "\n",
        "# Cria uma lista com todas as colunas do tipo 'object'.\n",
        "colTypeObject = pisa3.select_dtypes(include='object').columns.tolist()\n",
        "\n",
        "# Converte as colunas do tipo 'object' para o tipo 'category'.\n",
        "pisa3[colTypeObject] = pisa3[colTypeObject].astype('category') \n",
        "\n",
        "# Cria uma lista com todas as colunas do tipo 'category'.\n",
        "colTypeCategory = pisa3.select_dtypes(include='category').columns.tolist()"
      ],
      "execution_count": null,
      "outputs": []
    },
    {
      "cell_type": "code",
      "metadata": {
        "id": "mgDs32zG_gjY"
      },
      "source": [
        "# Converte todas as colunas do tipo 'category' para categóricas inteiras\n",
        "for column in colTypeCategory:\n",
        "  pisa3.loc[:, column] = pisa3.loc[:, column].cat.codes"
      ],
      "execution_count": null,
      "outputs": []
    },
    {
      "cell_type": "code",
      "metadata": {
        "id": "6n1qlxRKCfuK"
      },
      "source": [
        "# Padronização das variáveis reais (usando Z-score) (4º bullet).\n",
        "\n",
        "# Cria uma lista com todas as colunas do tipo 'float64'.\n",
        "colTypeFloat = pisa3.select_dtypes(include = 'float64').columns.tolist()\n",
        "\n",
        "# Aplica o Z-score nos atributos de tipo real\n",
        "pisa3[colTypeFloat] = stats.zscore(pisa3[colTypeFloat])"
      ],
      "execution_count": null,
      "outputs": []
    },
    {
      "cell_type": "code",
      "metadata": {
        "colab": {
          "base_uri": "https://localhost:8080/"
        },
        "id": "ITtcCd1IFhoW",
        "outputId": "041a7f34-fc40-49dd-be92-b0144a278559"
      },
      "source": [
        "# Verificação de existência de variáveis numéricas que incluam NaN, após normalização (4º bullet).\n",
        "\n",
        "checkForNan = pisa3.isna().values.any()\n",
        "checkForNull = pisa3.isnull().values.any()\n",
        "\n",
        "print('isna(): ',checkForNan, '\\nisnull(): ',checkForNull)"
      ],
      "execution_count": null,
      "outputs": [
        {
          "output_type": "stream",
          "text": [
            "isna():  False \n",
            "isnull():  False\n"
          ],
          "name": "stdout"
        }
      ]
    },
    {
      "cell_type": "markdown",
      "metadata": {
        "id": "0DYMTdIznftx"
      },
      "source": [
        "<div class=\"alert alert-info\">\n",
        "<b>16</b> - Crie um modelo de classificação para variável TARGET usando uma floresta aletória. Crie o modelo usando 70% dos estudantes para treino e 30% para teste. Avalie o resultado do seu classificador exibindo a matriz de confusão obtida na coleção de teste.    \n",
        "</div>"
      ]
    },
    {
      "cell_type": "markdown",
      "metadata": {
        "id": "xIH6UxEnmV0K"
      },
      "source": [
        "<div class=\"alert alert-info\" align=\"justify\">\n",
        "    <b>Resposta</b> : As células abaixo apresentam toda a execução dos passos solicitados pela <code> <b>questão 16</b></code>.\n",
        "</div>"
      ]
    },
    {
      "cell_type": "code",
      "metadata": {
        "id": "6RI0pF5dnfty"
      },
      "source": [
        "# Criação da base de treinamento e de testes, respectivamente 70% e 30%.\n",
        "from sklearn.model_selection import train_test_split\n",
        "X_train, X_test, y_train, y_test = train_test_split(pisa3.drop(['TARGET'], axis = 'columns'), pisa3['TARGET'], test_size = 0.3) "
      ],
      "execution_count": null,
      "outputs": []
    },
    {
      "cell_type": "code",
      "metadata": {
        "colab": {
          "base_uri": "https://localhost:8080/"
        },
        "id": "qJqI25n5Yl1U",
        "outputId": "32a0206e-594d-4312-a195-82a552892888"
      },
      "source": [
        "# Configuração e execução do modelo de classificação floresta aleatória.\n",
        "from sklearn.ensemble import RandomForestClassifier \n",
        "model = RandomForestClassifier()\n",
        "model.fit(X_train, y_train)"
      ],
      "execution_count": null,
      "outputs": [
        {
          "output_type": "execute_result",
          "data": {
            "text/plain": [
              "RandomForestClassifier(bootstrap=True, ccp_alpha=0.0, class_weight=None,\n",
              "                       criterion='gini', max_depth=None, max_features='auto',\n",
              "                       max_leaf_nodes=None, max_samples=None,\n",
              "                       min_impurity_decrease=0.0, min_impurity_split=None,\n",
              "                       min_samples_leaf=1, min_samples_split=2,\n",
              "                       min_weight_fraction_leaf=0.0, n_estimators=100,\n",
              "                       n_jobs=None, oob_score=False, random_state=None,\n",
              "                       verbose=0, warm_start=False)"
            ]
          },
          "metadata": {
            "tags": []
          },
          "execution_count": 47
        }
      ]
    },
    {
      "cell_type": "code",
      "metadata": {
        "colab": {
          "base_uri": "https://localhost:8080/"
        },
        "id": "5QrOZsylZBkV",
        "outputId": "d628c38d-1fd1-449a-f9e9-0c13cb62ddc4"
      },
      "source": [
        "# Pontução do modelo treinado.\n",
        "model.score(X_test,y_test)"
      ],
      "execution_count": null,
      "outputs": [
        {
          "output_type": "execute_result",
          "data": {
            "text/plain": [
              "0.8023288743773843"
            ]
          },
          "metadata": {
            "tags": []
          },
          "execution_count": 48
        }
      ]
    },
    {
      "cell_type": "code",
      "metadata": {
        "colab": {
          "base_uri": "https://localhost:8080/",
          "height": 241
        },
        "id": "QLxuchYidYy4",
        "outputId": "a5f04041-815d-4a6e-f410-d2557e8f67c6"
      },
      "source": [
        "# Avaliação do resultado do classificador pela matriz de confusão obtida na coleção de teste.\n",
        "from sklearn.metrics import confusion_matrix\n",
        "import seaborn as sn\n",
        "\n",
        "yPredicted = model.predict(X_test)\n",
        "confusionMatrix = confusion_matrix(y_test, yPredicted)\n",
        "\n",
        "plt.figure(figsize = (5,3))\n",
        "sn.heatmap(confusionMatrix, annot = True)\n",
        "plt.xlabel('Previsto')\n",
        "plt.ylabel('Verdade')"
      ],
      "execution_count": null,
      "outputs": [
        {
          "output_type": "execute_result",
          "data": {
            "text/plain": [
              "Text(27.5, 0.5, 'Verdade')"
            ]
          },
          "metadata": {
            "tags": []
          },
          "execution_count": 49
        },
        {
          "output_type": "display_data",
          "data": {
            "image/png": "[encoded data removed]",
            "text/plain": [
              "<Figure size 360x216 with 2 Axes>"
            ]
          },
          "metadata": {
            "tags": [],
            "needs_background": "light"
          }
        }
      ]
    },
    {
      "cell_type": "markdown",
      "metadata": {
        "id": "H__uJ8Plnfty"
      },
      "source": [
        "<div class=\"alert alert-info\">\n",
        "<b>17</b> - Usando o atributo feature_importances_ da Floresta Aleatória, ordene os atributos usados de acordo com quão importante eles foram para a classificacão. Quais foram os dez mais importantes?   \n",
        "</div>"
      ]
    },
    {
      "cell_type": "markdown",
      "metadata": {
        "id": "UbZQ3meYm2SO"
      },
      "source": [
        "<div class=\"alert alert-info\" align=\"justify\">\n",
        "    <b>Resposta</b> : Com base no que foi observado, o modelo considerou os seguintes atributos como mais importantes, segue os dez mais importantes: \n",
        "    <code><b>CNT</b></code> >\n",
        "    <code><b>ST28Q01</b></code> > \n",
        "    <code><b>ST57Q01</b></code> > \n",
        "    <code><b>IC06Q01</b></code> > \n",
        "    <code><b>IC05Q01</b></code> > \n",
        "    <code><b>IC07Q01</b></code> > \n",
        "    <code><b>ST13Q01</b></code> >\n",
        "    <code><b>ST27Q03</b></code> >\n",
        "    <code><b>ST03Q01</b></code> >\n",
        "    <code><b>ST72Q01</b></code>. Para mais detalhes sobre a pontuação (de importância) dos atributos e como foram obtidas as informações, as próximas células podem ser consultadas. \n",
        "</div>"
      ]
    },
    {
      "cell_type": "code",
      "metadata": {
        "colab": {
          "base_uri": "https://localhost:8080/",
          "height": 359
        },
        "id": "9QnVkcW1koem",
        "outputId": "324de1bc-5caa-4faf-f772-1c39f43626d3"
      },
      "source": [
        "# Criando um Dataframe com as colunas e seus scores:\n",
        "\n",
        "# Nome das colunas utilizadas pelo classificador.\n",
        "colNames = pisa3.drop('TARGET', axis = 'columns').columns.tolist()\n",
        "\n",
        "\n",
        "featureImportances = pd.DataFrame(model.feature_importances_,\n",
        "                                  index = colNames,\n",
        "                                  columns=['importance']).sort_values('importance', ascending=False)\n",
        "featureImportances[:10]"
      ],
      "execution_count": null,
      "outputs": [
        {
          "output_type": "execute_result",
          "data": {
            "text/html": [
              "<div>\n",
              "<style scoped>\n",
              "    .dataframe tbody tr th:only-of-type {\n",
              "        vertical-align: middle;\n",
              "    }\n",
              "\n",
              "    .dataframe tbody tr th {\n",
              "        vertical-align: top;\n",
              "    }\n",
              "\n",
              "    .dataframe thead th {\n",
              "        text-align: right;\n",
              "    }\n",
              "</style>\n",
              "<table border=\"1\" class=\"dataframe\">\n",
              "  <thead>\n",
              "    <tr style=\"text-align: right;\">\n",
              "      <th></th>\n",
              "      <th>importance</th>\n",
              "    </tr>\n",
              "  </thead>\n",
              "  <tbody>\n",
              "    <tr>\n",
              "      <th>CNT</th>\n",
              "      <td>0.058510</td>\n",
              "    </tr>\n",
              "    <tr>\n",
              "      <th>ST28Q01</th>\n",
              "      <td>0.032706</td>\n",
              "    </tr>\n",
              "    <tr>\n",
              "      <th>ST57Q01</th>\n",
              "      <td>0.023440</td>\n",
              "    </tr>\n",
              "    <tr>\n",
              "      <th>IC06Q01</th>\n",
              "      <td>0.022872</td>\n",
              "    </tr>\n",
              "    <tr>\n",
              "      <th>IC05Q01</th>\n",
              "      <td>0.022360</td>\n",
              "    </tr>\n",
              "    <tr>\n",
              "      <th>IC07Q01</th>\n",
              "      <td>0.021806</td>\n",
              "    </tr>\n",
              "    <tr>\n",
              "      <th>ST13Q01</th>\n",
              "      <td>0.019217</td>\n",
              "    </tr>\n",
              "    <tr>\n",
              "      <th>ST27Q03</th>\n",
              "      <td>0.019157</td>\n",
              "    </tr>\n",
              "    <tr>\n",
              "      <th>ST03Q01</th>\n",
              "      <td>0.019156</td>\n",
              "    </tr>\n",
              "    <tr>\n",
              "      <th>ST72Q01</th>\n",
              "      <td>0.018190</td>\n",
              "    </tr>\n",
              "  </tbody>\n",
              "</table>\n",
              "</div>"
            ],
            "text/plain": [
              "         importance\n",
              "CNT        0.058510\n",
              "ST28Q01    0.032706\n",
              "ST57Q01    0.023440\n",
              "IC06Q01    0.022872\n",
              "IC05Q01    0.022360\n",
              "IC07Q01    0.021806\n",
              "ST13Q01    0.019217\n",
              "ST27Q03    0.019157\n",
              "ST03Q01    0.019156\n",
              "ST72Q01    0.018190"
            ]
          },
          "metadata": {
            "tags": []
          },
          "execution_count": 50
        }
      ]
    }
  ]
}