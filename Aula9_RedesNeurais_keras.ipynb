{
  "nbformat": 4,
  "nbformat_minor": 0,
  "metadata": {
    "accelerator": "GPU",
    "colab": {
      "name": "Aula9_RedesNeurais_keras.ipynb",
      "provenance": [],
      "collapsed_sections": [
        "b7GMN-KomdMl",
        "e05GnHxontFd",
        "K5kf9bX2hLjO",
        "jgua3sEtpmK-",
        "p-TgD3GkrcjP",
        "g40NFpSFsl4H"
      ],
      "include_colab_link": true
    },
    "kernelspec": {
      "display_name": "Python 3",
      "language": "python",
      "name": "python3"
    },
    "language_info": {
      "codemirror_mode": {
        "name": "ipython",
        "version": 3
      },
      "file_extension": ".py",
      "mimetype": "text/x-python",
      "name": "python",
      "nbconvert_exporter": "python",
      "pygments_lexer": "ipython3",
      "version": "3.7.2"
    }
  },
  "cells": [
    {
      "cell_type": "markdown",
      "metadata": {
        "id": "view-in-github",
        "colab_type": "text"
      },
      "source": [
        "<a href=\"https://colab.research.google.com/github/Utyiama/ammd/blob/main/Aula9_RedesNeurais_keras.ipynb\" target=\"_parent\"><img src=\"https://colab.research.google.com/assets/colab-badge.svg\" alt=\"Open In Colab\"/></a>"
      ]
    },
    {
      "cell_type": "markdown",
      "metadata": {
        "id": "QMZiAkwsUacI"
      },
      "source": [
        "# Redes Neurais com Keras"
      ]
    },
    {
      "cell_type": "code",
      "metadata": {
        "colab": {
          "base_uri": "https://localhost:8080/"
        },
        "id": "MgGu7b2YUceW",
        "outputId": "a50c2d40-e516-4c0b-b2dc-18f5888f0a78"
      },
      "source": [
        "import matplotlib.pyplot as plt\n",
        "%matplotlib inline\n",
        "import pandas as pd\n",
        "\n",
        "from sklearn.neighbors import NearestNeighbors\n",
        "import numpy as np\n",
        "\n",
        "import tensorflow as tf\n",
        "from tensorflow import keras\n",
        "\n",
        "tf.__version__, keras.__version__"
      ],
      "execution_count": 1,
      "outputs": [
        {
          "output_type": "execute_result",
          "data": {
            "text/plain": [
              "('2.5.0', '2.5.0')"
            ]
          },
          "metadata": {
            "tags": []
          },
          "execution_count": 1
        }
      ]
    },
    {
      "cell_type": "code",
      "metadata": {
        "colab": {
          "base_uri": "https://localhost:8080/",
          "height": 35
        },
        "id": "9berEpXeUmeQ",
        "outputId": "e0af3e92-9286-4680-a0f7-f87dee198900"
      },
      "source": [
        "tf.test.gpu_device_name()"
      ],
      "execution_count": 2,
      "outputs": [
        {
          "output_type": "execute_result",
          "data": {
            "application/vnd.google.colaboratory.intrinsic+json": {
              "type": "string"
            },
            "text/plain": [
              "'/device:GPU:0'"
            ]
          },
          "metadata": {
            "tags": []
          },
          "execution_count": 2
        }
      ]
    },
    {
      "cell_type": "code",
      "metadata": {
        "id": "1Nb2JY-9VJjj"
      },
      "source": [
        "def plotimages(imgs, n_row = 1, n_col = 5, cmap='gray', titles = None):\n",
        "    _, axs = plt.subplots(n_row, n_col, figsize=(12, 6))\n",
        "    axs = axs.flatten()\n",
        "    for i, (img, ax) in enumerate(zip(imgs, axs)):\n",
        "        if titles is not None:\n",
        "            ax.set_title(titles[i])\n",
        "        ax.imshow(img, cmap=cmap)\n",
        "        ax.axis('off')\n",
        "    plt.show()"
      ],
      "execution_count": 3,
      "outputs": []
    },
    {
      "cell_type": "markdown",
      "metadata": {
        "id": "cftgLWNrVV8M"
      },
      "source": [
        "## Dataset\n",
        "\n",
        "Como base de teste, vamos usar a coleção fashion_mnist, fornecida com o tensorflow:"
      ]
    },
    {
      "cell_type": "code",
      "metadata": {
        "colab": {
          "base_uri": "https://localhost:8080/"
        },
        "id": "5rjP2RUEVPox",
        "outputId": "8c76cd11-0506-4944-e5a0-349bfeaf4be4"
      },
      "source": [
        "fashion_mnist = keras.datasets.fashion_mnist\n",
        "(X_train_full, y_train_full), (X_test, y_test) = fashion_mnist.load_data()\n",
        "\n",
        "X_train_full.shape, X_train_full.dtype"
      ],
      "execution_count": 4,
      "outputs": [
        {
          "output_type": "stream",
          "text": [
            "Downloading data from https://storage.googleapis.com/tensorflow/tf-keras-datasets/train-labels-idx1-ubyte.gz\n",
            "32768/29515 [=================================] - 0s 0us/step\n",
            "Downloading data from https://storage.googleapis.com/tensorflow/tf-keras-datasets/train-images-idx3-ubyte.gz\n",
            "26427392/26421880 [==============================] - 0s 0us/step\n",
            "Downloading data from https://storage.googleapis.com/tensorflow/tf-keras-datasets/t10k-labels-idx1-ubyte.gz\n",
            "8192/5148 [===============================================] - 0s 0us/step\n",
            "Downloading data from https://storage.googleapis.com/tensorflow/tf-keras-datasets/t10k-images-idx3-ubyte.gz\n",
            "4423680/4422102 [==============================] - 0s 0us/step\n"
          ],
          "name": "stdout"
        },
        {
          "output_type": "execute_result",
          "data": {
            "text/plain": [
              "((60000, 28, 28), dtype('uint8'))"
            ]
          },
          "metadata": {
            "tags": []
          },
          "execution_count": 4
        }
      ]
    },
    {
      "cell_type": "code",
      "metadata": {
        "id": "d4qCwY-6Vdcz"
      },
      "source": [
        "X_valid = X_train_full[:5000]\n",
        "X_train = X_train_full[5000:] \n",
        "\n",
        "X_train = (X_train - X_train.mean()) / X_train.std()\n",
        "X_valid = (X_valid - X_valid.mean()) / X_valid.std()\n",
        "\n",
        "y_valid, y_train = y_train_full[:5000], y_train_full[5000:]"
      ],
      "execution_count": 5,
      "outputs": []
    },
    {
      "cell_type": "markdown",
      "metadata": {
        "id": "IJIuoQyids2B"
      },
      "source": [
        "Este é um problema de classificação, em que temos imagens das seguintes peças de vestuário:"
      ]
    },
    {
      "cell_type": "code",
      "metadata": {
        "id": "8f88V3u-XNRE"
      },
      "source": [
        "class_names = [\"camisetas/tops\", \"calças\", \"Pulôver\", \"vestido\", \"Casaco\", \n",
        "               \"Sandália\", \"Camisa\", \"Tênis\", \"Bolsa\", \"Meia bota\"]"
      ],
      "execution_count": 6,
      "outputs": []
    },
    {
      "cell_type": "code",
      "metadata": {
        "colab": {
          "base_uri": "https://localhost:8080/",
          "height": 340
        },
        "id": "zaXqE_pPVqQe",
        "outputId": "566bff52-8af7-4a60-aa02-6c29820cfa6c"
      },
      "source": [
        "sample = [X_train_full[y_train_full==c][np.random.randint(0,100)] for c in range(len(class_names))]\n",
        "plotimages(sample, n_row=2, titles = class_names)"
      ],
      "execution_count": 7,
      "outputs": [
        {
          "output_type": "display_data",
          "data": {
            "image/png": "[encoded data removed]",
            "text/plain": [
              "<Figure size 864x432 with 10 Axes>"
            ]
          },
          "metadata": {
            "tags": [],
            "needs_background": "light"
          }
        }
      ]
    },
    {
      "cell_type": "markdown",
      "metadata": {
        "id": "zfHqOdDNXWhg"
      },
      "source": [
        "## Uma rede Neural com Keras"
      ]
    },
    {
      "cell_type": "markdown",
      "metadata": {
        "id": "O60fFac2mN4b"
      },
      "source": [
        "#### Estilos, treino, teste e avaliação\n",
        "\n",
        "O Keras possui três estilos de descrição de uma rede neural: (1) sequêncial, (2) funcional e (3) orientado a objetos (sub-classing). Vamos ver exemplos destas formas:"
      ]
    },
    {
      "cell_type": "code",
      "metadata": {
        "id": "Zy9ACbB1WHKT"
      },
      "source": [
        "# um modelo sequencial\n",
        "model = keras.models.Sequential()\n",
        "model.add(keras.layers.Flatten(input_shape=[28, 28]))\n",
        "model.add(keras.layers.Dense(300, activation=\"relu\"))\n",
        "model.add(keras.layers.Dense(150, activation=\"relu\"))\n",
        "model.add(keras.layers.Dense(100, activation=\"relu\"))\n",
        "model.add(keras.layers.Dense(50, activation=\"relu\"))\n",
        "model.add(keras.layers.Dense(10, activation=\"softmax\"))"
      ],
      "execution_count": 8,
      "outputs": []
    },
    {
      "cell_type": "code",
      "metadata": {
        "colab": {
          "base_uri": "https://localhost:8080/"
        },
        "id": "DG4CZpIU_yPz",
        "outputId": "ed3f5ea0-b618-4047-c8d4-08a2d25f24c0"
      },
      "source": [
        "model.summary()"
      ],
      "execution_count": 53,
      "outputs": [
        {
          "output_type": "stream",
          "text": [
            "Model: \"model_19\"\n",
            "_________________________________________________________________\n",
            "Layer (type)                 Output Shape              Param #   \n",
            "=================================================================\n",
            "images (InputLayer)          [(None, 28, 28)]          0         \n",
            "_________________________________________________________________\n",
            "input (Flatten)              (None, 784)               0         \n",
            "_________________________________________________________________\n",
            "h1 (Dense)                   (None, 300)               235500    \n",
            "_________________________________________________________________\n",
            "h2 (Dense)                   (None, 100)               30100     \n",
            "_________________________________________________________________\n",
            "output (Dense)               (None, 10)                1010      \n",
            "=================================================================\n",
            "Total params: 266,610\n",
            "Trainable params: 266,610\n",
            "Non-trainable params: 0\n",
            "_________________________________________________________________\n"
          ],
          "name": "stdout"
        }
      ]
    },
    {
      "cell_type": "code",
      "metadata": {
        "id": "rYivjP2SX66w"
      },
      "source": [
        "# um modelo funcional\n",
        "model_input = keras.layers.Input(shape=(28, 28), name=\"images\")\n",
        "X = keras.layers.Flatten(name=\"input\")(model_input)\n",
        "X = keras.layers.Dense(300, activation=\"relu\", name=\"h1\")(X)\n",
        "X = keras.layers.Dense(150, activation=\"relu\", name=\"h2\")(X)\n",
        "X = keras.layers.Dense(100, activation=\"relu\", name=\"h3\")(X)\n",
        "X = keras.layers.Dense(50, activation=\"relu\", name=\"h4\")(X)\n",
        "yhat = keras.layers.Dense(10, activation=\"softmax\", name=\"output\")(X)\n",
        "\n",
        "model = keras.models.Model(inputs=[model_input], outputs=[yhat])"
      ],
      "execution_count": 9,
      "outputs": []
    },
    {
      "cell_type": "code",
      "metadata": {
        "id": "CAR5a2SDYJwN"
      },
      "source": [
        "# um modelo com sub-classing\n",
        "class SeqModel(keras.models.Model):\n",
        "    def __init__(self, **kwargs):\n",
        "        # call the parent constructor\n",
        "        super(SeqModel, self).__init__(**kwargs)\n",
        "        # initialize the layers\n",
        "        self.input_layer = keras.layers.Flatten(name=\"input_layer\")\n",
        "        self.h1 = keras.layers.Dense(300, activation=\"relu\", name=\"h1\")\n",
        "        self.h2 = keras.layers.Dense(150, activation=\"relu\", name=\"h2\")\n",
        "        self.h3 = keras.layers.Dense(100, activation=\"relu\", name=\"h3\")\n",
        "        self.h4 = keras.layers.Dense(50, activation=\"relu\", name=\"h4\")\n",
        "        self.out_layer = keras.layers.Dense(10, activation=\"softmax\", name=\"out_layer\")\n",
        "  \n",
        "    def call(self, inputs):\n",
        "        x = self.input_layer(inputs)\n",
        "        x = self.h1(x)\n",
        "        x = self.h2(x)\n",
        "        x = self.h3(x)\n",
        "        x = self.h4(x)\n",
        "        x = self.out_layer(x)\n",
        "        return x\n",
        "\n",
        "model = SeqModel()"
      ],
      "execution_count": 10,
      "outputs": []
    },
    {
      "cell_type": "code",
      "metadata": {
        "id": "-dN9dZOlg2Ns"
      },
      "source": [
        "model.compile(loss=\"sparse_categorical_crossentropy\",\n",
        "              optimizer=\"sgd\",\n",
        "              metrics=[\"accuracy\"])"
      ],
      "execution_count": 11,
      "outputs": []
    },
    {
      "cell_type": "code",
      "metadata": {
        "colab": {
          "base_uri": "https://localhost:8080/"
        },
        "id": "_cpI_g2lg_jG",
        "outputId": "51a80521-4be7-4fb8-ebcf-f6280d3bb2c5"
      },
      "source": [
        "history = model.fit(X_train, y_train, \n",
        "                    epochs=10, batch_size = 100,\n",
        "                    validation_data=(X_valid, y_valid))"
      ],
      "execution_count": 12,
      "outputs": [
        {
          "output_type": "stream",
          "text": [
            "Epoch 1/10\n",
            "550/550 [==============================] - 5s 2ms/step - loss: 0.7462 - accuracy: 0.7432 - val_loss: 0.5021 - val_accuracy: 0.8244\n",
            "Epoch 2/10\n",
            "550/550 [==============================] - 1s 2ms/step - loss: 0.4732 - accuracy: 0.8297 - val_loss: 0.4370 - val_accuracy: 0.8432\n",
            "Epoch 3/10\n",
            "550/550 [==============================] - 1s 2ms/step - loss: 0.4206 - accuracy: 0.8478 - val_loss: 0.4028 - val_accuracy: 0.8550\n",
            "Epoch 4/10\n",
            "550/550 [==============================] - 1s 2ms/step - loss: 0.3891 - accuracy: 0.8596 - val_loss: 0.3864 - val_accuracy: 0.8622\n",
            "Epoch 5/10\n",
            "550/550 [==============================] - 1s 2ms/step - loss: 0.3685 - accuracy: 0.8683 - val_loss: 0.3629 - val_accuracy: 0.8692\n",
            "Epoch 6/10\n",
            "550/550 [==============================] - 1s 2ms/step - loss: 0.3524 - accuracy: 0.8729 - val_loss: 0.3675 - val_accuracy: 0.8674\n",
            "Epoch 7/10\n",
            "550/550 [==============================] - 1s 2ms/step - loss: 0.3389 - accuracy: 0.8777 - val_loss: 0.3504 - val_accuracy: 0.8740\n",
            "Epoch 8/10\n",
            "550/550 [==============================] - 1s 2ms/step - loss: 0.3271 - accuracy: 0.8805 - val_loss: 0.3402 - val_accuracy: 0.8778\n",
            "Epoch 9/10\n",
            "550/550 [==============================] - 1s 2ms/step - loss: 0.3152 - accuracy: 0.8845 - val_loss: 0.3341 - val_accuracy: 0.8816\n",
            "Epoch 10/10\n",
            "550/550 [==============================] - 1s 2ms/step - loss: 0.3063 - accuracy: 0.8886 - val_loss: 0.3361 - val_accuracy: 0.8770\n"
          ],
          "name": "stdout"
        }
      ]
    },
    {
      "cell_type": "markdown",
      "metadata": {
        "id": "TCYLAKRKeOik"
      },
      "source": [
        "A seguir, temos um resumo do modelo, que nos ajuda a entender sua complexidade: mais de 300 mil parâmetros!"
      ]
    },
    {
      "cell_type": "code",
      "metadata": {
        "colab": {
          "base_uri": "https://localhost:8080/"
        },
        "id": "jotlkgVTgog4",
        "outputId": "a28708ab-1a01-4393-a796-e81a9caef147"
      },
      "source": [
        "model.summary()"
      ],
      "execution_count": 13,
      "outputs": [
        {
          "output_type": "stream",
          "text": [
            "Model: \"seq_model\"\n",
            "_________________________________________________________________\n",
            "Layer (type)                 Output Shape              Param #   \n",
            "=================================================================\n",
            "input_layer (Flatten)        multiple                  0         \n",
            "_________________________________________________________________\n",
            "h1 (Dense)                   multiple                  235500    \n",
            "_________________________________________________________________\n",
            "h2 (Dense)                   multiple                  45150     \n",
            "_________________________________________________________________\n",
            "h3 (Dense)                   multiple                  15100     \n",
            "_________________________________________________________________\n",
            "h4 (Dense)                   multiple                  5050      \n",
            "_________________________________________________________________\n",
            "out_layer (Dense)            multiple                  510       \n",
            "=================================================================\n",
            "Total params: 301,310\n",
            "Trainable params: 301,310\n",
            "Non-trainable params: 0\n",
            "_________________________________________________________________\n"
          ],
          "name": "stdout"
        }
      ]
    },
    {
      "cell_type": "markdown",
      "metadata": {
        "id": "1WWFfUCReatI"
      },
      "source": [
        "Note que o log do treino guarda informação sobre todas as métricas avaliadas ao longo das épocas, como um dicionário Python:"
      ]
    },
    {
      "cell_type": "code",
      "metadata": {
        "colab": {
          "base_uri": "https://localhost:8080/"
        },
        "id": "kGnecy9KInmK",
        "outputId": "4b08ae96-2ae4-48e3-ab0d-0e6583ed5891"
      },
      "source": [
        "history.history"
      ],
      "execution_count": 14,
      "outputs": [
        {
          "output_type": "execute_result",
          "data": {
            "text/plain": [
              "{'accuracy': [0.7432000041007996,\n",
              "  0.8296909332275391,\n",
              "  0.8478363752365112,\n",
              "  0.8595636487007141,\n",
              "  0.8683454394340515,\n",
              "  0.8729454278945923,\n",
              "  0.8776909112930298,\n",
              "  0.8804908990859985,\n",
              "  0.8844909071922302,\n",
              "  0.8885818123817444],\n",
              " 'loss': [0.7461526989936829,\n",
              "  0.4732035994529724,\n",
              "  0.4206465780735016,\n",
              "  0.3891010284423828,\n",
              "  0.36850854754447937,\n",
              "  0.3524143397808075,\n",
              "  0.3389386832714081,\n",
              "  0.3270808160305023,\n",
              "  0.3152215778827667,\n",
              "  0.3063214421272278],\n",
              " 'val_accuracy': [0.824400007724762,\n",
              "  0.8432000279426575,\n",
              "  0.8550000190734863,\n",
              "  0.8622000217437744,\n",
              "  0.8691999912261963,\n",
              "  0.8673999905586243,\n",
              "  0.8740000128746033,\n",
              "  0.8777999877929688,\n",
              "  0.881600022315979,\n",
              "  0.8769999742507935],\n",
              " 'val_loss': [0.5021196007728577,\n",
              "  0.4370323121547699,\n",
              "  0.4028414785861969,\n",
              "  0.3864104151725769,\n",
              "  0.36287277936935425,\n",
              "  0.3674824833869934,\n",
              "  0.3504263758659363,\n",
              "  0.3402393162250519,\n",
              "  0.3340759575366974,\n",
              "  0.33613577485084534]}"
            ]
          },
          "metadata": {
            "tags": []
          },
          "execution_count": 14
        }
      ]
    },
    {
      "cell_type": "markdown",
      "metadata": {
        "id": "n7geva8Pent7"
      },
      "source": [
        "Isso nos permite facilmente avaliar estes números, com ajuda do Pandas:"
      ]
    },
    {
      "cell_type": "code",
      "metadata": {
        "colab": {
          "base_uri": "https://localhost:8080/",
          "height": 320
        },
        "id": "kac1uHFrgros",
        "outputId": "55e23522-ac94-48da-8212-77ad8a7f1bfd"
      },
      "source": [
        "pd.DataFrame(history.history)[['loss', 'val_loss']].plot(figsize=(8, 5))\n",
        "plt.grid(True)\n",
        "plt.show()"
      ],
      "execution_count": 15,
      "outputs": [
        {
          "output_type": "display_data",
          "data": {
            "image/png": "[encoded data removed]",
            "text/plain": [
              "<Figure size 576x360 with 1 Axes>"
            ]
          },
          "metadata": {
            "tags": [],
            "needs_background": "light"
          }
        }
      ]
    },
    {
      "cell_type": "markdown",
      "metadata": {
        "id": "wdMcvgFVetwY"
      },
      "source": [
        "Para avaliar o modelo, podemos usar evalute:"
      ]
    },
    {
      "cell_type": "code",
      "metadata": {
        "colab": {
          "base_uri": "https://localhost:8080/"
        },
        "id": "Ic3wW9yfiRaC",
        "outputId": "e66486bb-3e91-47cc-cb36-58f481e88c82"
      },
      "source": [
        "model.evaluate(X_test, y_test)"
      ],
      "execution_count": 16,
      "outputs": [
        {
          "output_type": "stream",
          "text": [
            "313/313 [==============================] - 1s 2ms/step - loss: 27.8513 - accuracy: 0.7238\n"
          ],
          "name": "stdout"
        },
        {
          "output_type": "execute_result",
          "data": {
            "text/plain": [
              "[27.851341247558594, 0.723800003528595]"
            ]
          },
          "metadata": {
            "tags": []
          },
          "execution_count": 16
        }
      ]
    },
    {
      "cell_type": "markdown",
      "metadata": {
        "id": "l_7MWKU1e-E6"
      },
      "source": [
        "É bastante simples acessar elementos do modelo, como suas camadas e propriedades de suas camadas, incluindo pesos e biases:"
      ]
    },
    {
      "cell_type": "code",
      "metadata": {
        "colab": {
          "base_uri": "https://localhost:8080/"
        },
        "id": "EhoMRuMdk3vO",
        "outputId": "7971c0f1-540a-4d42-9c36-1aa323a5ef0c"
      },
      "source": [
        "model.layers"
      ],
      "execution_count": 17,
      "outputs": [
        {
          "output_type": "execute_result",
          "data": {
            "text/plain": [
              "[<tensorflow.python.keras.layers.core.Flatten at 0x7f281a376890>,\n",
              " <tensorflow.python.keras.layers.core.Dense at 0x7f281a2be2d0>,\n",
              " <tensorflow.python.keras.layers.core.Dense at 0x7f281a2be190>,\n",
              " <tensorflow.python.keras.layers.core.Dense at 0x7f280a5a9890>,\n",
              " <tensorflow.python.keras.layers.core.Dense at 0x7f280a5a9650>,\n",
              " <tensorflow.python.keras.layers.core.Dense at 0x7f280a4fdd90>]"
            ]
          },
          "metadata": {
            "tags": []
          },
          "execution_count": 17
        }
      ]
    },
    {
      "cell_type": "code",
      "metadata": {
        "colab": {
          "base_uri": "https://localhost:8080/",
          "height": 35
        },
        "id": "E0JkvjEmlBdA",
        "outputId": "308f9d23-b939-4aff-b88b-f91c91e39c37"
      },
      "source": [
        "model.layers[1].name"
      ],
      "execution_count": 18,
      "outputs": [
        {
          "output_type": "execute_result",
          "data": {
            "application/vnd.google.colaboratory.intrinsic+json": {
              "type": "string"
            },
            "text/plain": [
              "'h1'"
            ]
          },
          "metadata": {
            "tags": []
          },
          "execution_count": 18
        }
      ]
    },
    {
      "cell_type": "code",
      "metadata": {
        "colab": {
          "base_uri": "https://localhost:8080/",
          "height": 35
        },
        "id": "JEFdNsJzlFXe",
        "outputId": "dd8c77f7-7a73-455f-e5e1-8d24e5452b34"
      },
      "source": [
        "model.get_layer('h1').name"
      ],
      "execution_count": 19,
      "outputs": [
        {
          "output_type": "execute_result",
          "data": {
            "application/vnd.google.colaboratory.intrinsic+json": {
              "type": "string"
            },
            "text/plain": [
              "'h1'"
            ]
          },
          "metadata": {
            "tags": []
          },
          "execution_count": 19
        }
      ]
    },
    {
      "cell_type": "code",
      "metadata": {
        "id": "twT11teVlIfB"
      },
      "source": [
        "weights, biases = model.get_layer('h2').get_weights()"
      ],
      "execution_count": 20,
      "outputs": []
    },
    {
      "cell_type": "code",
      "metadata": {
        "colab": {
          "base_uri": "https://localhost:8080/"
        },
        "id": "v4jrbJmFlOti",
        "outputId": "4e49fac0-4a8a-436b-89fd-de4cb5218533"
      },
      "source": [
        "weights.shape"
      ],
      "execution_count": 21,
      "outputs": [
        {
          "output_type": "execute_result",
          "data": {
            "text/plain": [
              "(300, 150)"
            ]
          },
          "metadata": {
            "tags": []
          },
          "execution_count": 21
        }
      ]
    },
    {
      "cell_type": "code",
      "metadata": {
        "colab": {
          "base_uri": "https://localhost:8080/"
        },
        "id": "p7zAi5qIlQeZ",
        "outputId": "4f3d3014-7816-46c8-eab7-35c660561bce"
      },
      "source": [
        "weights[:3,:10], biases[:3]"
      ],
      "execution_count": 22,
      "outputs": [
        {
          "output_type": "execute_result",
          "data": {
            "text/plain": [
              "(array([[-0.0816888 ,  0.06523162,  0.07723522, -0.07319505, -0.01069728,\n",
              "         -0.08015335, -0.08457568,  0.04263711,  0.05940039,  0.00554471],\n",
              "        [ 0.00804545,  0.08403929,  0.00395513,  0.12151827, -0.08039297,\n",
              "          0.04949604, -0.11521644, -0.0508768 , -0.00718467, -0.00694969],\n",
              "        [ 0.10289454,  0.0950188 , -0.08172062,  0.00036124,  0.11044484,\n",
              "          0.05198731, -0.00226699,  0.11997046,  0.04826827, -0.01631871]],\n",
              "       dtype=float32),\n",
              " array([-0.0028423 ,  0.00025565, -0.00462348], dtype=float32))"
            ]
          },
          "metadata": {
            "tags": []
          },
          "execution_count": 22
        }
      ]
    },
    {
      "cell_type": "markdown",
      "metadata": {
        "id": "fVdLSROxfcNQ"
      },
      "source": [
        "Note que em nossa definição do modelo tivemos que definir uma função de perda e um otimizador, usando o método _compile_. Como se trata de uma classificação, resolvemos usar como função de perda a entropia cruzada. Apenas para lembrarmos, dada a entrada da última camada $X_L$ e seus pesos, $W_L$, nosso estimativa é $\\hat{Y} = \\sigma(X_L W_L)$, onde $\\sigma$ é a função de ativação. Queremos combinar nossos 10 regressores com a softmax para termos probabilidades normalizadas. Assim, para cada regressor $j$ temos: \n",
        "\n",
        "$$S_j = \\frac{\\exp(\\hat{Y}_j)}{\\sum_k \\exp(\\hat{Y}_k)}$$.\n",
        "\n",
        "Finalmente, comparamos a estimativa derivada da softmax com o valor real (as _labels_ $L$ codificadas com one-hot) usando a entropia cruzada (neste caso discreto, chamada de entropia categórica):\n",
        "\n",
        "$$D(S, L) = -\\sum_j L_j \\log S_j$$\n",
        "\n",
        "Abaixo, podemos ver como esta função produz maior erro conforme as distribuições divergem:"
      ]
    },
    {
      "cell_type": "code",
      "metadata": {
        "colab": {
          "base_uri": "https://localhost:8080/"
        },
        "id": "8WaJKrBnf2OM",
        "outputId": "d04a46e9-9a2f-4b40-9c0a-429f98cd3019"
      },
      "source": [
        "L  = np.array([1.00, 0.00, 0.00, 0.00])\n",
        "S0 = np.array([0.90, 0.01, 0.04, 0.05])\n",
        "S1 = np.array([0.40, 0.20, 0.20, 0.20])\n",
        "S2 = np.array([0.01, 0.90, 0.04, 0.05])\n",
        "xent = lambda S, L: -sum(L * np.log(S))\n",
        "print(xent(S0, L), xent(S1, L), xent(S2, L))"
      ],
      "execution_count": 23,
      "outputs": [
        {
          "output_type": "stream",
          "text": [
            "0.10536051565782628 0.916290731874155 4.605170185988091\n"
          ],
          "name": "stdout"
        }
      ]
    },
    {
      "cell_type": "markdown",
      "metadata": {
        "id": "4veullS0f8_b"
      },
      "source": [
        "Para fazermos isso no Keras, usamos _compile_. Também usamos como otimizador o Gradiente Descendente Estocástico e como métrica de avaliação, a acurácia. O modelo foi então treinado usando fit. Neste caso, foi treinado por dez épocas com tamanho de lote 100, medindo seu desempenho contra o conjunto de validação que foi separado antes.\n",
        "\n",
        "Para termos estimativas do modelo, podemos usar predict:"
      ]
    },
    {
      "cell_type": "code",
      "metadata": {
        "id": "YxQNiLyGjM6c",
        "colab": {
          "base_uri": "https://localhost:8080/"
        },
        "outputId": "4d234a24-cc0a-4ea7-881e-3ffa94f51aee"
      },
      "source": [
        "X_new = X_test[:3]\n",
        "y_proba = model.predict(X_new)\n",
        "y_proba.round(2)"
      ],
      "execution_count": 24,
      "outputs": [
        {
          "output_type": "execute_result",
          "data": {
            "text/plain": [
              "array([[0., 0., 0., 0., 0., 0., 0., 0., 1., 0.],\n",
              "       [0., 0., 1., 0., 0., 0., 0., 0., 0., 0.],\n",
              "       [0., 1., 0., 0., 0., 0., 0., 0., 0., 0.]], dtype=float32)"
            ]
          },
          "metadata": {
            "tags": []
          },
          "execution_count": 24
        }
      ]
    },
    {
      "cell_type": "code",
      "metadata": {
        "colab": {
          "base_uri": "https://localhost:8080/"
        },
        "id": "Hd8DoZ8CjkGv",
        "outputId": "1267d41a-ee26-4fd6-91f2-fabb55557f15"
      },
      "source": [
        "y_new = y_test[:3]\n",
        "y_new"
      ],
      "execution_count": 25,
      "outputs": [
        {
          "output_type": "execute_result",
          "data": {
            "text/plain": [
              "array([9, 2, 1], dtype=uint8)"
            ]
          },
          "metadata": {
            "tags": []
          },
          "execution_count": 25
        }
      ]
    },
    {
      "cell_type": "markdown",
      "metadata": {
        "id": "b7GMN-KomdMl"
      },
      "source": [
        "#### Funções de ativação\n"
      ]
    },
    {
      "cell_type": "code",
      "metadata": {
        "id": "I--M83l4lhN8"
      },
      "source": [
        "# relu -> elu\n",
        "model_input = keras.layers.Input(shape=(28, 28), name=\"images\")\n",
        "X = keras.layers.Flatten(name=\"input\")(model_input)\n",
        "X = keras.layers.Dense(300, activation=\"elu\", name=\"h1\")(X)\n",
        "X = keras.layers.Dense(150, activation=\"elu\", name=\"h2\")(X)\n",
        "X = keras.layers.Dense(100, activation=\"elu\", name=\"h3\")(X)\n",
        "X = keras.layers.Dense(50, activation=\"elu\", name=\"h4\")(X)\n",
        "yhat = keras.layers.Dense(10, activation=\"softmax\", name=\"output\")(X)\n",
        "\n",
        "model = keras.models.Model(inputs=[model_input], outputs=[yhat])\n",
        "\n",
        "model.compile(loss=\"sparse_categorical_crossentropy\",\n",
        "              optimizer=\"sgd\",\n",
        "              metrics=[\"accuracy\"])"
      ],
      "execution_count": 26,
      "outputs": []
    },
    {
      "cell_type": "code",
      "metadata": {
        "colab": {
          "base_uri": "https://localhost:8080/",
          "height": 0
        },
        "id": "GqKwW0qfmqYf",
        "outputId": "525b6d8d-a4bf-4cd5-aa1b-01a5ce693027"
      },
      "source": [
        "history = model.fit(X_train, y_train, \n",
        "                    epochs=10, batch_size = 100,\n",
        "                    validation_data=(X_valid, y_valid))\n",
        "\n",
        "pd.DataFrame(history.history)[['loss', 'val_loss']].plot(figsize=(8, 5))\n",
        "plt.grid(True)\n",
        "plt.show()"
      ],
      "execution_count": 27,
      "outputs": [
        {
          "output_type": "stream",
          "text": [
            "Epoch 1/10\n",
            "550/550 [==============================] - 2s 2ms/step - loss: 0.6160 - accuracy: 0.7846 - val_loss: 0.4602 - val_accuracy: 0.8402\n",
            "Epoch 2/10\n",
            "550/550 [==============================] - 1s 2ms/step - loss: 0.4407 - accuracy: 0.8424 - val_loss: 0.4090 - val_accuracy: 0.8554\n",
            "Epoch 3/10\n",
            "550/550 [==============================] - 1s 2ms/step - loss: 0.4015 - accuracy: 0.8554 - val_loss: 0.3904 - val_accuracy: 0.8634\n",
            "Epoch 4/10\n",
            "550/550 [==============================] - 1s 2ms/step - loss: 0.3770 - accuracy: 0.8644 - val_loss: 0.3750 - val_accuracy: 0.8660\n",
            "Epoch 5/10\n",
            "550/550 [==============================] - 1s 2ms/step - loss: 0.3596 - accuracy: 0.8699 - val_loss: 0.3560 - val_accuracy: 0.8724\n",
            "Epoch 6/10\n",
            "550/550 [==============================] - 1s 2ms/step - loss: 0.3450 - accuracy: 0.8748 - val_loss: 0.3529 - val_accuracy: 0.8698\n",
            "Epoch 7/10\n",
            "550/550 [==============================] - 1s 2ms/step - loss: 0.3350 - accuracy: 0.8785 - val_loss: 0.3448 - val_accuracy: 0.8730\n",
            "Epoch 8/10\n",
            "550/550 [==============================] - 1s 2ms/step - loss: 0.3240 - accuracy: 0.8829 - val_loss: 0.3529 - val_accuracy: 0.8682\n",
            "Epoch 9/10\n",
            "550/550 [==============================] - 1s 2ms/step - loss: 0.3141 - accuracy: 0.8868 - val_loss: 0.3315 - val_accuracy: 0.8784\n",
            "Epoch 10/10\n",
            "550/550 [==============================] - 1s 2ms/step - loss: 0.3056 - accuracy: 0.8892 - val_loss: 0.3274 - val_accuracy: 0.8808\n"
          ],
          "name": "stdout"
        },
        {
          "output_type": "display_data",
          "data": {
            "image/png": "[encoded data removed]",
            "text/plain": [
              "<Figure size 576x360 with 1 Axes>"
            ]
          },
          "metadata": {
            "tags": [],
            "needs_background": "light"
          }
        }
      ]
    },
    {
      "cell_type": "markdown",
      "metadata": {
        "id": "e05GnHxontFd"
      },
      "source": [
        "#### Otimizadores"
      ]
    },
    {
      "cell_type": "code",
      "metadata": {
        "id": "h0XkmF14mzT9"
      },
      "source": [
        "# sgd -> adam\n",
        "model = keras.models.Model(inputs=[model_input], outputs=[yhat])\n",
        "\n",
        "model.compile(loss=\"sparse_categorical_crossentropy\",\n",
        "              optimizer=\"adam\",\n",
        "              metrics=[\"accuracy\"])"
      ],
      "execution_count": 28,
      "outputs": []
    },
    {
      "cell_type": "code",
      "metadata": {
        "colab": {
          "base_uri": "https://localhost:8080/",
          "height": 0
        },
        "id": "5svJMI8in2Tr",
        "outputId": "f7be0a44-0871-4f32-dfd6-4932add4cde4"
      },
      "source": [
        "history_adam = model.fit(X_train, y_train, \n",
        "                    epochs=10, batch_size = 100,\n",
        "                    validation_data=(X_valid, y_valid))\n",
        "\n",
        "pd.DataFrame(history.history)[['loss', 'val_loss']].plot(figsize=(8, 5))\n",
        "plt.grid(True)\n",
        "plt.show()"
      ],
      "execution_count": 29,
      "outputs": [
        {
          "output_type": "stream",
          "text": [
            "Epoch 1/10\n",
            "550/550 [==============================] - 2s 3ms/step - loss: 0.4046 - accuracy: 0.8528 - val_loss: 0.3406 - val_accuracy: 0.8746\n",
            "Epoch 2/10\n",
            "550/550 [==============================] - 1s 2ms/step - loss: 0.3305 - accuracy: 0.8766 - val_loss: 0.3378 - val_accuracy: 0.8744\n",
            "Epoch 3/10\n",
            "550/550 [==============================] - 1s 2ms/step - loss: 0.2976 - accuracy: 0.8876 - val_loss: 0.2993 - val_accuracy: 0.8942\n",
            "Epoch 4/10\n",
            "550/550 [==============================] - 1s 2ms/step - loss: 0.2757 - accuracy: 0.8966 - val_loss: 0.3097 - val_accuracy: 0.8854\n",
            "Epoch 5/10\n",
            "550/550 [==============================] - 1s 2ms/step - loss: 0.2578 - accuracy: 0.9027 - val_loss: 0.3034 - val_accuracy: 0.8886\n",
            "Epoch 6/10\n",
            "550/550 [==============================] - 1s 2ms/step - loss: 0.2436 - accuracy: 0.9088 - val_loss: 0.3184 - val_accuracy: 0.8834\n",
            "Epoch 7/10\n",
            "550/550 [==============================] - 1s 2ms/step - loss: 0.2305 - accuracy: 0.9126 - val_loss: 0.3116 - val_accuracy: 0.8838\n",
            "Epoch 8/10\n",
            "550/550 [==============================] - 1s 2ms/step - loss: 0.2157 - accuracy: 0.9183 - val_loss: 0.3018 - val_accuracy: 0.8966\n",
            "Epoch 9/10\n",
            "550/550 [==============================] - 1s 2ms/step - loss: 0.2023 - accuracy: 0.9227 - val_loss: 0.3126 - val_accuracy: 0.8906\n",
            "Epoch 10/10\n",
            "550/550 [==============================] - 1s 2ms/step - loss: 0.1933 - accuracy: 0.9260 - val_loss: 0.3230 - val_accuracy: 0.8918\n"
          ],
          "name": "stdout"
        },
        {
          "output_type": "display_data",
          "data": {
            "image/png": "[encoded data removed]",
            "text/plain": [
              "<Figure size 576x360 with 1 Axes>"
            ]
          },
          "metadata": {
            "tags": [],
            "needs_background": "light"
          }
        }
      ]
    },
    {
      "cell_type": "markdown",
      "metadata": {
        "id": "jmFzrbeFgviM"
      },
      "source": [
        "Comparando o SGD com o Adam observamos que, para este nosso perqueno exemplo, o Adam claramente produz erros menores, embora com muito overfitting."
      ]
    },
    {
      "cell_type": "code",
      "metadata": {
        "colab": {
          "base_uri": "https://localhost:8080/",
          "height": 0
        },
        "id": "PJgZ3PAIgtJH",
        "outputId": "93122f40-fe44-4e04-a7e7-92844f5fb380"
      },
      "source": [
        "ax = pd.DataFrame(history.history)[['loss', 'val_loss']].plot(figsize=(8, 5))\n",
        "pd.DataFrame(history_adam.history)[['loss', 'val_loss']].plot(figsize=(8, 5), ax = ax)\n",
        "plt.legend(['SGD loss', 'SGD val_loss', 'Adam loss', 'Adam val_loss'])\n",
        "plt.grid(True)\n",
        "plt.show()"
      ],
      "execution_count": 30,
      "outputs": [
        {
          "output_type": "display_data",
          "data": {
            "image/png": "[encoded data removed]",
            "text/plain": [
              "<Figure size 576x360 with 1 Axes>"
            ]
          },
          "metadata": {
            "tags": [],
            "needs_background": "light"
          }
        }
      ]
    },
    {
      "cell_type": "markdown",
      "metadata": {
        "id": "K5kf9bX2hLjO"
      },
      "source": [
        "#### Parada Antecipada -- uma forma bem melhor de treinar um modelo"
      ]
    },
    {
      "cell_type": "code",
      "metadata": {
        "id": "8q_-X3-gomID"
      },
      "source": [
        "# early stopping\n",
        "model_input = keras.layers.Input(shape=(28, 28), name=\"images\")\n",
        "X = keras.layers.Flatten(name=\"input\")(model_input)\n",
        "X = keras.layers.Dense(300, activation=\"elu\", name=\"h1\")(X)\n",
        "X = keras.layers.Dense(150, activation=\"elu\", name=\"h2\")(X)\n",
        "X = keras.layers.Dense(100, activation=\"elu\", name=\"h3\")(X)\n",
        "X = keras.layers.Dense(50, activation=\"elu\", name=\"h4\")(X)\n",
        "yhat = keras.layers.Dense(10, activation=\"softmax\", name=\"output\")(X)\n",
        "\n",
        "model = keras.models.Model(inputs=[model_input], outputs=[yhat])\n",
        "\n",
        "model.compile(loss=\"sparse_categorical_crossentropy\",\n",
        "              optimizer=\"adam\",\n",
        "              metrics=[\"accuracy\"])"
      ],
      "execution_count": 31,
      "outputs": []
    },
    {
      "cell_type": "code",
      "metadata": {
        "id": "36XF6f9konE2"
      },
      "source": [
        "early_stopping = keras.callbacks.EarlyStopping(patience=5)"
      ],
      "execution_count": 32,
      "outputs": []
    },
    {
      "cell_type": "code",
      "metadata": {
        "colab": {
          "base_uri": "https://localhost:8080/",
          "height": 0
        },
        "id": "yuo6euqJoOAk",
        "outputId": "06855e60-aea7-4d65-98d7-9cb088f455b4"
      },
      "source": [
        "history = model.fit(X_train, y_train, \n",
        "                    epochs=100, batch_size = 100,\n",
        "                    validation_data=(X_valid, y_valid), \n",
        "                    callbacks=[early_stopping])\n",
        "\n",
        "pd.DataFrame(history.history)[['loss', 'val_loss']].plot(figsize=(8, 5))\n",
        "plt.grid(True)\n",
        "plt.show()"
      ],
      "execution_count": 33,
      "outputs": [
        {
          "output_type": "stream",
          "text": [
            "Epoch 1/100\n",
            "550/550 [==============================] - 2s 3ms/step - loss: 0.4672 - accuracy: 0.8305 - val_loss: 0.3479 - val_accuracy: 0.8728\n",
            "Epoch 2/100\n",
            "550/550 [==============================] - 1s 2ms/step - loss: 0.3466 - accuracy: 0.8718 - val_loss: 0.3432 - val_accuracy: 0.8752\n",
            "Epoch 3/100\n",
            "550/550 [==============================] - 1s 2ms/step - loss: 0.3084 - accuracy: 0.8849 - val_loss: 0.3242 - val_accuracy: 0.8872\n",
            "Epoch 4/100\n",
            "550/550 [==============================] - 1s 2ms/step - loss: 0.2845 - accuracy: 0.8934 - val_loss: 0.3266 - val_accuracy: 0.8834\n",
            "Epoch 5/100\n",
            "550/550 [==============================] - 1s 2ms/step - loss: 0.2705 - accuracy: 0.8985 - val_loss: 0.3192 - val_accuracy: 0.8824\n",
            "Epoch 6/100\n",
            "550/550 [==============================] - 1s 2ms/step - loss: 0.2484 - accuracy: 0.9054 - val_loss: 0.3082 - val_accuracy: 0.8896\n",
            "Epoch 7/100\n",
            "550/550 [==============================] - 1s 2ms/step - loss: 0.2325 - accuracy: 0.9127 - val_loss: 0.3133 - val_accuracy: 0.8934\n",
            "Epoch 8/100\n",
            "550/550 [==============================] - 1s 2ms/step - loss: 0.2237 - accuracy: 0.9151 - val_loss: 0.3006 - val_accuracy: 0.8930\n",
            "Epoch 9/100\n",
            "550/550 [==============================] - 1s 3ms/step - loss: 0.2052 - accuracy: 0.9227 - val_loss: 0.3105 - val_accuracy: 0.8938\n",
            "Epoch 10/100\n",
            "550/550 [==============================] - 1s 2ms/step - loss: 0.1972 - accuracy: 0.9247 - val_loss: 0.3286 - val_accuracy: 0.8870\n",
            "Epoch 11/100\n",
            "550/550 [==============================] - 1s 2ms/step - loss: 0.1874 - accuracy: 0.9283 - val_loss: 0.3152 - val_accuracy: 0.8974\n",
            "Epoch 12/100\n",
            "550/550 [==============================] - 1s 2ms/step - loss: 0.1747 - accuracy: 0.9335 - val_loss: 0.3334 - val_accuracy: 0.8918\n",
            "Epoch 13/100\n",
            "550/550 [==============================] - 1s 2ms/step - loss: 0.1671 - accuracy: 0.9360 - val_loss: 0.3309 - val_accuracy: 0.8966\n"
          ],
          "name": "stdout"
        },
        {
          "output_type": "display_data",
          "data": {
            "image/png": "[encoded data removed]",
            "text/plain": [
              "<Figure size 576x360 with 1 Axes>"
            ]
          },
          "metadata": {
            "tags": [],
            "needs_background": "light"
          }
        }
      ]
    },
    {
      "cell_type": "markdown",
      "metadata": {
        "id": "jgua3sEtpmK-"
      },
      "source": [
        "#### Dropout\n",
        "\n",
        "Uma forma de lidar com o enorme overfitting dos modelos anteriores é aplicando Dropout. Na prática, em vez de rodar uma rede neural, vamos aprender os pesos com base em um ensamble de redes neurais geradas aleatoriamente durante o processo de treino. O modelo aprendido tende a generalizar muito bem."
      ]
    },
    {
      "cell_type": "code",
      "metadata": {
        "id": "2BNHQ8hWo3yO"
      },
      "source": [
        "# dropout\n",
        "model_input = keras.layers.Input(shape=(28, 28), name=\"images\")\n",
        "X = keras.layers.Flatten(name=\"input\")(model_input)\n",
        "X = keras.layers.Dense(300, activation=\"elu\", name=\"h1\")(X)\n",
        "X = keras.layers.Dropout(rate = 0.5)(X)\n",
        "X = keras.layers.Dense(150, activation=\"elu\", name=\"h2\")(X)\n",
        "X = keras.layers.Dropout(rate = 0.5)(X)\n",
        "X = keras.layers.Dense(100, activation=\"elu\", name=\"h3\")(X)\n",
        "X = keras.layers.Dropout(rate = 0.5)(X)\n",
        "X = keras.layers.Dense(50, activation=\"elu\", name=\"h4\")(X)\n",
        "X = keras.layers.Dropout(rate = 0.5)(X)\n",
        "yhat = keras.layers.Dense(10, activation=\"softmax\", name=\"output\")(X)\n",
        "\n",
        "model_d = keras.models.Model(inputs=[model_input], outputs=[yhat])\n",
        "\n",
        "model_d.compile(loss=\"sparse_categorical_crossentropy\",\n",
        "              optimizer=\"adam\",\n",
        "              metrics=[\"accuracy\"])"
      ],
      "execution_count": 34,
      "outputs": []
    },
    {
      "cell_type": "code",
      "metadata": {
        "colab": {
          "base_uri": "https://localhost:8080/",
          "height": 0
        },
        "id": "ygyBv1Ewp5vI",
        "outputId": "0ee6ad9c-cce0-4174-9716-76a2af163200"
      },
      "source": [
        "early_stopping = keras.callbacks.EarlyStopping(patience=5)\n",
        "history = model_d.fit(X_train, y_train, \n",
        "                    epochs=100, batch_size = 100,\n",
        "                    validation_data=(X_valid, y_valid), \n",
        "                    callbacks=[early_stopping])\n",
        "\n",
        "pd.DataFrame(history.history)[['loss', 'val_loss']].plot(figsize=(8, 5))\n",
        "plt.grid(True)\n",
        "plt.show()"
      ],
      "execution_count": 35,
      "outputs": [
        {
          "output_type": "stream",
          "text": [
            "Epoch 1/100\n",
            "550/550 [==============================] - 2s 3ms/step - loss: 1.2039 - accuracy: 0.6068 - val_loss: 0.4912 - val_accuracy: 0.8182\n",
            "Epoch 2/100\n",
            "550/550 [==============================] - 1s 2ms/step - loss: 0.6743 - accuracy: 0.7679 - val_loss: 0.4237 - val_accuracy: 0.8474\n",
            "Epoch 3/100\n",
            "550/550 [==============================] - 1s 2ms/step - loss: 0.5889 - accuracy: 0.8022 - val_loss: 0.4004 - val_accuracy: 0.8568\n",
            "Epoch 4/100\n",
            "550/550 [==============================] - 1s 2ms/step - loss: 0.5425 - accuracy: 0.8181 - val_loss: 0.3912 - val_accuracy: 0.8606\n",
            "Epoch 5/100\n",
            "550/550 [==============================] - 1s 3ms/step - loss: 0.5118 - accuracy: 0.8285 - val_loss: 0.3783 - val_accuracy: 0.8680\n",
            "Epoch 6/100\n",
            "550/550 [==============================] - 1s 3ms/step - loss: 0.4946 - accuracy: 0.8357 - val_loss: 0.3690 - val_accuracy: 0.8690\n",
            "Epoch 7/100\n",
            "550/550 [==============================] - 1s 3ms/step - loss: 0.4755 - accuracy: 0.8419 - val_loss: 0.3607 - val_accuracy: 0.8742\n",
            "Epoch 8/100\n",
            "550/550 [==============================] - 1s 3ms/step - loss: 0.4640 - accuracy: 0.8445 - val_loss: 0.3482 - val_accuracy: 0.8764\n",
            "Epoch 9/100\n",
            "550/550 [==============================] - 1s 2ms/step - loss: 0.4513 - accuracy: 0.8487 - val_loss: 0.3608 - val_accuracy: 0.8766\n",
            "Epoch 10/100\n",
            "550/550 [==============================] - 1s 3ms/step - loss: 0.4446 - accuracy: 0.8513 - val_loss: 0.3594 - val_accuracy: 0.8768\n",
            "Epoch 11/100\n",
            "550/550 [==============================] - 1s 2ms/step - loss: 0.4351 - accuracy: 0.8554 - val_loss: 0.3510 - val_accuracy: 0.8802\n",
            "Epoch 12/100\n",
            "550/550 [==============================] - 1s 2ms/step - loss: 0.4248 - accuracy: 0.8571 - val_loss: 0.3440 - val_accuracy: 0.8812\n",
            "Epoch 13/100\n",
            "550/550 [==============================] - 1s 2ms/step - loss: 0.4159 - accuracy: 0.8585 - val_loss: 0.3275 - val_accuracy: 0.8818\n",
            "Epoch 14/100\n",
            "550/550 [==============================] - 1s 2ms/step - loss: 0.4145 - accuracy: 0.8620 - val_loss: 0.3371 - val_accuracy: 0.8832\n",
            "Epoch 15/100\n",
            "550/550 [==============================] - 1s 3ms/step - loss: 0.4057 - accuracy: 0.8627 - val_loss: 0.3323 - val_accuracy: 0.8848\n",
            "Epoch 16/100\n",
            "550/550 [==============================] - 1s 3ms/step - loss: 0.4032 - accuracy: 0.8648 - val_loss: 0.3332 - val_accuracy: 0.8838\n",
            "Epoch 17/100\n",
            "550/550 [==============================] - 1s 3ms/step - loss: 0.3951 - accuracy: 0.8691 - val_loss: 0.3356 - val_accuracy: 0.8824\n",
            "Epoch 18/100\n",
            "550/550 [==============================] - 1s 3ms/step - loss: 0.3889 - accuracy: 0.8711 - val_loss: 0.3312 - val_accuracy: 0.8838\n"
          ],
          "name": "stdout"
        },
        {
          "output_type": "display_data",
          "data": {
            "image/png": "[encoded data removed]",
            "text/plain": [
              "<Figure size 576x360 with 1 Axes>"
            ]
          },
          "metadata": {
            "tags": [],
            "needs_background": "light"
          }
        }
      ]
    },
    {
      "cell_type": "markdown",
      "metadata": {
        "id": "qkDu5U90h99c"
      },
      "source": [
        "E o modelo resultante não sofre de overfitting."
      ]
    },
    {
      "cell_type": "markdown",
      "metadata": {
        "id": "p-TgD3GkrcjP"
      },
      "source": [
        "#### Batch Normalization\n",
        "\n",
        "Uma característica interessante do modelo anterior é que, embora tenhamos garantido a normalização dos dados de entrada com o Z-score, isso não se mantem ao longo das camadas:"
      ]
    },
    {
      "cell_type": "code",
      "metadata": {
        "id": "1nzinuv1JE7y"
      },
      "source": [
        "import scipy.stats as stats\n",
        "import pylab as pl"
      ],
      "execution_count": 36,
      "outputs": []
    },
    {
      "cell_type": "code",
      "metadata": {
        "colab": {
          "base_uri": "https://localhost:8080/",
          "height": 0
        },
        "id": "uinqynaqFQaE",
        "outputId": "cbbea558-5cb3-4af5-d381-3c997754f722"
      },
      "source": [
        "vals = sorted(X_train.reshape(-1,784).mean(axis = 1))\n",
        "fit = stats.norm.pdf(vals, np.mean(vals), np.std(vals))\n",
        "plt.hist(vals, density = True)\n",
        "plt.plot(vals, fit, '-', color = 'red')"
      ],
      "execution_count": 37,
      "outputs": [
        {
          "output_type": "execute_result",
          "data": {
            "text/plain": [
              "[<matplotlib.lines.Line2D at 0x7f2804092190>]"
            ]
          },
          "metadata": {
            "tags": []
          },
          "execution_count": 37
        },
        {
          "output_type": "display_data",
          "data": {
            "image/png": "[encoded data removed]",
            "text/plain": [
              "<Figure size 432x288 with 1 Axes>"
            ]
          },
          "metadata": {
            "tags": [],
            "needs_background": "light"
          }
        }
      ]
    },
    {
      "cell_type": "code",
      "metadata": {
        "id": "Tv6E50S3x2-4"
      },
      "source": [
        "def plot_layer_dists(m):\n",
        "    idxs = np.random.choice(range(len(X_train)), 1000, replace=False)\n",
        "    sample = X_train[idxs]\n",
        "    _, axs = plt.subplots(1, 4, figsize=(20, 3))\n",
        "    for col in range(4):\n",
        "        layer = 'h' + str(col+1)\n",
        "        layer_model = keras.models.Model(inputs = m.input,\n",
        "                                        outputs = m.get_layer(layer).output)\n",
        "        out = layer_model.predict(sample)\n",
        "        out = sorted(out.mean(axis = 1))\n",
        "        fit = stats.norm.pdf(out, np.mean(out), np.std(out))\n",
        "        axs[col].set_title(layer)\n",
        "        axs[col].hist(out, density = True)\n",
        "        axs[col].plot(out, fit, '-', color = 'red')\n",
        "    plt.show()"
      ],
      "execution_count": 38,
      "outputs": []
    },
    {
      "cell_type": "code",
      "metadata": {
        "colab": {
          "base_uri": "https://localhost:8080/",
          "height": 0
        },
        "id": "XNdqcY8tvdAP",
        "outputId": "f2c22be0-ee16-472a-a262-e7d14e0aff6b"
      },
      "source": [
        "plot_layer_dists(model_d)"
      ],
      "execution_count": 39,
      "outputs": [
        {
          "output_type": "display_data",
          "data": {
            "image/png": "[encoded data removed]",
            "text/plain": [
              "<Figure size 1440x216 with 4 Axes>"
            ]
          },
          "metadata": {
            "tags": [],
            "needs_background": "light"
          }
        }
      ]
    },
    {
      "cell_type": "markdown",
      "metadata": {
        "id": "RRyGd_mwiZcp"
      },
      "source": [
        "Como dá para ver, a distribuição em cada uma das camadas vai se afastando da média e se caracterizando por uma variância cada vez maior. Este fenômeno é chamado de _co-variate drift_. Uma forma de lidar com este problema é tentar aprender modelos que garantam que as saídas das camadas são sempre normalizadas, o que pode ser obtido usando, por exemplo, a técnica de Batch Normalization (BN). Em Keras, podemos usar BN como segue:"
      ]
    },
    {
      "cell_type": "code",
      "metadata": {
        "id": "I2hGb0U6NIzT"
      },
      "source": [
        "# BN\n",
        "model_input = keras.layers.Input(shape=(28, 28), name=\"images\")\n",
        "X = keras.layers.Flatten(name=\"input\")(model_input)\n",
        "\n",
        "for units, layer in [(300, 'h1'), (150, 'h2'), (100, 'h3'), (50, 'h4')]:\n",
        "    X = keras.layers.Dense(units)(X)\n",
        "    # BN é aplicado entre unidades e ativação\n",
        "    X = keras.layers.BatchNormalization(name = layer)(X)\n",
        "    X = keras.layers.Activation(\"elu\")(X)\n",
        "    X = keras.layers.Dropout(rate = 0.5)(X)\n",
        "\n",
        "yhat = keras.layers.Dense(10, activation=\"softmax\", name=\"output\")(X)\n",
        "\n",
        "model_bn = keras.models.Model(inputs=[model_input], outputs=[yhat])\n",
        "\n",
        "model_bn.compile(loss=\"sparse_categorical_crossentropy\",\n",
        "              optimizer=\"adam\",\n",
        "              metrics=[\"accuracy\"])"
      ],
      "execution_count": 40,
      "outputs": []
    },
    {
      "cell_type": "code",
      "metadata": {
        "colab": {
          "base_uri": "https://localhost:8080/",
          "height": 0
        },
        "id": "y5UHFhx2sNEe",
        "outputId": "34eaeea6-d49d-4ed3-e60c-a2470c67f984"
      },
      "source": [
        "history_bn = model_bn.fit(X_train, y_train, \n",
        "                    epochs=100, batch_size = 100,\n",
        "                    validation_data=(X_valid, y_valid), \n",
        "                    callbacks=[keras.callbacks.EarlyStopping(patience=5)])\n",
        "\n",
        "pd.DataFrame(history_bn.history)[['loss', 'val_loss']].plot(figsize=(8, 5))\n",
        "plt.grid(True)\n",
        "plt.show()"
      ],
      "execution_count": 41,
      "outputs": [
        {
          "output_type": "stream",
          "text": [
            "Epoch 1/100\n",
            "550/550 [==============================] - 3s 4ms/step - loss: 0.8869 - accuracy: 0.6939 - val_loss: 0.4572 - val_accuracy: 0.8362\n",
            "Epoch 2/100\n",
            "550/550 [==============================] - 2s 4ms/step - loss: 0.6143 - accuracy: 0.7921 - val_loss: 0.4197 - val_accuracy: 0.8544\n",
            "Epoch 3/100\n",
            "550/550 [==============================] - 2s 4ms/step - loss: 0.5584 - accuracy: 0.8113 - val_loss: 0.3988 - val_accuracy: 0.8600\n",
            "Epoch 4/100\n",
            "550/550 [==============================] - 2s 4ms/step - loss: 0.5258 - accuracy: 0.8227 - val_loss: 0.3757 - val_accuracy: 0.8670\n",
            "Epoch 5/100\n",
            "550/550 [==============================] - 2s 4ms/step - loss: 0.5077 - accuracy: 0.8296 - val_loss: 0.3888 - val_accuracy: 0.8594\n",
            "Epoch 6/100\n",
            "550/550 [==============================] - 2s 4ms/step - loss: 0.4930 - accuracy: 0.8337 - val_loss: 0.3958 - val_accuracy: 0.8576\n",
            "Epoch 7/100\n",
            "550/550 [==============================] - 2s 4ms/step - loss: 0.4772 - accuracy: 0.8387 - val_loss: 0.3647 - val_accuracy: 0.8696\n",
            "Epoch 8/100\n",
            "550/550 [==============================] - 2s 4ms/step - loss: 0.4679 - accuracy: 0.8413 - val_loss: 0.3792 - val_accuracy: 0.8640\n",
            "Epoch 9/100\n",
            "550/550 [==============================] - 2s 4ms/step - loss: 0.4579 - accuracy: 0.8436 - val_loss: 0.3624 - val_accuracy: 0.8690\n",
            "Epoch 10/100\n",
            "550/550 [==============================] - 2s 4ms/step - loss: 0.4518 - accuracy: 0.8468 - val_loss: 0.3508 - val_accuracy: 0.8712\n",
            "Epoch 11/100\n",
            "550/550 [==============================] - 2s 4ms/step - loss: 0.4468 - accuracy: 0.8481 - val_loss: 0.3517 - val_accuracy: 0.8722\n",
            "Epoch 12/100\n",
            "550/550 [==============================] - 2s 4ms/step - loss: 0.4350 - accuracy: 0.8517 - val_loss: 0.3468 - val_accuracy: 0.8724\n",
            "Epoch 13/100\n",
            "550/550 [==============================] - 2s 4ms/step - loss: 0.4299 - accuracy: 0.8546 - val_loss: 0.3536 - val_accuracy: 0.8710\n",
            "Epoch 14/100\n",
            "550/550 [==============================] - 2s 4ms/step - loss: 0.4235 - accuracy: 0.8551 - val_loss: 0.3407 - val_accuracy: 0.8752\n",
            "Epoch 15/100\n",
            "550/550 [==============================] - 2s 4ms/step - loss: 0.4205 - accuracy: 0.8566 - val_loss: 0.3354 - val_accuracy: 0.8784\n",
            "Epoch 16/100\n",
            "550/550 [==============================] - 2s 4ms/step - loss: 0.4162 - accuracy: 0.8583 - val_loss: 0.3428 - val_accuracy: 0.8784\n",
            "Epoch 17/100\n",
            "550/550 [==============================] - 2s 4ms/step - loss: 0.4137 - accuracy: 0.8593 - val_loss: 0.3265 - val_accuracy: 0.8788\n",
            "Epoch 18/100\n",
            "550/550 [==============================] - 2s 4ms/step - loss: 0.4044 - accuracy: 0.8628 - val_loss: 0.3247 - val_accuracy: 0.8794\n",
            "Epoch 19/100\n",
            "550/550 [==============================] - 2s 4ms/step - loss: 0.4048 - accuracy: 0.8620 - val_loss: 0.3256 - val_accuracy: 0.8800\n",
            "Epoch 20/100\n",
            "550/550 [==============================] - 2s 4ms/step - loss: 0.3967 - accuracy: 0.8648 - val_loss: 0.3302 - val_accuracy: 0.8808\n",
            "Epoch 21/100\n",
            "550/550 [==============================] - 2s 4ms/step - loss: 0.3914 - accuracy: 0.8664 - val_loss: 0.3178 - val_accuracy: 0.8832\n",
            "Epoch 22/100\n",
            "550/550 [==============================] - 2s 4ms/step - loss: 0.3892 - accuracy: 0.8679 - val_loss: 0.3375 - val_accuracy: 0.8788\n",
            "Epoch 23/100\n",
            "550/550 [==============================] - 2s 4ms/step - loss: 0.3851 - accuracy: 0.8688 - val_loss: 0.3351 - val_accuracy: 0.8806\n",
            "Epoch 24/100\n",
            "550/550 [==============================] - 2s 4ms/step - loss: 0.3826 - accuracy: 0.8687 - val_loss: 0.3219 - val_accuracy: 0.8836\n",
            "Epoch 25/100\n",
            "550/550 [==============================] - 2s 4ms/step - loss: 0.3762 - accuracy: 0.8723 - val_loss: 0.3238 - val_accuracy: 0.8842\n",
            "Epoch 26/100\n",
            "550/550 [==============================] - 2s 4ms/step - loss: 0.3781 - accuracy: 0.8710 - val_loss: 0.3253 - val_accuracy: 0.8852\n"
          ],
          "name": "stdout"
        },
        {
          "output_type": "display_data",
          "data": {
            "image/png": "[encoded data removed]",
            "text/plain": [
              "<Figure size 576x360 with 1 Axes>"
            ]
          },
          "metadata": {
            "tags": [],
            "needs_background": "light"
          }
        }
      ]
    },
    {
      "cell_type": "code",
      "metadata": {
        "colab": {
          "base_uri": "https://localhost:8080/",
          "height": 0
        },
        "id": "67SOs6fGwHpC",
        "outputId": "7972c264-53bf-4869-a614-d8c918ef10ee"
      },
      "source": [
        "plot_layer_dists(model_d)\n",
        "plot_layer_dists(model_bn)"
      ],
      "execution_count": 42,
      "outputs": [
        {
          "output_type": "display_data",
          "data": {
            "image/png": "[encoded data removed]",
            "text/plain": [
              "<Figure size 1440x216 with 4 Axes>"
            ]
          },
          "metadata": {
            "tags": [],
            "needs_background": "light"
          }
        },
        {
          "output_type": "display_data",
          "data": {
            "image/png": "[encoded data removed]",
            "text/plain": [
              "<Figure size 1440x216 with 4 Axes>"
            ]
          },
          "metadata": {
            "tags": [],
            "needs_background": "light"
          }
        }
      ]
    },
    {
      "cell_type": "markdown",
      "metadata": {
        "id": "-m7ro5rwjh7S"
      },
      "source": [
        "Note acima que, claramente, o modelo com BN mantem muito melhor a centralização na média e a escala ao longo das camadas. O resultado disso é um aprendizado mais rápido e, para o mesmo número de épocas, uma maior redução do erro:"
      ]
    },
    {
      "cell_type": "code",
      "metadata": {
        "colab": {
          "base_uri": "https://localhost:8080/",
          "height": 0
        },
        "id": "H1EBEOG3j5zm",
        "outputId": "d3da6ac6-b1b7-488a-b147-43f4e5d5305e"
      },
      "source": [
        "ax = pd.DataFrame(history.history)[['loss', 'val_loss']].plot(figsize=(8, 5))\n",
        "pd.DataFrame(history_bn.history)[['loss', 'val_loss']].plot(figsize=(8, 5), ax = ax)\n",
        "plt.legend(['loss', 'val_loss', 'BN loss', 'BN val_loss'])\n",
        "plt.grid(True)\n",
        "plt.show()"
      ],
      "execution_count": 43,
      "outputs": [
        {
          "output_type": "display_data",
          "data": {
            "image/png": "[encoded data removed]",
            "text/plain": [
              "<Figure size 576x360 with 1 Axes>"
            ]
          },
          "metadata": {
            "tags": [],
            "needs_background": "light"
          }
        }
      ]
    },
    {
      "cell_type": "markdown",
      "metadata": {
        "id": "g40NFpSFsl4H"
      },
      "source": [
        "#### Regularizadores\n",
        "\n",
        "Outros regularizadores comumente usados consistem em restrições ao conjunto de pesos adotados, aplicados diretamente sobre a função a ser minizada:\n",
        "\n",
        "$${\\bf w*} = \\arg \\min_{\\bf w} \\ell(\\hat{{\\bf y}}_{\\bf w}, {\\bf y}) + \\lambda \\mathcal{R}({\\bf w})$$\n",
        "\n",
        "No caso acima, $\\mathcal{R}$ indica o regularizador e $\\lambda$, a sua importância para o processo de minimização (o coeficiente de regularização). Alguns exemplos bem comuns destes regularizadores são:\n",
        "\n",
        "* L1 ou regularizador de Lasso: $\\mathcal{R}({\\bf w}) = \\lVert{\\bf w}\\rVert_1 = \\sum_j |w_j|$. O L1 tende a fazer o otimizador preferir conjuntos de pesos esparsos, ou seja, ele reduz pesos menos importantes até eles serem zero. \n",
        "* L2 ou regularizador de Ridge: $\\mathcal{R}({\\bf w}) = \\lVert{\\bf w}\\rVert_2^2 = \\sum_j w_j^2$. O L2 tende a punir muito pesos maiores, fazendo com que o otimizador prefira conjuntos de pesos similares.\n",
        "\n",
        "Como isso acontece?\n",
        "\n",
        "Imagine que você tem um vetor ${\\bf w} = (1, \\xi)$ com $\\xi > 0$ muito pequeno. Ao aplicar L1 e L2, você obtem $L1({\\bf w}) = 1 + \\xi$ e $L2({\\bf w}) = 1 + \\xi^2$. Imagine agora que você tem a opção de usar conjuntos de pesos menores (${\\bf w}'$ e ${\\bf w}'$) em que um dos componentes do peso será reduzido de $\\delta$, ou seja, ${\\bf w}' = (1 - \\delta, \\xi)$ e ${\\bf w}'' = (1, \\xi - \\delta)$. Qual o efeito da aplicação de L1 e L2 nesses casos?\n",
        "\n",
        "\\begin{align}\n",
        "L1({\\bf w}') &= 1 - \\delta + \\xi \\\\\n",
        "L1({\\bf w}'') &= 1 + \\xi - \\delta = L1({\\bf w}') \\\\\n",
        "L2({\\bf w}') &= (1 - \\delta)^2 + \\xi^2 = 1 + \\delta^2 + \\xi^2 - 2\\delta\\\\\n",
        "L2({\\bf w}'') &= 1 + (\\xi - \\delta)^2 = 1 + \\delta^2 + \\xi^2 - 2 \\xi \\delta > L2({\\bf w}')~\\text{se $\\xi$ é muito pequeno!}\\\\\n",
        "\\end{align}\n",
        "\n",
        "Observe que claramente que o L2 prefere não penalizar valores pequenos, o que resulta em vários pesos com algum valor relevante à medida que os valores maiores vão sendo penalizados. Já o L1 tende penalizar todos os pesos, menores e maiores, da mesma forma. No limite, ele faz os menores desaparecerem.\n",
        "\n",
        "Abaixo, vemos como incorporar regularizadores L1 e L2 à nossa primeira arquitetura desta aula:"
      ]
    },
    {
      "cell_type": "code",
      "metadata": {
        "id": "O8LByZtesajC"
      },
      "source": [
        "from keras import regularizers\n",
        "\n",
        "reg_lambda = 0.01\n",
        "L1 = regularizers.l1(reg_lambda)\n",
        "L2 = regularizers.l2(reg_lambda)"
      ],
      "execution_count": 44,
      "outputs": []
    },
    {
      "cell_type": "code",
      "metadata": {
        "colab": {
          "base_uri": "https://localhost:8080/"
        },
        "id": "IipItnP_slMj",
        "outputId": "ec082685-ab8f-4ee4-8ebd-4bc5ff78af75"
      },
      "source": [
        "model_input = keras.layers.Input(shape=(28, 28), name=\"images\")\n",
        "X = keras.layers.Flatten(name=\"input\")(model_input)\n",
        "X = keras.layers.Dense(300, activation=\"relu\", name=\"h1\", kernel_regularizer=L1)(X)\n",
        "X = keras.layers.Dense(100, activation=\"relu\", name=\"h2\", kernel_regularizer=L1)(X)\n",
        "yhat = keras.layers.Dense(10, activation=\"softmax\", name=\"output\")(X)\n",
        "\n",
        "model = keras.models.Model(inputs=[model_input], outputs=[yhat])\n",
        "\n",
        "model.compile(loss=\"sparse_categorical_crossentropy\",\n",
        "              optimizer=\"sgd\",\n",
        "              metrics=[\"accuracy\"])\n",
        "\n",
        "history_l1 = model.fit(X_train, y_train, \n",
        "                    epochs=100, batch_size = 100,\n",
        "                    validation_data=(X_valid, y_valid), \n",
        "                    callbacks=[keras.callbacks.EarlyStopping(patience=5)])"
      ],
      "execution_count": 45,
      "outputs": [
        {
          "output_type": "stream",
          "text": [
            "Epoch 1/100\n",
            "550/550 [==============================] - 2s 2ms/step - loss: 51.4661 - accuracy: 0.7481 - val_loss: 13.4181 - val_accuracy: 0.7742\n",
            "Epoch 2/100\n",
            "550/550 [==============================] - 1s 2ms/step - loss: 5.4831 - accuracy: 0.7135 - val_loss: 2.3845 - val_accuracy: 0.6980\n",
            "Epoch 3/100\n",
            "550/550 [==============================] - 1s 2ms/step - loss: 1.7792 - accuracy: 0.7193 - val_loss: 1.4888 - val_accuracy: 0.7482\n",
            "Epoch 4/100\n",
            "550/550 [==============================] - 1s 2ms/step - loss: 1.4103 - accuracy: 0.7451 - val_loss: 1.3309 - val_accuracy: 0.7700\n",
            "Epoch 5/100\n",
            "550/550 [==============================] - 1s 2ms/step - loss: 1.3106 - accuracy: 0.7608 - val_loss: 1.2616 - val_accuracy: 0.7746\n",
            "Epoch 6/100\n",
            "550/550 [==============================] - 1s 2ms/step - loss: 1.2581 - accuracy: 0.7716 - val_loss: 1.2252 - val_accuracy: 0.7792\n",
            "Epoch 7/100\n",
            "550/550 [==============================] - 1s 2ms/step - loss: 1.2207 - accuracy: 0.7782 - val_loss: 1.1866 - val_accuracy: 0.7882\n",
            "Epoch 8/100\n",
            "550/550 [==============================] - 1s 2ms/step - loss: 1.1919 - accuracy: 0.7814 - val_loss: 1.1664 - val_accuracy: 0.7862\n",
            "Epoch 9/100\n",
            "550/550 [==============================] - 1s 2ms/step - loss: 1.1699 - accuracy: 0.7852 - val_loss: 1.1535 - val_accuracy: 0.7870\n",
            "Epoch 10/100\n",
            "550/550 [==============================] - 1s 2ms/step - loss: 1.1506 - accuracy: 0.7869 - val_loss: 1.1419 - val_accuracy: 0.7922\n",
            "Epoch 11/100\n",
            "550/550 [==============================] - 1s 2ms/step - loss: 1.1373 - accuracy: 0.7883 - val_loss: 1.1199 - val_accuracy: 0.7992\n",
            "Epoch 12/100\n",
            "550/550 [==============================] - 1s 2ms/step - loss: 1.1245 - accuracy: 0.7873 - val_loss: 1.0977 - val_accuracy: 0.7968\n",
            "Epoch 13/100\n",
            "550/550 [==============================] - 1s 2ms/step - loss: 1.1131 - accuracy: 0.7899 - val_loss: 1.0868 - val_accuracy: 0.7966\n",
            "Epoch 14/100\n",
            "550/550 [==============================] - 1s 2ms/step - loss: 1.1010 - accuracy: 0.7923 - val_loss: 1.0815 - val_accuracy: 0.8008\n",
            "Epoch 15/100\n",
            "550/550 [==============================] - 1s 2ms/step - loss: 1.0958 - accuracy: 0.7913 - val_loss: 1.1123 - val_accuracy: 0.7894\n",
            "Epoch 16/100\n",
            "550/550 [==============================] - 1s 2ms/step - loss: 1.0846 - accuracy: 0.7926 - val_loss: 1.0530 - val_accuracy: 0.8050\n",
            "Epoch 17/100\n",
            "550/550 [==============================] - 1s 2ms/step - loss: 1.0782 - accuracy: 0.7928 - val_loss: 1.0659 - val_accuracy: 0.8014\n",
            "Epoch 18/100\n",
            "550/550 [==============================] - 1s 2ms/step - loss: 1.0738 - accuracy: 0.7925 - val_loss: 1.0634 - val_accuracy: 0.8000\n",
            "Epoch 19/100\n",
            "550/550 [==============================] - 1s 2ms/step - loss: 1.0674 - accuracy: 0.7921 - val_loss: 1.0392 - val_accuracy: 0.8074\n",
            "Epoch 20/100\n",
            "550/550 [==============================] - 1s 2ms/step - loss: 1.0625 - accuracy: 0.7929 - val_loss: 1.0314 - val_accuracy: 0.8072\n",
            "Epoch 21/100\n",
            "550/550 [==============================] - 1s 2ms/step - loss: 1.0607 - accuracy: 0.7914 - val_loss: 1.0302 - val_accuracy: 0.8052\n",
            "Epoch 22/100\n",
            "550/550 [==============================] - 1s 2ms/step - loss: 1.0557 - accuracy: 0.7934 - val_loss: 1.0259 - val_accuracy: 0.8088\n",
            "Epoch 23/100\n",
            "550/550 [==============================] - 1s 2ms/step - loss: 1.0532 - accuracy: 0.7929 - val_loss: 1.0665 - val_accuracy: 0.7874\n",
            "Epoch 24/100\n",
            "550/550 [==============================] - 1s 2ms/step - loss: 1.0469 - accuracy: 0.7938 - val_loss: 1.0552 - val_accuracy: 0.7906\n",
            "Epoch 25/100\n",
            "550/550 [==============================] - 1s 2ms/step - loss: 1.0478 - accuracy: 0.7938 - val_loss: 1.0098 - val_accuracy: 0.8128\n",
            "Epoch 26/100\n",
            "550/550 [==============================] - 1s 2ms/step - loss: 1.0423 - accuracy: 0.7934 - val_loss: 1.0466 - val_accuracy: 0.7960\n",
            "Epoch 27/100\n",
            "550/550 [==============================] - 1s 2ms/step - loss: 1.0391 - accuracy: 0.7928 - val_loss: 1.0339 - val_accuracy: 0.8000\n",
            "Epoch 28/100\n",
            "550/550 [==============================] - 1s 2ms/step - loss: 1.0375 - accuracy: 0.7925 - val_loss: 1.0292 - val_accuracy: 0.7984\n",
            "Epoch 29/100\n",
            "550/550 [==============================] - 1s 2ms/step - loss: 1.0369 - accuracy: 0.7913 - val_loss: 1.0071 - val_accuracy: 0.8050\n",
            "Epoch 30/100\n",
            "550/550 [==============================] - 1s 2ms/step - loss: 1.0332 - accuracy: 0.7929 - val_loss: 0.9884 - val_accuracy: 0.8168\n",
            "Epoch 31/100\n",
            "550/550 [==============================] - 1s 2ms/step - loss: 1.0271 - accuracy: 0.7937 - val_loss: 0.9898 - val_accuracy: 0.8114\n",
            "Epoch 32/100\n",
            "550/550 [==============================] - 1s 2ms/step - loss: 1.0241 - accuracy: 0.7937 - val_loss: 1.0766 - val_accuracy: 0.7800\n",
            "Epoch 33/100\n",
            "550/550 [==============================] - 1s 2ms/step - loss: 1.0220 - accuracy: 0.7945 - val_loss: 1.0050 - val_accuracy: 0.8056\n",
            "Epoch 34/100\n",
            "550/550 [==============================] - 1s 2ms/step - loss: 1.0218 - accuracy: 0.7928 - val_loss: 1.0001 - val_accuracy: 0.8056\n",
            "Epoch 35/100\n",
            "550/550 [==============================] - 1s 2ms/step - loss: 1.0217 - accuracy: 0.7923 - val_loss: 0.9825 - val_accuracy: 0.8116\n",
            "Epoch 36/100\n",
            "550/550 [==============================] - 1s 2ms/step - loss: 1.0188 - accuracy: 0.7941 - val_loss: 0.9988 - val_accuracy: 0.8104\n",
            "Epoch 37/100\n",
            "550/550 [==============================] - 1s 2ms/step - loss: 1.0100 - accuracy: 0.7954 - val_loss: 1.0697 - val_accuracy: 0.7698\n",
            "Epoch 38/100\n",
            "550/550 [==============================] - 1s 2ms/step - loss: 1.0147 - accuracy: 0.7939 - val_loss: 0.9874 - val_accuracy: 0.8086\n",
            "Epoch 39/100\n",
            "550/550 [==============================] - 1s 2ms/step - loss: 1.0099 - accuracy: 0.7930 - val_loss: 1.0010 - val_accuracy: 0.8026\n",
            "Epoch 40/100\n",
            "550/550 [==============================] - 1s 2ms/step - loss: 1.0062 - accuracy: 0.7931 - val_loss: 1.0397 - val_accuracy: 0.7932\n"
          ],
          "name": "stdout"
        }
      ]
    },
    {
      "cell_type": "code",
      "metadata": {
        "colab": {
          "base_uri": "https://localhost:8080/"
        },
        "id": "3J4J3wYKsy3o",
        "outputId": "e9a7fb73-5d74-4e59-f608-abc9c9f6dcff"
      },
      "source": [
        "model_input = keras.layers.Input(shape=(28, 28), name=\"images\")\n",
        "X = keras.layers.Flatten(name=\"input\")(model_input)\n",
        "X = keras.layers.Dense(300, activation=\"relu\", name=\"h1\", kernel_regularizer=L2)(X)\n",
        "X = keras.layers.Dense(100, activation=\"relu\", name=\"h2\", kernel_regularizer=L2)(X)\n",
        "yhat = keras.layers.Dense(10, activation=\"softmax\", name=\"output\")(X)\n",
        "\n",
        "model = keras.models.Model(inputs=[model_input], outputs=[yhat])\n",
        "model.compile(loss=\"sparse_categorical_crossentropy\",\n",
        "              optimizer=\"sgd\",\n",
        "              metrics=[\"accuracy\"])\n",
        "\n",
        "history_l2 = model.fit(X_train, y_train, \n",
        "                    epochs=100, batch_size = 100,\n",
        "                    validation_data=(X_valid, y_valid), \n",
        "                    callbacks=[keras.callbacks.EarlyStopping(patience=5)])"
      ],
      "execution_count": 46,
      "outputs": [
        {
          "output_type": "stream",
          "text": [
            "Epoch 1/100\n",
            "550/550 [==============================] - 2s 2ms/step - loss: 5.9376 - accuracy: 0.7709 - val_loss: 5.2173 - val_accuracy: 0.8272\n",
            "Epoch 2/100\n",
            "550/550 [==============================] - 1s 2ms/step - loss: 4.7224 - accuracy: 0.8340 - val_loss: 4.2494 - val_accuracy: 0.8520\n",
            "Epoch 3/100\n",
            "550/550 [==============================] - 1s 2ms/step - loss: 3.8710 - accuracy: 0.8459 - val_loss: 3.5078 - val_accuracy: 0.8572\n",
            "Epoch 4/100\n",
            "550/550 [==============================] - 1s 2ms/step - loss: 3.1983 - accuracy: 0.8532 - val_loss: 2.9020 - val_accuracy: 0.8640\n",
            "Epoch 5/100\n",
            "550/550 [==============================] - 1s 2ms/step - loss: 2.6628 - accuracy: 0.8580 - val_loss: 2.4321 - val_accuracy: 0.8628\n",
            "Epoch 6/100\n",
            "550/550 [==============================] - 1s 2ms/step - loss: 2.2341 - accuracy: 0.8612 - val_loss: 2.0475 - val_accuracy: 0.8672\n",
            "Epoch 7/100\n",
            "550/550 [==============================] - 1s 2ms/step - loss: 1.8908 - accuracy: 0.8631 - val_loss: 1.7392 - val_accuracy: 0.8686\n",
            "Epoch 8/100\n",
            "550/550 [==============================] - 1s 2ms/step - loss: 1.6159 - accuracy: 0.8665 - val_loss: 1.4987 - val_accuracy: 0.8662\n",
            "Epoch 9/100\n",
            "550/550 [==============================] - 1s 2ms/step - loss: 1.3955 - accuracy: 0.8674 - val_loss: 1.2996 - val_accuracy: 0.8688\n",
            "Epoch 10/100\n",
            "550/550 [==============================] - 1s 2ms/step - loss: 1.2179 - accuracy: 0.8681 - val_loss: 1.1423 - val_accuracy: 0.8696\n",
            "Epoch 11/100\n",
            "550/550 [==============================] - 1s 2ms/step - loss: 1.0748 - accuracy: 0.8697 - val_loss: 1.0137 - val_accuracy: 0.8718\n",
            "Epoch 12/100\n",
            "550/550 [==============================] - 1s 2ms/step - loss: 0.9602 - accuracy: 0.8706 - val_loss: 0.9107 - val_accuracy: 0.8694\n",
            "Epoch 13/100\n",
            "550/550 [==============================] - 1s 2ms/step - loss: 0.8673 - accuracy: 0.8716 - val_loss: 0.8347 - val_accuracy: 0.8690\n",
            "Epoch 14/100\n",
            "550/550 [==============================] - 1s 2ms/step - loss: 0.7926 - accuracy: 0.8709 - val_loss: 0.7676 - val_accuracy: 0.8678\n",
            "Epoch 15/100\n",
            "550/550 [==============================] - 1s 2ms/step - loss: 0.7320 - accuracy: 0.8737 - val_loss: 0.7118 - val_accuracy: 0.8660\n",
            "Epoch 16/100\n",
            "550/550 [==============================] - 1s 2ms/step - loss: 0.6825 - accuracy: 0.8739 - val_loss: 0.6638 - val_accuracy: 0.8690\n",
            "Epoch 17/100\n",
            "550/550 [==============================] - 1s 2ms/step - loss: 0.6430 - accuracy: 0.8742 - val_loss: 0.6276 - val_accuracy: 0.8716\n",
            "Epoch 18/100\n",
            "550/550 [==============================] - 1s 2ms/step - loss: 0.6103 - accuracy: 0.8750 - val_loss: 0.6138 - val_accuracy: 0.8684\n",
            "Epoch 19/100\n",
            "550/550 [==============================] - 1s 2ms/step - loss: 0.5841 - accuracy: 0.8751 - val_loss: 0.5757 - val_accuracy: 0.8708\n",
            "Epoch 20/100\n",
            "550/550 [==============================] - 1s 2ms/step - loss: 0.5618 - accuracy: 0.8763 - val_loss: 0.5596 - val_accuracy: 0.8746\n",
            "Epoch 21/100\n",
            "550/550 [==============================] - 1s 2ms/step - loss: 0.5438 - accuracy: 0.8782 - val_loss: 0.5450 - val_accuracy: 0.8728\n",
            "Epoch 22/100\n",
            "550/550 [==============================] - 1s 2ms/step - loss: 0.5285 - accuracy: 0.8776 - val_loss: 0.5276 - val_accuracy: 0.8760\n",
            "Epoch 23/100\n",
            "550/550 [==============================] - 1s 2ms/step - loss: 0.5167 - accuracy: 0.8789 - val_loss: 0.5200 - val_accuracy: 0.8732\n",
            "Epoch 24/100\n",
            "550/550 [==============================] - 1s 2ms/step - loss: 0.5056 - accuracy: 0.8789 - val_loss: 0.5173 - val_accuracy: 0.8748\n",
            "Epoch 25/100\n",
            "550/550 [==============================] - 1s 2ms/step - loss: 0.4973 - accuracy: 0.8803 - val_loss: 0.5077 - val_accuracy: 0.8714\n",
            "Epoch 26/100\n",
            "550/550 [==============================] - 1s 2ms/step - loss: 0.4907 - accuracy: 0.8807 - val_loss: 0.5035 - val_accuracy: 0.8716\n",
            "Epoch 27/100\n",
            "550/550 [==============================] - 1s 2ms/step - loss: 0.4845 - accuracy: 0.8808 - val_loss: 0.4880 - val_accuracy: 0.8794\n",
            "Epoch 28/100\n",
            "550/550 [==============================] - 1s 2ms/step - loss: 0.4787 - accuracy: 0.8813 - val_loss: 0.4883 - val_accuracy: 0.8794\n",
            "Epoch 29/100\n",
            "550/550 [==============================] - 1s 2ms/step - loss: 0.4740 - accuracy: 0.8829 - val_loss: 0.4797 - val_accuracy: 0.8760\n",
            "Epoch 30/100\n",
            "550/550 [==============================] - 1s 2ms/step - loss: 0.4705 - accuracy: 0.8825 - val_loss: 0.4763 - val_accuracy: 0.8788\n",
            "Epoch 31/100\n",
            "550/550 [==============================] - 1s 2ms/step - loss: 0.4662 - accuracy: 0.8831 - val_loss: 0.4897 - val_accuracy: 0.8682\n",
            "Epoch 32/100\n",
            "550/550 [==============================] - 1s 2ms/step - loss: 0.4633 - accuracy: 0.8833 - val_loss: 0.4697 - val_accuracy: 0.8766\n",
            "Epoch 33/100\n",
            "550/550 [==============================] - 1s 2ms/step - loss: 0.4602 - accuracy: 0.8839 - val_loss: 0.4711 - val_accuracy: 0.8824\n",
            "Epoch 34/100\n",
            "550/550 [==============================] - 1s 2ms/step - loss: 0.4592 - accuracy: 0.8831 - val_loss: 0.4716 - val_accuracy: 0.8796\n",
            "Epoch 35/100\n",
            "550/550 [==============================] - 1s 2ms/step - loss: 0.4568 - accuracy: 0.8849 - val_loss: 0.4712 - val_accuracy: 0.8768\n",
            "Epoch 36/100\n",
            "550/550 [==============================] - 1s 2ms/step - loss: 0.4545 - accuracy: 0.8850 - val_loss: 0.4685 - val_accuracy: 0.8768\n",
            "Epoch 37/100\n",
            "550/550 [==============================] - 1s 2ms/step - loss: 0.4525 - accuracy: 0.8854 - val_loss: 0.4612 - val_accuracy: 0.8804\n",
            "Epoch 38/100\n",
            "550/550 [==============================] - 1s 2ms/step - loss: 0.4503 - accuracy: 0.8862 - val_loss: 0.4740 - val_accuracy: 0.8780\n",
            "Epoch 39/100\n",
            "550/550 [==============================] - 1s 2ms/step - loss: 0.4485 - accuracy: 0.8859 - val_loss: 0.4614 - val_accuracy: 0.8788\n",
            "Epoch 40/100\n",
            "550/550 [==============================] - 1s 2ms/step - loss: 0.4473 - accuracy: 0.8862 - val_loss: 0.4627 - val_accuracy: 0.8784\n",
            "Epoch 41/100\n",
            "550/550 [==============================] - 1s 2ms/step - loss: 0.4455 - accuracy: 0.8869 - val_loss: 0.4534 - val_accuracy: 0.8808\n",
            "Epoch 42/100\n",
            "550/550 [==============================] - 1s 2ms/step - loss: 0.4447 - accuracy: 0.8859 - val_loss: 0.4634 - val_accuracy: 0.8746\n",
            "Epoch 43/100\n",
            "550/550 [==============================] - 1s 2ms/step - loss: 0.4429 - accuracy: 0.8867 - val_loss: 0.4668 - val_accuracy: 0.8792\n",
            "Epoch 44/100\n",
            "550/550 [==============================] - 1s 2ms/step - loss: 0.4412 - accuracy: 0.8890 - val_loss: 0.4565 - val_accuracy: 0.8804\n",
            "Epoch 45/100\n",
            "550/550 [==============================] - 1s 2ms/step - loss: 0.4406 - accuracy: 0.8880 - val_loss: 0.4638 - val_accuracy: 0.8770\n",
            "Epoch 46/100\n",
            "550/550 [==============================] - 1s 2ms/step - loss: 0.4396 - accuracy: 0.8889 - val_loss: 0.4524 - val_accuracy: 0.8838\n",
            "Epoch 47/100\n",
            "550/550 [==============================] - 1s 2ms/step - loss: 0.4379 - accuracy: 0.8884 - val_loss: 0.4530 - val_accuracy: 0.8846\n",
            "Epoch 48/100\n",
            "550/550 [==============================] - 1s 2ms/step - loss: 0.4367 - accuracy: 0.8886 - val_loss: 0.4578 - val_accuracy: 0.8844\n",
            "Epoch 49/100\n",
            "550/550 [==============================] - 1s 2ms/step - loss: 0.4357 - accuracy: 0.8895 - val_loss: 0.4483 - val_accuracy: 0.8838\n",
            "Epoch 50/100\n",
            "550/550 [==============================] - 1s 2ms/step - loss: 0.4359 - accuracy: 0.8890 - val_loss: 0.4609 - val_accuracy: 0.8812\n",
            "Epoch 51/100\n",
            "550/550 [==============================] - 1s 2ms/step - loss: 0.4344 - accuracy: 0.8897 - val_loss: 0.4725 - val_accuracy: 0.8734\n",
            "Epoch 52/100\n",
            "550/550 [==============================] - 1s 2ms/step - loss: 0.4332 - accuracy: 0.8901 - val_loss: 0.4533 - val_accuracy: 0.8796\n",
            "Epoch 53/100\n",
            "550/550 [==============================] - 1s 2ms/step - loss: 0.4320 - accuracy: 0.8915 - val_loss: 0.4524 - val_accuracy: 0.8816\n",
            "Epoch 54/100\n",
            "550/550 [==============================] - 1s 2ms/step - loss: 0.4314 - accuracy: 0.8903 - val_loss: 0.4560 - val_accuracy: 0.8816\n"
          ],
          "name": "stdout"
        }
      ]
    },
    {
      "cell_type": "code",
      "metadata": {
        "colab": {
          "base_uri": "https://localhost:8080/",
          "height": 0
        },
        "id": "v9aOdLVilDUS",
        "outputId": "a80cb54d-ce14-40c3-baa1-9d6584ad2456"
      },
      "source": [
        "ax = pd.DataFrame(history_l1.history)[['loss', 'val_loss']].plot(figsize=(8, 5))\n",
        "pd.DataFrame(history_l2.history)[['loss', 'val_loss']].plot(figsize=(8, 5), ax = ax)\n",
        "plt.legend(['L1 loss', 'L1 val_loss', 'L2 loss', 'L2 val_loss'])\n",
        "plt.grid(True)\n",
        "plt.show()"
      ],
      "execution_count": 47,
      "outputs": [
        {
          "output_type": "display_data",
          "data": {
            "image/png": "[encoded data removed]",
            "text/plain": [
              "<Figure size 576x360 with 1 Axes>"
            ]
          },
          "metadata": {
            "tags": [],
            "needs_background": "light"
          }
        }
      ]
    },
    {
      "cell_type": "markdown",
      "metadata": {
        "id": "NGW-E3Dms_Rr"
      },
      "source": [
        "### Codificador\n",
        "\n",
        "Se redes neurais modificam o espaço de forma que cada camada facilita a separação linear das classes, é de se esperar que as representações de duas entradas da mesma classe, em uma camada profunda de uma rede neural, sejam similares. De certo forma, é como se a codificação destas entradas ganhassem uma natureza conceitual. Para verificarmos esta ideia, vamos construir um novo modelo (chamado _codificador_), a partir do anterior, em que a camada de saída corresponde à camada h2 daquele modelo:"
      ]
    },
    {
      "cell_type": "code",
      "metadata": {
        "id": "Ff7Fzbpds8U0"
      },
      "source": [
        "codificador = keras.models.Model(inputs = model.input, \n",
        "                                 outputs = model.get_layer('h2').output)"
      ],
      "execution_count": 48,
      "outputs": []
    },
    {
      "cell_type": "code",
      "metadata": {
        "colab": {
          "base_uri": "https://localhost:8080/"
        },
        "id": "fTbeTthFtY7y",
        "outputId": "f20a4148-f47c-4435-b6ed-8018e47fd4cc"
      },
      "source": [
        "Xt_codes = codificador.predict(X_test)\n",
        "Xt_codes.round(2)"
      ],
      "execution_count": 49,
      "outputs": [
        {
          "output_type": "execute_result",
          "data": {
            "text/plain": [
              "array([[ 2.18,  0.  ,  0.  , ..., 28.9 ,  0.  ,  0.  ],\n",
              "       [ 6.94, 38.95, 34.57, ...,  3.95,  0.  , 62.37],\n",
              "       [68.05, 77.69, 12.35, ...,  1.49,  1.87, 77.01],\n",
              "       ...,\n",
              "       [29.09,  0.  , 22.62, ...,  0.  ,  0.  ,  0.  ],\n",
              "       [49.22, 78.04,  3.29, ...,  6.53, 11.  , 65.4 ],\n",
              "       [ 0.71,  0.  ,  4.57, ...,  8.91,  1.21,  3.09]], dtype=float32)"
            ]
          },
          "metadata": {
            "tags": []
          },
          "execution_count": 49
        }
      ]
    },
    {
      "cell_type": "code",
      "metadata": {
        "colab": {
          "base_uri": "https://localhost:8080/"
        },
        "id": "n6rePF20tcBY",
        "outputId": "17554f9e-6f30-4569-85d6-259b776feb23"
      },
      "source": [
        "Xt_codes.shape"
      ],
      "execution_count": 50,
      "outputs": [
        {
          "output_type": "execute_result",
          "data": {
            "text/plain": [
              "(10000, 100)"
            ]
          },
          "metadata": {
            "tags": []
          },
          "execution_count": 50
        }
      ]
    },
    {
      "cell_type": "markdown",
      "metadata": {
        "id": "-zaz1MonmEUD"
      },
      "source": [
        "Vamos agora armazenar estes pontos de forma a podermos recuperá-los de acordo com suas distâncias (usando uma kd-tree):"
      ]
    },
    {
      "cell_type": "code",
      "metadata": {
        "colab": {
          "base_uri": "https://localhost:8080/"
        },
        "id": "KtovS12Dtipw",
        "outputId": "8e84429f-5fc3-4594-ba2c-a54886b9c3a4"
      },
      "source": [
        "nbrs = NearestNeighbors(n_neighbors=10, algorithm='kd_tree')\n",
        "nbrs.fit(Xt_codes)"
      ],
      "execution_count": 51,
      "outputs": [
        {
          "output_type": "execute_result",
          "data": {
            "text/plain": [
              "NearestNeighbors(algorithm='kd_tree', leaf_size=30, metric='minkowski',\n",
              "                 metric_params=None, n_jobs=None, n_neighbors=10, p=2,\n",
              "                 radius=1.0)"
            ]
          },
          "metadata": {
            "tags": []
          },
          "execution_count": 51
        }
      ]
    },
    {
      "cell_type": "markdown",
      "metadata": {
        "id": "Dhhv93MYmHHV"
      },
      "source": [
        "Se tomarmos um ponto aleatório entre os 1000 de testes e procurarmos seus 10 vizinhos mais próximos, observamos o seguinte:"
      ]
    },
    {
      "cell_type": "code",
      "metadata": {
        "colab": {
          "base_uri": "https://localhost:8080/",
          "height": 324
        },
        "id": "tvD6Csoitk2t",
        "outputId": "9095d185-01d2-49ea-d0a5-d4e509035536"
      },
      "source": [
        "r = np.random.randint(0, Xt_codes.shape[0], 1)[0]\n",
        "_, indices = nbrs.kneighbors(Xt_codes[r].reshape(1,-1))\n",
        "plotimages([X_test[r] for r in indices[0]], n_row = 2, n_col = 5)"
      ],
      "execution_count": 52,
      "outputs": [
        {
          "output_type": "display_data",
          "data": {
            "image/png": "[encoded data removed]",
            "text/plain": [
              "<Figure size 864x432 with 10 Axes>"
            ]
          },
          "metadata": {
            "tags": [],
            "needs_background": "light"
          }
        }
      ]
    },
    {
      "cell_type": "markdown",
      "metadata": {
        "id": "JcR2sAv3mOOr"
      },
      "source": [
        "O que confirma a ideia de que as representações de imagens semelhantes são semelhantes, ou seja, o espaço está \"organizado\" de forma que objetos semelhantes ocorrem perto uns dos outros!"
      ]
    },
    {
      "cell_type": "code",
      "metadata": {
        "id": "p01nrP4ctn22"
      },
      "source": [
        ""
      ],
      "execution_count": 52,
      "outputs": []
    }
  ]
}